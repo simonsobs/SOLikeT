{
 "cells": [
  {
   "cell_type": "code",
   "execution_count": 1,
   "metadata": {},
   "outputs": [],
   "source": [
    "from cobaya.model import get_model\n",
    "from cobaya.yaml import yaml_load_file"
   ]
  },
  {
   "cell_type": "code",
   "execution_count": 8,
   "metadata": {},
   "outputs": [],
   "source": [
    "info_cmblens=yaml_load_file('info_yaml_cmblens.yaml')\n",
    "info_full=yaml_load_file('info_yaml_full.yaml')"
   ]
  },
  {
   "cell_type": "code",
   "execution_count": 9,
   "metadata": {},
   "outputs": [
    {
     "name": "stdout",
     "output_type": "stream",
     "text": [
      "[model] *WARNING* Ignored blocks/options: ['sampler']\n",
      "[camb] Importing *local* CAMB from /Users/martina/Documents/University/Codici/cobaya_modules/code/CAMB/\n",
      "[solike.mflike.mflike] Initialising.\n",
      "[model] *WARNING* Ignored blocks/options: ['sampler']\n",
      "[camb] Importing *local* CAMB from /Users/martina/Documents/University/Codici/cobaya_modules/code/CAMB/\n",
      "[solike.mflike.mflike] Initialising.\n"
     ]
    }
   ],
   "source": [
    "model_cmblens=get_model(info_cmblens)\n",
    "model_full=get_model(info_full)"
   ]
  },
  {
   "cell_type": "markdown",
   "metadata": {},
   "source": [
    "There is a difference on how input and sampled parameters are added to model likelihoods if one uses the multi-gaussian framework (full) or piles up individual likelihoods (mflike+lensing, tagged cmblens). In the cmblens case, the sampled parameters are all loaded correctly. In the full case, parameterization.sampled_params() only includes cosmological params (no nuisance). Same as input_params, with the only difference that input_params includes fixed nuisance (fixed in the info_yaml) for the full case. See next cells. I believe this prevents the full case to work correctly in a MCMC. "
   ]
  },
  {
   "cell_type": "code",
   "execution_count": 10,
   "metadata": {},
   "outputs": [
    {
     "data": {
      "text/plain": [
       "(OrderedDict([('cosmomc_theta', None),\n",
       "              ('logA', None),\n",
       "              ('ns', None),\n",
       "              ('ombh2', None),\n",
       "              ('omch2', None),\n",
       "              ('Alens', None),\n",
       "              ('tau', None),\n",
       "              ('a_tSZ', None),\n",
       "              ('a_kSZ', None),\n",
       "              ('a_p', None),\n",
       "              ('beta_p', None),\n",
       "              ('a_c', None),\n",
       "              ('beta_c', None),\n",
       "              ('a_s', None)]),\n",
       " OrderedDict([('cosmomc_theta', None),\n",
       "              ('logA', None),\n",
       "              ('ns', None),\n",
       "              ('ombh2', None),\n",
       "              ('omch2', None),\n",
       "              ('Alens', None),\n",
       "              ('tau', None)]))"
      ]
     },
     "execution_count": 10,
     "metadata": {},
     "output_type": "execute_result"
    }
   ],
   "source": [
    "model_cmblens.parameterization.sampled_params(), model_full.parameterization.sampled_params()"
   ]
  },
  {
   "cell_type": "code",
   "execution_count": 5,
   "metadata": {},
   "outputs": [
    {
     "data": {
      "text/plain": [
       "(OrderedDict([('cosmomc_theta', None),\n",
       "              ('As', None),\n",
       "              ('ns', None),\n",
       "              ('ombh2', None),\n",
       "              ('omch2', None),\n",
       "              ('Alens', None),\n",
       "              ('tau', None),\n",
       "              ('n_CIBC', 1.2),\n",
       "              ('T_d', 9.6),\n",
       "              ('a_tSZ', None),\n",
       "              ('a_kSZ', None),\n",
       "              ('a_p', None),\n",
       "              ('beta_p', None),\n",
       "              ('a_c', None),\n",
       "              ('beta_c', None),\n",
       "              ('a_s', None)]),\n",
       " OrderedDict([('cosmomc_theta', None),\n",
       "              ('As', None),\n",
       "              ('ns', None),\n",
       "              ('ombh2', None),\n",
       "              ('omch2', None),\n",
       "              ('Alens', None),\n",
       "              ('tau', None)]))"
      ]
     },
     "execution_count": 5,
     "metadata": {},
     "output_type": "execute_result"
    }
   ],
   "source": [
    "model_cmblens.parameterization.input_params(), model_full.parameterization.input_params()"
   ]
  },
  {
   "cell_type": "markdown",
   "metadata": {},
   "source": [
    "If we now look at individual likelihood components, the input_params are different. In the cmblens case, mflike correctly has all nuisance (varying and fixed). In the full case, mflike only has those nuisance that are fixed in the info yaml."
   ]
  },
  {
   "cell_type": "code",
   "execution_count": 6,
   "metadata": {},
   "outputs": [],
   "source": [
    "mf_cmblens=model_cmblens.components[0]\n",
    "lens_cmblens=model_cmblens.components[1]\n",
    "mf_full=model_full.components[0]\n",
    "lens_full=model_full.components[1]"
   ]
  },
  {
   "cell_type": "code",
   "execution_count": 7,
   "metadata": {},
   "outputs": [
    {
     "data": {
      "text/plain": [
       "(['n_CIBC', 'T_d', 'a_tSZ', 'a_kSZ', 'a_p', 'beta_p', 'a_c', 'beta_c', 'a_s'],\n",
       " [])"
      ]
     },
     "execution_count": 7,
     "metadata": {},
     "output_type": "execute_result"
    }
   ],
   "source": [
    "mf_cmblens.input_params, mf_full.input_params"
   ]
  },
  {
   "cell_type": "markdown",
   "metadata": {},
   "source": [
    "As far as lensing is concerned, in the cmblens case it does not have any input_params associated (as it should, since there is no nuisance so far directly related to lensing, I believe). In the full case, the input_params has all cosmological params in it."
   ]
  },
  {
   "cell_type": "code",
   "execution_count": 9,
   "metadata": {},
   "outputs": [
    {
     "data": {
      "text/plain": [
       "([], ['cosmomc_theta', 'ombh2', 'omch2', 'Alens', 'tau'])"
      ]
     },
     "execution_count": 9,
     "metadata": {},
     "output_type": "execute_result"
    }
   ],
   "source": [
    "lens_cmblens.input_params, lens_full.input_params"
   ]
  },
  {
   "cell_type": "code",
   "execution_count": 10,
   "metadata": {},
   "outputs": [
    {
     "data": {
      "text/plain": [
       "(OrderedDict([('a_tSZ',\n",
       "               OrderedDict([('prior',\n",
       "                             OrderedDict([('min', 3.0), ('max', 3.6)])),\n",
       "                            ('proposal', 0.05),\n",
       "                            ('latex', 'a_\\\\mathrm{tSZ}')])),\n",
       "              ('a_kSZ',\n",
       "               OrderedDict([('prior',\n",
       "                             OrderedDict([('min', 1.4), ('max', 1.8)])),\n",
       "                            ('proposal', 0.1),\n",
       "                            ('latex', 'a_\\\\mathrm{kSZ}')])),\n",
       "              ('a_p',\n",
       "               OrderedDict([('prior',\n",
       "                             OrderedDict([('min', 6.2), ('max', 7.6)])),\n",
       "                            ('proposal', 0.075),\n",
       "                            ('latex', 'a_p')])),\n",
       "              ('beta_p',\n",
       "               OrderedDict([('prior',\n",
       "                             OrderedDict([('min', 1.8), ('max', 2.2)])),\n",
       "                            ('proposal', 0.015),\n",
       "                            ('latex', '\\\\beta_p')])),\n",
       "              ('a_c',\n",
       "               OrderedDict([('prior',\n",
       "                             OrderedDict([('min', 4.4), ('max', 5.4)])),\n",
       "                            ('proposal', 0.12),\n",
       "                            ('latex', 'a_c')])),\n",
       "              ('beta_c',\n",
       "               OrderedDict([('prior',\n",
       "                             OrderedDict([('min', 2.0), ('max', 2.4)])),\n",
       "                            ('proposal', 0.03),\n",
       "                            ('latex', '\\\\beta_c')])),\n",
       "              ('n_CIBC',\n",
       "               OrderedDict([('prior',\n",
       "                             OrderedDict([('min', 1.0), ('max', 1.4)])),\n",
       "                            ('proposal', 0.045),\n",
       "                            ('latex', 'n_\\\\mathrm{CIBC}')])),\n",
       "              ('a_s',\n",
       "               OrderedDict([('prior',\n",
       "                             OrderedDict([('min', 2.8), ('max', 3.4)])),\n",
       "                            ('proposal', 0.01),\n",
       "                            ('latex', 'a_s')])),\n",
       "              ('T_d',\n",
       "               OrderedDict([('prior',\n",
       "                             OrderedDict([('min', 8.6), ('max', 10.6)])),\n",
       "                            ('proposal', 0.6),\n",
       "                            ('latex', 'T_d')]))]),\n",
       " OrderedDict([('a_tSZ',\n",
       "               OrderedDict([('prior',\n",
       "                             OrderedDict([('min', 3.0), ('max', 3.6)])),\n",
       "                            ('proposal', 0.05),\n",
       "                            ('latex', 'a_\\\\mathrm{tSZ}')])),\n",
       "              ('a_kSZ',\n",
       "               OrderedDict([('prior',\n",
       "                             OrderedDict([('min', 1.4), ('max', 1.8)])),\n",
       "                            ('proposal', 0.1),\n",
       "                            ('latex', 'a_\\\\mathrm{kSZ}')])),\n",
       "              ('a_p',\n",
       "               OrderedDict([('prior',\n",
       "                             OrderedDict([('min', 6.2), ('max', 7.6)])),\n",
       "                            ('proposal', 0.075),\n",
       "                            ('latex', 'a_p')])),\n",
       "              ('beta_p',\n",
       "               OrderedDict([('prior',\n",
       "                             OrderedDict([('min', 1.8), ('max', 2.2)])),\n",
       "                            ('proposal', 0.015),\n",
       "                            ('latex', '\\\\beta_p')])),\n",
       "              ('a_c',\n",
       "               OrderedDict([('prior',\n",
       "                             OrderedDict([('min', 4.4), ('max', 5.4)])),\n",
       "                            ('proposal', 0.12),\n",
       "                            ('latex', 'a_c')])),\n",
       "              ('beta_c',\n",
       "               OrderedDict([('prior',\n",
       "                             OrderedDict([('min', 2.0), ('max', 2.4)])),\n",
       "                            ('proposal', 0.03),\n",
       "                            ('latex', '\\\\beta_c')])),\n",
       "              ('n_CIBC',\n",
       "               OrderedDict([('prior',\n",
       "                             OrderedDict([('min', 1.0), ('max', 1.4)])),\n",
       "                            ('proposal', 0.045),\n",
       "                            ('latex', 'n_\\\\mathrm{CIBC}')])),\n",
       "              ('a_s',\n",
       "               OrderedDict([('prior',\n",
       "                             OrderedDict([('min', 2.8), ('max', 3.4)])),\n",
       "                            ('proposal', 0.01),\n",
       "                            ('latex', 'a_s')])),\n",
       "              ('T_d',\n",
       "               OrderedDict([('prior',\n",
       "                             OrderedDict([('min', 8.6), ('max', 10.6)])),\n",
       "                            ('proposal', 0.6),\n",
       "                            ('latex', 'T_d')]))]))"
      ]
     },
     "execution_count": 10,
     "metadata": {},
     "output_type": "execute_result"
    }
   ],
   "source": [
    "mf_cmblens.params, mf_full.params"
   ]
  },
  {
   "cell_type": "code",
   "execution_count": 11,
   "metadata": {},
   "outputs": [
    {
     "data": {
      "text/plain": [
       "(['cosmomc_theta',\n",
       "  'As',\n",
       "  'ns',\n",
       "  'ombh2',\n",
       "  'omch2',\n",
       "  'Alens',\n",
       "  'tau',\n",
       "  'n_CIBC',\n",
       "  'T_d',\n",
       "  'a_tSZ',\n",
       "  'a_kSZ',\n",
       "  'a_p',\n",
       "  'beta_p',\n",
       "  'a_c',\n",
       "  'beta_c',\n",
       "  'a_s'],\n",
       " ['cosmomc_theta',\n",
       "  'As',\n",
       "  'ns',\n",
       "  'ombh2',\n",
       "  'omch2',\n",
       "  'Alens',\n",
       "  'tau',\n",
       "  'n_CIBC',\n",
       "  'T_d'])"
      ]
     },
     "execution_count": 11,
     "metadata": {},
     "output_type": "execute_result"
    }
   ],
   "source": [
    "model_cmblens.input_params, model_full.input_params"
   ]
  },
  {
   "cell_type": "markdown",
   "metadata": {},
   "source": [
    "If I now access the input_params argument of the multi-gaussian likelihood, I should see all input params for all likelihoods (I guess), i.e. all nuisance. Instead, I only see those nuisance fixed in the info yaml (the same nuisance I see if I access the input_params argument of the component mflike). I thought I should see the sum of all input_params of all components (mflike and lensing), but I only see those form mflike. "
   ]
  },
  {
   "cell_type": "code",
   "execution_count": 12,
   "metadata": {},
   "outputs": [
    {
     "data": {
      "text/plain": [
       "solike.gaussian.MultiGaussianLikelihood"
      ]
     },
     "execution_count": 12,
     "metadata": {},
     "output_type": "execute_result"
    }
   ],
   "source": [
    "multig=model_full.components[0]\n",
    "multig"
   ]
  },
  {
   "cell_type": "code",
   "execution_count": 13,
   "metadata": {},
   "outputs": [
    {
     "data": {
      "text/plain": [
       "(['n_CIBC', 'T_d'],\n",
       " ['n_CIBC', 'T_d'],\n",
       " ['cosmomc_theta', 'ombh2', 'omch2', 'Alens', 'tau'])"
      ]
     },
     "execution_count": 13,
     "metadata": {},
     "output_type": "execute_result"
    }
   ],
   "source": [
    "multig.input_params, mf_full.input_params, lens_full.input_params"
   ]
  },
  {
   "cell_type": "markdown",
   "metadata": {},
   "source": [
    "Let's now try to compute the loglike. I define a point:"
   ]
  },
  {
   "cell_type": "code",
   "execution_count": 14,
   "metadata": {},
   "outputs": [],
   "source": [
    "point=({'cosmomc_theta': 0.010494998852840933, 'logA': 3.162264731376158, 'ns': 0.9932413477950633, \n",
    "        'ombh2': 0.017367921092627116, 'omch2': 0.14101557864954728, 'Alens': 0.6964645133740484, \n",
    "        'tau': 0.05364711120741492, 'a_tSZ': 3.350883132982168, 'a_kSZ': 1.664578437073561, \n",
    "        'a_p': 7.06446968084832, 'beta_p': 2.1410226683881706, 'a_c': 4.7968238875183, \n",
    "        'beta_c': 2.2734481216978546, 'a_s': 3.384387972460651})"
   ]
  },
  {
   "cell_type": "markdown",
   "metadata": {},
   "source": [
    "And compute the loglikes in both the cmblens case (individual loglikes for mflike and lensing, followed by values of derived params; full loglike followed by derived params):"
   ]
  },
  {
   "cell_type": "code",
   "execution_count": 15,
   "metadata": {},
   "outputs": [
    {
     "data": {
      "text/plain": [
       "((array([-15506.37892786,   -489.376359  ]),\n",
       "  [2.3624037489771233e-09, 59.507384937062774, 0.9602662296773381]),\n",
       " (-15995.755286864982,\n",
       "  [2.3624037489771233e-09, 59.507384937062774, 0.9602662296773381]))"
      ]
     },
     "execution_count": 15,
     "metadata": {},
     "output_type": "execute_result"
    }
   ],
   "source": [
    "model_cmblens.loglikes(point), model_cmblens.loglike(point)"
   ]
  },
  {
   "cell_type": "markdown",
   "metadata": {},
   "source": [
    "And for the full case (you see it fails):"
   ]
  },
  {
   "cell_type": "code",
   "execution_count": 16,
   "metadata": {},
   "outputs": [
    {
     "name": "stdout",
     "output_type": "stream",
     "text": [
      "[parameterization] *ERROR* Unknown parameter 'a_tSZ'.\n"
     ]
    },
    {
     "ename": "LoggedError",
     "evalue": "Unknown parameter 'a_tSZ'.",
     "output_type": "error",
     "traceback": [
      "\u001b[0;31m---------------------------------------------------------------------------\u001b[0m",
      "\u001b[0;31mLoggedError\u001b[0m                               Traceback (most recent call last)",
      "\u001b[0;32m<ipython-input-16-974d6513c91d>\u001b[0m in \u001b[0;36m<module>\u001b[0;34m\u001b[0m\n\u001b[0;32m----> 1\u001b[0;31m \u001b[0mmodel_full\u001b[0m\u001b[0;34m.\u001b[0m\u001b[0mloglikes\u001b[0m\u001b[0;34m(\u001b[0m\u001b[0mpoint\u001b[0m\u001b[0;34m)\u001b[0m\u001b[0;34m\u001b[0m\u001b[0;34m\u001b[0m\u001b[0m\n\u001b[0m",
      "\u001b[0;32m~/Documents/University/Projects/solike_sandbox/solikeenv/lib/python3.7/site-packages/cobaya-2.1.0-py3.7.egg/cobaya/model.py\u001b[0m in \u001b[0;36mloglikes\u001b[0;34m(self, params_values, return_derived, make_finite, cached, _no_check)\u001b[0m\n\u001b[1;32m    303\u001b[0m             \u001b[0mparams_values\u001b[0m \u001b[0;34m=\u001b[0m \u001b[0;34m[\u001b[0m\u001b[0;34m]\u001b[0m\u001b[0;34m\u001b[0m\u001b[0;34m\u001b[0m\u001b[0m\n\u001b[1;32m    304\u001b[0m         \u001b[0;32mif\u001b[0m \u001b[0mhasattr\u001b[0m\u001b[0;34m(\u001b[0m\u001b[0mparams_values\u001b[0m\u001b[0;34m,\u001b[0m \u001b[0;34m\"keys\"\u001b[0m\u001b[0;34m)\u001b[0m \u001b[0;32mand\u001b[0m \u001b[0;32mnot\u001b[0m \u001b[0m_no_check\u001b[0m\u001b[0;34m:\u001b[0m\u001b[0;34m\u001b[0m\u001b[0;34m\u001b[0m\u001b[0m\n\u001b[0;32m--> 305\u001b[0;31m             \u001b[0mparams_values\u001b[0m \u001b[0;34m=\u001b[0m \u001b[0mself\u001b[0m\u001b[0;34m.\u001b[0m\u001b[0mparameterization\u001b[0m\u001b[0;34m.\u001b[0m\u001b[0mcheck_sampled\u001b[0m\u001b[0;34m(\u001b[0m\u001b[0;34m**\u001b[0m\u001b[0mparams_values\u001b[0m\u001b[0;34m)\u001b[0m\u001b[0;34m\u001b[0m\u001b[0;34m\u001b[0m\u001b[0m\n\u001b[0m\u001b[1;32m    306\u001b[0m \u001b[0;34m\u001b[0m\u001b[0m\n\u001b[1;32m    307\u001b[0m         \u001b[0minput_params\u001b[0m \u001b[0;34m=\u001b[0m \u001b[0mself\u001b[0m\u001b[0;34m.\u001b[0m\u001b[0mparameterization\u001b[0m\u001b[0;34m.\u001b[0m\u001b[0mto_input\u001b[0m\u001b[0;34m(\u001b[0m\u001b[0mparams_values\u001b[0m\u001b[0;34m,\u001b[0m \u001b[0mcopied\u001b[0m\u001b[0;34m=\u001b[0m\u001b[0;32mFalse\u001b[0m\u001b[0;34m)\u001b[0m\u001b[0;34m\u001b[0m\u001b[0;34m\u001b[0m\u001b[0m\n",
      "\u001b[0;32m~/Documents/University/Projects/solike_sandbox/solikeenv/lib/python3.7/site-packages/cobaya-2.1.0-py3.7.egg/cobaya/parameterization.py\u001b[0m in \u001b[0;36mcheck_sampled\u001b[0;34m(self, **sampled_params)\u001b[0m\n\u001b[1;32m    338\u001b[0m             \u001b[0mknown_value\u001b[0m \u001b[0;34m=\u001b[0m \u001b[0mself\u001b[0m\u001b[0;34m.\u001b[0m\u001b[0mconstant_params\u001b[0m\u001b[0;34m(\u001b[0m\u001b[0;34m)\u001b[0m\u001b[0;34m.\u001b[0m\u001b[0mget\u001b[0m\u001b[0;34m(\u001b[0m\u001b[0mp\u001b[0m\u001b[0;34m,\u001b[0m \u001b[0;32mNone\u001b[0m\u001b[0;34m)\u001b[0m\u001b[0;34m\u001b[0m\u001b[0;34m\u001b[0m\u001b[0m\n\u001b[1;32m    339\u001b[0m             \u001b[0;32mif\u001b[0m \u001b[0mknown_value\u001b[0m \u001b[0;32mis\u001b[0m \u001b[0;32mNone\u001b[0m\u001b[0;34m:\u001b[0m\u001b[0;34m\u001b[0m\u001b[0;34m\u001b[0m\u001b[0m\n\u001b[0;32m--> 340\u001b[0;31m                 \u001b[0;32mraise\u001b[0m \u001b[0mLoggedError\u001b[0m\u001b[0;34m(\u001b[0m\u001b[0mself\u001b[0m\u001b[0;34m.\u001b[0m\u001b[0mlog\u001b[0m\u001b[0;34m,\u001b[0m \u001b[0;34m\"Unknown parameter %r.\"\u001b[0m\u001b[0;34m,\u001b[0m \u001b[0mp\u001b[0m\u001b[0;34m)\u001b[0m\u001b[0;34m\u001b[0m\u001b[0;34m\u001b[0m\u001b[0m\n\u001b[0m\u001b[1;32m    341\u001b[0m             \u001b[0;32melif\u001b[0m \u001b[0mnp\u001b[0m\u001b[0;34m.\u001b[0m\u001b[0mallclose\u001b[0m\u001b[0;34m(\u001b[0m\u001b[0mvalue\u001b[0m\u001b[0;34m,\u001b[0m \u001b[0mknown_value\u001b[0m\u001b[0;34m)\u001b[0m\u001b[0;34m:\u001b[0m\u001b[0;34m\u001b[0m\u001b[0;34m\u001b[0m\u001b[0m\n\u001b[1;32m    342\u001b[0m                 \u001b[0mto_pop\u001b[0m\u001b[0;34m.\u001b[0m\u001b[0mappend\u001b[0m\u001b[0;34m(\u001b[0m\u001b[0mp\u001b[0m\u001b[0;34m)\u001b[0m\u001b[0;34m\u001b[0m\u001b[0;34m\u001b[0m\u001b[0m\n",
      "\u001b[0;31mLoggedError\u001b[0m: Unknown parameter 'a_tSZ'."
     ]
    }
   ],
   "source": [
    "model_full.loglikes(point)"
   ]
  },
  {
   "cell_type": "code",
   "execution_count": 17,
   "metadata": {},
   "outputs": [
    {
     "name": "stdout",
     "output_type": "stream",
     "text": [
      "[parameterization] *ERROR* Unknown parameter 'a_tSZ'.\n"
     ]
    },
    {
     "ename": "LoggedError",
     "evalue": "Unknown parameter 'a_tSZ'.",
     "output_type": "error",
     "traceback": [
      "\u001b[0;31m---------------------------------------------------------------------------\u001b[0m",
      "\u001b[0;31mLoggedError\u001b[0m                               Traceback (most recent call last)",
      "\u001b[0;32m<ipython-input-17-5332f7204a1d>\u001b[0m in \u001b[0;36m<module>\u001b[0;34m\u001b[0m\n\u001b[0;32m----> 1\u001b[0;31m \u001b[0mmodel_full\u001b[0m\u001b[0;34m.\u001b[0m\u001b[0mloglike\u001b[0m\u001b[0;34m(\u001b[0m\u001b[0mpoint\u001b[0m\u001b[0;34m)\u001b[0m\u001b[0;34m\u001b[0m\u001b[0;34m\u001b[0m\u001b[0m\n\u001b[0m",
      "\u001b[0;32m~/Documents/University/Projects/solike_sandbox/solikeenv/lib/python3.7/site-packages/cobaya-2.1.0-py3.7.egg/cobaya/model.py\u001b[0m in \u001b[0;36mloglike\u001b[0;34m(self, params_values, return_derived, make_finite, cached)\u001b[0m\n\u001b[1;32m    342\u001b[0m         \"\"\"\n\u001b[1;32m    343\u001b[0m         ret_value = self.loglikes(\n\u001b[0;32m--> 344\u001b[0;31m             params_values, return_derived=return_derived, cached=cached)\n\u001b[0m\u001b[1;32m    345\u001b[0m         \u001b[0;32mif\u001b[0m \u001b[0mreturn_derived\u001b[0m\u001b[0;34m:\u001b[0m\u001b[0;34m\u001b[0m\u001b[0;34m\u001b[0m\u001b[0m\n\u001b[1;32m    346\u001b[0m             \u001b[0mloglike\u001b[0m \u001b[0;34m=\u001b[0m \u001b[0mnp\u001b[0m\u001b[0;34m.\u001b[0m\u001b[0msum\u001b[0m\u001b[0;34m(\u001b[0m\u001b[0mret_value\u001b[0m\u001b[0;34m[\u001b[0m\u001b[0;36m0\u001b[0m\u001b[0;34m]\u001b[0m\u001b[0;34m)\u001b[0m\u001b[0;34m\u001b[0m\u001b[0;34m\u001b[0m\u001b[0m\n",
      "\u001b[0;32m~/Documents/University/Projects/solike_sandbox/solikeenv/lib/python3.7/site-packages/cobaya-2.1.0-py3.7.egg/cobaya/model.py\u001b[0m in \u001b[0;36mloglikes\u001b[0;34m(self, params_values, return_derived, make_finite, cached, _no_check)\u001b[0m\n\u001b[1;32m    303\u001b[0m             \u001b[0mparams_values\u001b[0m \u001b[0;34m=\u001b[0m \u001b[0;34m[\u001b[0m\u001b[0;34m]\u001b[0m\u001b[0;34m\u001b[0m\u001b[0;34m\u001b[0m\u001b[0m\n\u001b[1;32m    304\u001b[0m         \u001b[0;32mif\u001b[0m \u001b[0mhasattr\u001b[0m\u001b[0;34m(\u001b[0m\u001b[0mparams_values\u001b[0m\u001b[0;34m,\u001b[0m \u001b[0;34m\"keys\"\u001b[0m\u001b[0;34m)\u001b[0m \u001b[0;32mand\u001b[0m \u001b[0;32mnot\u001b[0m \u001b[0m_no_check\u001b[0m\u001b[0;34m:\u001b[0m\u001b[0;34m\u001b[0m\u001b[0;34m\u001b[0m\u001b[0m\n\u001b[0;32m--> 305\u001b[0;31m             \u001b[0mparams_values\u001b[0m \u001b[0;34m=\u001b[0m \u001b[0mself\u001b[0m\u001b[0;34m.\u001b[0m\u001b[0mparameterization\u001b[0m\u001b[0;34m.\u001b[0m\u001b[0mcheck_sampled\u001b[0m\u001b[0;34m(\u001b[0m\u001b[0;34m**\u001b[0m\u001b[0mparams_values\u001b[0m\u001b[0;34m)\u001b[0m\u001b[0;34m\u001b[0m\u001b[0;34m\u001b[0m\u001b[0m\n\u001b[0m\u001b[1;32m    306\u001b[0m \u001b[0;34m\u001b[0m\u001b[0m\n\u001b[1;32m    307\u001b[0m         \u001b[0minput_params\u001b[0m \u001b[0;34m=\u001b[0m \u001b[0mself\u001b[0m\u001b[0;34m.\u001b[0m\u001b[0mparameterization\u001b[0m\u001b[0;34m.\u001b[0m\u001b[0mto_input\u001b[0m\u001b[0;34m(\u001b[0m\u001b[0mparams_values\u001b[0m\u001b[0;34m,\u001b[0m \u001b[0mcopied\u001b[0m\u001b[0;34m=\u001b[0m\u001b[0;32mFalse\u001b[0m\u001b[0;34m)\u001b[0m\u001b[0;34m\u001b[0m\u001b[0;34m\u001b[0m\u001b[0m\n",
      "\u001b[0;32m~/Documents/University/Projects/solike_sandbox/solikeenv/lib/python3.7/site-packages/cobaya-2.1.0-py3.7.egg/cobaya/parameterization.py\u001b[0m in \u001b[0;36mcheck_sampled\u001b[0;34m(self, **sampled_params)\u001b[0m\n\u001b[1;32m    338\u001b[0m             \u001b[0mknown_value\u001b[0m \u001b[0;34m=\u001b[0m \u001b[0mself\u001b[0m\u001b[0;34m.\u001b[0m\u001b[0mconstant_params\u001b[0m\u001b[0;34m(\u001b[0m\u001b[0;34m)\u001b[0m\u001b[0;34m.\u001b[0m\u001b[0mget\u001b[0m\u001b[0;34m(\u001b[0m\u001b[0mp\u001b[0m\u001b[0;34m,\u001b[0m \u001b[0;32mNone\u001b[0m\u001b[0;34m)\u001b[0m\u001b[0;34m\u001b[0m\u001b[0;34m\u001b[0m\u001b[0m\n\u001b[1;32m    339\u001b[0m             \u001b[0;32mif\u001b[0m \u001b[0mknown_value\u001b[0m \u001b[0;32mis\u001b[0m \u001b[0;32mNone\u001b[0m\u001b[0;34m:\u001b[0m\u001b[0;34m\u001b[0m\u001b[0;34m\u001b[0m\u001b[0m\n\u001b[0;32m--> 340\u001b[0;31m                 \u001b[0;32mraise\u001b[0m \u001b[0mLoggedError\u001b[0m\u001b[0;34m(\u001b[0m\u001b[0mself\u001b[0m\u001b[0;34m.\u001b[0m\u001b[0mlog\u001b[0m\u001b[0;34m,\u001b[0m \u001b[0;34m\"Unknown parameter %r.\"\u001b[0m\u001b[0;34m,\u001b[0m \u001b[0mp\u001b[0m\u001b[0;34m)\u001b[0m\u001b[0;34m\u001b[0m\u001b[0;34m\u001b[0m\u001b[0m\n\u001b[0m\u001b[1;32m    341\u001b[0m             \u001b[0;32melif\u001b[0m \u001b[0mnp\u001b[0m\u001b[0;34m.\u001b[0m\u001b[0mallclose\u001b[0m\u001b[0;34m(\u001b[0m\u001b[0mvalue\u001b[0m\u001b[0;34m,\u001b[0m \u001b[0mknown_value\u001b[0m\u001b[0;34m)\u001b[0m\u001b[0;34m:\u001b[0m\u001b[0;34m\u001b[0m\u001b[0;34m\u001b[0m\u001b[0m\n\u001b[1;32m    342\u001b[0m                 \u001b[0mto_pop\u001b[0m\u001b[0;34m.\u001b[0m\u001b[0mappend\u001b[0m\u001b[0;34m(\u001b[0m\u001b[0mp\u001b[0m\u001b[0;34m)\u001b[0m\u001b[0;34m\u001b[0m\u001b[0;34m\u001b[0m\u001b[0m\n",
      "\u001b[0;31mLoggedError\u001b[0m: Unknown parameter 'a_tSZ'."
     ]
    }
   ],
   "source": [
    "model_full.loglike(point)"
   ]
  },
  {
   "cell_type": "markdown",
   "metadata": {},
   "source": [
    "The full case fails, since (as we have seen above), the sampled nuisance params are not correctly loaded in the model. I must enter the nuisance params at the info yaml level, as done in e.g. https://github.com/simonsobs/Likelihoods/blob/master/notebooks/multi-like-test.ipynb. However, we would like not to be doing this, as we ideally want to 'hide' nuisance params in the individual likelihood yaml.\n",
    "I also tried adding the MFLike.yaml to the options argument of the likelihood class in the info yaml for the full case, but this does not work either."
   ]
  },
  {
   "cell_type": "code",
   "execution_count": 18,
   "metadata": {},
   "outputs": [
    {
     "data": {
      "text/plain": [
       "OrderedDict([('solike.gaussian.MultiGaussianLikelihood',\n",
       "              OrderedDict([('speed', -1),\n",
       "                           ('stop_at_error', False),\n",
       "                           ('version', None),\n",
       "                           ('name', 'Gaussian'),\n",
       "                           ('datapath', None),\n",
       "                           ('covpath', None),\n",
       "                           ('components',\n",
       "                            ['solike.mflike.MFLike',\n",
       "                             'solike.SimulatedLensingLikelihood']),\n",
       "                           ('options',\n",
       "                            [OrderedDict([('path',\n",
       "                                           '/Users/martina/Documents/University/Projects/solike_sandbox/software/solike/'),\n",
       "                                          ('data_folder',\n",
       "                                           '/Users/martina/Documents/University/Projects/solike_sandbox/modules/data/LAT_MFLike_data/like_products'),\n",
       "                                          ('sim_id', 0),\n",
       "                                          ('select', 'tt-te-ee'),\n",
       "                                          ('experiments',\n",
       "                                           [OrderedDict([('LAT',\n",
       "                                                          [93, 145, 225])])]),\n",
       "                                          ('foregrounds',\n",
       "                                           OrderedDict([('normalisation',\n",
       "                                                         OrderedDict([('nu_0',\n",
       "                                                                       150.0),\n",
       "                                                                      ('ell_0',\n",
       "                                                                       3000),\n",
       "                                                                      ('T_CMB',\n",
       "                                                                       2.725)])),\n",
       "                                                        ('components',\n",
       "                                                         OrderedDict([('tt',\n",
       "                                                                       ['kSZ',\n",
       "                                                                        'cibp',\n",
       "                                                                        'radio',\n",
       "                                                                        'tSZ',\n",
       "                                                                        'cibc']),\n",
       "                                                                      ('te',\n",
       "                                                                       []),\n",
       "                                                                      ('ee',\n",
       "                                                                       [])]))])),\n",
       "                                          ('lmax', 6002),\n",
       "                                          ('params',\n",
       "                                           OrderedDict([('a_tSZ',\n",
       "                                                         OrderedDict([('prior',\n",
       "                                                                       OrderedDict([('min',\n",
       "                                                                                     3.0),\n",
       "                                                                                    ('max',\n",
       "                                                                                     3.6)])),\n",
       "                                                                      ('proposal',\n",
       "                                                                       0.05),\n",
       "                                                                      ('latex',\n",
       "                                                                       'a_\\\\mathrm{tSZ}')])),\n",
       "                                                        ('a_kSZ',\n",
       "                                                         OrderedDict([('prior',\n",
       "                                                                       OrderedDict([('min',\n",
       "                                                                                     1.4),\n",
       "                                                                                    ('max',\n",
       "                                                                                     1.8)])),\n",
       "                                                                      ('proposal',\n",
       "                                                                       0.1),\n",
       "                                                                      ('latex',\n",
       "                                                                       'a_\\\\mathrm{kSZ}')])),\n",
       "                                                        ('a_p',\n",
       "                                                         OrderedDict([('prior',\n",
       "                                                                       OrderedDict([('min',\n",
       "                                                                                     6.2),\n",
       "                                                                                    ('max',\n",
       "                                                                                     7.6)])),\n",
       "                                                                      ('proposal',\n",
       "                                                                       0.075),\n",
       "                                                                      ('latex',\n",
       "                                                                       'a_p')])),\n",
       "                                                        ('beta_p',\n",
       "                                                         OrderedDict([('prior',\n",
       "                                                                       OrderedDict([('min',\n",
       "                                                                                     1.8),\n",
       "                                                                                    ('max',\n",
       "                                                                                     2.2)])),\n",
       "                                                                      ('proposal',\n",
       "                                                                       0.015),\n",
       "                                                                      ('latex',\n",
       "                                                                       '\\\\beta_p')])),\n",
       "                                                        ('a_c',\n",
       "                                                         OrderedDict([('prior',\n",
       "                                                                       OrderedDict([('min',\n",
       "                                                                                     4.4),\n",
       "                                                                                    ('max',\n",
       "                                                                                     5.4)])),\n",
       "                                                                      ('proposal',\n",
       "                                                                       0.12),\n",
       "                                                                      ('latex',\n",
       "                                                                       'a_c')])),\n",
       "                                                        ('beta_c',\n",
       "                                                         OrderedDict([('prior',\n",
       "                                                                       OrderedDict([('min',\n",
       "                                                                                     2.0),\n",
       "                                                                                    ('max',\n",
       "                                                                                     2.4)])),\n",
       "                                                                      ('proposal',\n",
       "                                                                       0.03),\n",
       "                                                                      ('latex',\n",
       "                                                                       '\\\\beta_c')])),\n",
       "                                                        ('n_CIBC',\n",
       "                                                         OrderedDict([('prior',\n",
       "                                                                       OrderedDict([('min',\n",
       "                                                                                     1.0),\n",
       "                                                                                    ('max',\n",
       "                                                                                     1.4)])),\n",
       "                                                                      ('proposal',\n",
       "                                                                       0.045),\n",
       "                                                                      ('latex',\n",
       "                                                                       'n_\\\\mathrm{CIBC}')])),\n",
       "                                                        ('a_s',\n",
       "                                                         OrderedDict([('prior',\n",
       "                                                                       OrderedDict([('min',\n",
       "                                                                                     2.8),\n",
       "                                                                                    ('max',\n",
       "                                                                                     3.4)])),\n",
       "                                                                      ('proposal',\n",
       "                                                                       0.01),\n",
       "                                                                      ('latex',\n",
       "                                                                       'a_s')])),\n",
       "                                                        ('T_d',\n",
       "                                                         OrderedDict([('prior',\n",
       "                                                                       OrderedDict([('min',\n",
       "                                                                                     8.6),\n",
       "                                                                                    ('max',\n",
       "                                                                                     10.6)])),\n",
       "                                                                      ('proposal',\n",
       "                                                                       0.6),\n",
       "                                                                      ('latex',\n",
       "                                                                       'T_d')]))]))]),\n",
       "                             OrderedDict([('sim_number', 1)])]),\n",
       "                           ('cross_cov_path', None),\n",
       "                           ('input_params', ['n_CIBC', 'T_d']),\n",
       "                           ('output_params', [])]))])"
      ]
     },
     "execution_count": 18,
     "metadata": {},
     "output_type": "execute_result"
    }
   ],
   "source": [
    "model_full.info()['likelihood']"
   ]
  },
  {
   "cell_type": "code",
   "execution_count": 53,
   "metadata": {},
   "outputs": [
    {
     "data": {
      "text/plain": [
       "OrderedDict([('solike.mflike.MFLike',\n",
       "              OrderedDict([('speed', -1),\n",
       "                           ('stop_at_error', False),\n",
       "                           ('version', None),\n",
       "                           ('name', 'TT'),\n",
       "                           ('datapath', None),\n",
       "                           ('covpath', None),\n",
       "                           ('kind', 'tt'),\n",
       "                           ('lmax', 6002),\n",
       "                           ('path',\n",
       "                            '/Users/martina/Documents/University/Projects/solike_sandbox/software/solike/'),\n",
       "                           ('data_folder',\n",
       "                            '/Users/martina/Documents/University/Projects/solike_sandbox/modules/data/LAT_MFLike_data/like_products'),\n",
       "                           ('sim_id', 0),\n",
       "                           ('select', 'tt-te-ee'),\n",
       "                           ('experiments',\n",
       "                            [OrderedDict([('LAT', [93, 145, 225])])]),\n",
       "                           ('foregrounds',\n",
       "                            OrderedDict([('normalisation',\n",
       "                                          OrderedDict([('nu_0', 150.0),\n",
       "                                                       ('ell_0', 3000),\n",
       "                                                       ('T_CMB', 2.725)])),\n",
       "                                         ('components',\n",
       "                                          OrderedDict([('tt',\n",
       "                                                        ['kSZ',\n",
       "                                                         'cibp',\n",
       "                                                         'radio',\n",
       "                                                         'tSZ',\n",
       "                                                         'cibc']),\n",
       "                                                       ('te', []),\n",
       "                                                       ('ee', [])]))])),\n",
       "                           ('input_params',\n",
       "                            ['n_CIBC',\n",
       "                             'T_d',\n",
       "                             'a_tSZ',\n",
       "                             'a_kSZ',\n",
       "                             'a_p',\n",
       "                             'beta_p',\n",
       "                             'a_c',\n",
       "                             'beta_c',\n",
       "                             'a_s']),\n",
       "                           ('output_params', [])])),\n",
       "             ('solike.SimulatedLensingLikelihood',\n",
       "              OrderedDict([('speed', -1),\n",
       "                           ('stop_at_error', False),\n",
       "                           ('version', None),\n",
       "                           ('name', 'TT'),\n",
       "                           ('datapath', None),\n",
       "                           ('covpath', None),\n",
       "                           ('kind', 'pp'),\n",
       "                           ('lmax', 6000),\n",
       "                           ('dataroot',\n",
       "                            '/Users/martina/Documents/University/Projects/solike_sandbox/software/solike/data/simulated_clkk_SO_Apr17_mv_nlkk_deproj0_SENS1_fsky_16000_iterOn_20191109'),\n",
       "                           ('cl_file',\n",
       "                            'simulated_clkk_SO_Apr17_mv_nlkk_deproj0_SENS1_fsky_16000_iterOn_20191109_sim_{:02d}_bandpowers.txt'),\n",
       "                           ('cov_file',\n",
       "                            'simulated_clkk_SO_Apr17_mv_nlkk_deproj0_SENS1_fsky_16000_iterOn_20191109_binned_covmat.txt'),\n",
       "                           ('sim_number', 1),\n",
       "                           ('input_params', []),\n",
       "                           ('output_params', [])]))])"
      ]
     },
     "execution_count": 53,
     "metadata": {},
     "output_type": "execute_result"
    }
   ],
   "source": [
    "model_cmblens.info()['likelihood']"
   ]
  },
  {
   "cell_type": "markdown",
   "metadata": {},
   "source": []
  },
  {
   "cell_type": "code",
   "execution_count": null,
   "metadata": {},
   "outputs": [],
   "source": []
  }
 ],
 "metadata": {
  "kernelspec": {
   "display_name": "solikeenv",
   "language": "python",
   "name": "solikeenv"
  },
  "language_info": {
   "codemirror_mode": {
    "name": "ipython",
    "version": 3
   },
   "file_extension": ".py",
   "mimetype": "text/x-python",
   "name": "python",
   "nbconvert_exporter": "python",
   "pygments_lexer": "ipython3",
   "version": "3.7.3"
  }
 },
 "nbformat": 4,
 "nbformat_minor": 4
}
