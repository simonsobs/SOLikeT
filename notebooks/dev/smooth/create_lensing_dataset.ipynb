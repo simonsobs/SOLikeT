{
 "cells": [
  {
   "cell_type": "markdown",
   "id": "be03b716",
   "metadata": {},
   "source": [
    "# Create a smooth fiducial for SOLikeT/lensing\n",
    "\n",
    "In this notebook, we generate a fiducial smooth (i.e., binned spectrum-based theoretical prediction, no map-based random realization) dataset. We start from lensing spectra (lensing)."
   ]
  },
  {
   "cell_type": "code",
   "execution_count": 33,
   "id": "d7bab460",
   "metadata": {},
   "outputs": [
    {
     "name": "stdout",
     "output_type": "stream",
     "text": [
      "The history saving thread hit an unexpected error (OperationalError('attempt to write a readonly database')).History will not be written to the database.     Numpy : 1.26.4\n",
      "Matplotlib : 3.10.1\n",
      "      CAMB : 1.5.9\n",
      "    Cobaya : 3.5.6\n",
      "\n"
     ]
    }
   ],
   "source": [
    "%matplotlib inline\n",
    "import os\n",
    "import tempfile\n",
    "\n",
    "import camb\n",
    "import cobaya\n",
    "import matplotlib as mpl\n",
    "import matplotlib.pyplot as plt\n",
    "import numpy as np\n",
    "\n",
    "print(\"     Numpy :\", np.__version__)\n",
    "print(\"Matplotlib :\", mpl.__version__)\n",
    "print(\"      CAMB :\", camb.__version__)\n",
    "print(\"    Cobaya :\", cobaya.__version__)"
   ]
  },
  {
   "cell_type": "code",
   "execution_count": 34,
   "id": "8033c892",
   "metadata": {},
   "outputs": [
    {
     "name": "stdout",
     "output_type": "stream",
     "text": [
      "sumnu = 0.05866025403784439\n",
      "\n",
      "f1 = 0.0 \n",
      "f2 = 0.14763410387308012 \n",
      "f3 = 0.8523658961269198\n"
     ]
    }
   ],
   "source": [
    "# Fiducial cosmo params. When used in a MCMC, the smooth data must agree with this input values\n",
    "\n",
    "# set neutrino masses\n",
    "m1=0\n",
    "m2=np.sqrt(7.5e-5)\n",
    "m3=np.sqrt(2.5e-3)\n",
    "\n",
    "sumnu=m1+m2+m3\n",
    "\n",
    "f1=m1/sumnu\n",
    "f2=m2/sumnu\n",
    "f3=m3/sumnu\n",
    "\n",
    "print('sumnu =', sumnu)\n",
    "print('')\n",
    "print('f1 =', f1, '\\nf2 =', f2, '\\nf3 =', f3)\n",
    "\n",
    "cosmo_params = {\n",
    "    \"cosmomc_theta\": 0.0104090,\n",
    "    \"logA\": {\"value\": 3.045, \"drop\": True},\n",
    "    \"As\": {\"value\": \"lambda logA: 1e-10*np.exp(logA)\"},\n",
    "    \"ombh2\": 0.02236,\n",
    "    \"omch2\": 0.1202,\n",
    "    \"ns\": 0.9649,\n",
    "    \"Alens\": 1.0,\n",
    "    \"tau\": 0.0544,\n",
    "    \"mnu\": sumnu,\n",
    "    \"nnu\": 3.044,\n",
    "}"
   ]
  },
  {
   "cell_type": "markdown",
   "id": "470ab5d1",
   "metadata": {},
   "source": [
    "Let's use SOLikeT/lensing to generate the fiducial spectra"
   ]
  },
  {
   "cell_type": "code",
   "execution_count": 35,
   "id": "e3d9f354",
   "metadata": {},
   "outputs": [],
   "source": [
    "packages_path = \"/Users/bradamante/Library/CloudStorage/GoogleDrive-grbmtn@unife.it/My Drive/Work/Projects/Open/cobaya_packages/\""
   ]
  },
  {
   "cell_type": "code",
   "execution_count": 36,
   "id": "10fe509a",
   "metadata": {},
   "outputs": [],
   "source": [
    "#pre = \"data_sacc_\"\n",
    "info = {\n",
    "    \"likelihood\": {\n",
    "        \"soliket.LensingLikelihood\": {\n",
    "            \"theory_lmax\": 5000,\n",
    "            \"stop_at_error\": False}\n",
    "    },\n",
    "    \"theory\": {\"camb\": {\"extra_args\": {\"lens_potential_accuracy\": 1,\n",
    "                                       \"WantTransfer\": True,\n",
    "                                       \"Transfer.high_precision\": True,\n",
    "                                       \"Transfer.kmax\": 1.2,\n",
    "                                       #\"max_l\": 9151,\n",
    "                                       #\"max_eta_k\": 22877.5,\n",
    "                                       \"num_nu_massless\": 1.044, #we use the minimal normal ordering case: massless lightest state, m2 and m3 computed according to oscilation measurements\n",
    "                                       \"num_nu_massive\": 2, \n",
    "                                       \"nu_mass_eigenstates\": 2, \n",
    "                                       \"nu_mass_fractions\": [f2,f3],\n",
    "                                       \"nu_mass_numbers\": [1,1],\n",
    "                                       \"share_delta_neff\": False},\n",
    "                        \"stop_at_error\": True}},\n",
    "    \"params\": cosmo_params,\n",
    "    \"packages_path\": packages_path,\n",
    "    \"debug\": True,\n",
    "}"
   ]
  },
  {
   "cell_type": "code",
   "execution_count": 37,
   "id": "918a2d4a",
   "metadata": {
    "scrolled": true
   },
   "outputs": [
    {
     "name": "stdout",
     "output_type": "stream",
     "text": [
      " 2025-05-07 14:49:42,503 [input] 'soliket.LensingLikelihood' could not be found as internal, trying external.\n",
      " 2025-05-07 14:49:42,510 [model] Input info updated with defaults (dumped to YAML):\n",
      "theory:\n",
      "  camb:\n",
      "    version: null\n",
      "    path: null\n",
      "    speed: 0.3\n",
      "    stop_at_error: true\n",
      "    extra_args:\n",
      "      lens_potential_accuracy: 1\n",
      "      WantTransfer: true\n",
      "      Transfer.high_precision: true\n",
      "      Transfer.kmax: 1.2\n",
      "      num_nu_massless: 1.044\n",
      "      num_nu_massive: 2\n",
      "      nu_mass_eigenstates: 2\n",
      "      nu_mass_fractions:\n",
      "      - 0.14763410387308012\n",
      "      - 0.8523658961269198\n",
      "      nu_mass_numbers:\n",
      "      - 1\n",
      "      - 1\n",
      "      share_delta_neff: false\n",
      "    ignore_obsolete: false\n",
      "    use_renames: false\n",
      "    external_primordial_pk: false\n",
      "    renames:\n",
      "      omegabh2: ombh2\n",
      "      omegach2: omch2\n",
      "      omegal: omega_de\n",
      "      omegak: omk\n",
      "      yhe: YHe\n",
      "      yheused: YHe\n",
      "      YpBBN: Y_p\n",
      "likelihood:\n",
      "  soliket.LensingLikelihood:\n",
      "    data_folder: LensingLikelihood/\n",
      "    data_filename: clkk_reconstruction_sim.fits\n",
      "    kind: pp\n",
      "    sim_number: 0\n",
      "    lmax: 3000\n",
      "    theory_lmax: 5000\n",
      "    pp_ccl: false\n",
      "    fiducial_params:\n",
      "      ombh2: 0.02219218\n",
      "      omch2: 0.1203058\n",
      "      H0: 67.02393\n",
      "      tau: 0.06574325\n",
      "      nnu: 3.046\n",
      "      As: 2.15086031154146e-09\n",
      "      ns: 0.9625356\n",
      "    binning_matrix_path: ''\n",
      "    name: TT\n",
      "    datapath: null\n",
      "    covpath: null\n",
      "    ncovsims: null\n",
      "    type: []\n",
      "    speed: -1\n",
      "    stop_at_error: false\n",
      "    version: null\n",
      "params:\n",
      "  cosmomc_theta:\n",
      "    value: 0.010409\n",
      "  logA:\n",
      "    value: 3.045\n",
      "    drop: true\n",
      "  As:\n",
      "    value: 'lambda logA: 1e-10*np.exp(logA)'\n",
      "    derived: true\n",
      "  ombh2:\n",
      "    value: 0.02236\n",
      "    renames:\n",
      "    - omegabh2\n",
      "  omch2:\n",
      "    value: 0.1202\n",
      "    renames:\n",
      "    - omegach2\n",
      "  ns:\n",
      "    value: 0.9649\n",
      "  Alens:\n",
      "    value: 1.0\n",
      "  tau:\n",
      "    value: 0.0544\n",
      "  mnu:\n",
      "    value: 0.05866025403784439\n",
      "  nnu:\n",
      "    value: 3.044\n",
      "packages_path: /Users/bradamante/Library/CloudStorage/GoogleDrive-grbmtn@unife.it/My\n",
      "  Drive/Work/Projects/Open/cobaya_packages/\n",
      "debug: true\n",
      "\n",
      " 2025-05-07 14:49:42,513 [camb] Attempting import of Cobaya-installed version, but defaulting to global import if not found.\n",
      " 2025-05-07 14:49:42,514 [camb] 'camb' to be imported from (sub)directory /Users/bradamante/Library/CloudStorage/GoogleDrive-grbmtn@unife.it/My Drive/Work/Projects/Open/cobaya_packages/code/CAMB\n",
      " 2025-05-07 14:49:42,515 [camb] Could not import 'camb' from /Users/bradamante/Library/CloudStorage/GoogleDrive-grbmtn@unife.it/My Drive/Work/Projects/Open/cobaya_packages/code/CAMB: Module camb successfully loaded, but not from requested path: /Users/bradamante/Library/CloudStorage/GoogleDrive-grbmtn@unife.it/My Drive/Work/Projects/Open/cobaya_packages/code/CAMB, but instead from /Users/bradamante/miniconda/envs/soliket-tests/lib/python3.11/site-packages/camb\n",
      " 2025-05-07 14:49:42,515 [camb] Defaulting to global import.\n",
      " 2025-05-07 14:49:42,516 [camb] `camb` module loaded successfully from /Users/bradamante/miniconda/envs/soliket-tests/lib/python3.11/site-packages/camb\n",
      " 2025-05-07 14:49:42,520 [likelihoodcollection] 'soliket.LensingLikelihood' could not be found as internal, trying external.\n",
      " 2025-05-07 14:49:42,522 [soliket.lensinglikelihood] Initialising.\n",
      " 2025-05-07 14:49:42,568 [camb] `camb` module loaded successfully from /Users/bradamante/miniconda/envs/soliket-tests/lib/python3.11/site-packages/camb\n"
     ]
    }
   ],
   "source": [
    "from cobaya.model import get_model\n",
    "\n",
    "model = get_model(info)"
   ]
  },
  {
   "cell_type": "code",
   "execution_count": 38,
   "id": "05279f65",
   "metadata": {},
   "outputs": [
    {
     "data": {
      "text/plain": [
       "(array([238.89212466]), [2.101003120287951e-09])"
      ]
     },
     "execution_count": 38,
     "metadata": {},
     "output_type": "execute_result"
    }
   ],
   "source": [
    "#model.components\n",
    "my_lensing = model.likelihood[\"soliket.LensingLikelihood\"]\n",
    "#chi2 = -2 * (model.loglikes(fg_params)[0] - my_mflike.logp_const)\n",
    "model.loglikes()"
   ]
  },
  {
   "cell_type": "markdown",
   "id": "9367446e-c592-416e-8022-9f916d9c6497",
   "metadata": {},
   "source": [
    "Let's have a look at the comparison between simulated noisy data and the smooth theory from the fiducial parms above. Note that the function ``_get_data`` from ``my_lensing`` takes the input ell-by-ell Cls from camb and bin and correct them to be compared against data."
   ]
  },
  {
   "cell_type": "code",
   "execution_count": 39,
   "id": "6665f48d",
   "metadata": {},
   "outputs": [
    {
     "data": {
      "text/plain": [
       "array([4.27797759e-15, 2.93923775e-15, 1.34987995e-15, 8.81701045e-16,\n",
       "       4.90245671e-16, 3.37935336e-16, 3.25129946e-16, 1.41719381e-16,\n",
       "       5.94465897e-17, 3.01472219e-17, 2.51327754e-17, 1.30355424e-17,\n",
       "       7.81582525e-18, 5.56371674e-18, 3.27624004e-18, 1.28073888e-18,\n",
       "       9.22151475e-19, 1.16390907e-18, 5.84612104e-19], dtype='>f8')"
      ]
     },
     "execution_count": 39,
     "metadata": {},
     "output_type": "execute_result"
    }
   ],
   "source": [
    "# Just inspecting the diagonal part of the covariance\n",
    "np.diag(my_lensing.data.cov)"
   ]
  },
  {
   "cell_type": "code",
   "execution_count": 40,
   "id": "22a67c33",
   "metadata": {},
   "outputs": [
    {
     "data": {
      "image/png": "[encoded data removed]",
      "text/plain": [
       "<Figure size 640x480 with 1 Axes>"
      ]
     },
     "metadata": {},
     "output_type": "display_data"
    }
   ],
   "source": [
    "# Plotting data against smooth theory\n",
    "plt.plot(my_lensing.bin_centers,my_lensing._get_theory(**cosmo_params),ls=None,marker='o')\n",
    "plt.errorbar(my_lensing._get_data()[0],my_lensing._get_data()[1],yerr=np.sqrt(np.diag(my_lensing.data.cov)),\n",
    "            marker='s', mfc='red',\n",
    "                 mec='green', ms=1, mew=1)\n",
    "plt.xscale('log')"
   ]
  },
  {
   "cell_type": "markdown",
   "id": "77140ad2-6e9a-4ec1-a529-8eb8b62fe410",
   "metadata": {},
   "source": [
    "We will now replace the noisy data above (in orange) with the binned smooth theory (in blue). We will make use of the astropy functions to read and write fits file. Let's access the lensing data file."
   ]
  },
  {
   "cell_type": "code",
   "execution_count": 41,
   "id": "4347b60b-5b6c-4210-897f-dce5ef8396b2",
   "metadata": {},
   "outputs": [
    {
     "name": "stdout",
     "output_type": "stream",
     "text": [
      "Filename: /Users/bradamante/Library/CloudStorage/GoogleDrive-grbmtn@unife.it/My Drive/Work/Projects/Open/cobaya_packages/data/LensingLikelihood/clkk_reconstruction_sim.fits\n",
      "No.    Name      Ver    Type      Cards   Dimensions   Format\n",
      "  0  PRIMARY       1 PrimaryHDU       5   ()      \n",
      "  1  window:TopHat    1 BinTableHDU     17   0R x 3C   [D, D, D]   \n",
      "  2  window:LogTopHat    1 BinTableHDU     17   0R x 3C   [D, D, D]   \n",
      "  3  window:Bandpower    1 BinTableHDU     17   3000R x 2C   [K, 19D]   \n",
      "  4  tracer:Misc    1 BinTableHDU     15   0R x 2C   [D, D]   \n",
      "  5  tracer:Misc    1 BinTableHDU     15   0R x 2C   [D, D]   \n",
      "  6  tracer:Map:ck:beam    1 BinTableHDU     19   3000R x 2C   [K, D]   \n",
      "  7  tracer:Map:ck:beam    1 BinTableHDU     19   3000R x 2C   [K, D]   \n",
      "  8  data:cl_00    1 BinTableHDU     24   19R x 6C   [2A, 2A, D, K, D, K]   \n",
      "  9  covariance    1 ImageHDU        11   (19, 19)   float64   \n"
     ]
    }
   ],
   "source": [
    "from astropy.io import fits\n",
    "\n",
    "fname = packages_path+\"data/LensingLikelihood/clkk_reconstruction_sim.fits\"\n",
    "hdul = fits.open(fname)\n",
    "\n",
    "hdul.info()"
   ]
  },
  {
   "cell_type": "markdown",
   "id": "e5dfc217-1903-4184-bbc5-fdb4ceb6c76e",
   "metadata": {},
   "source": [
    "Let's have a look at the data field"
   ]
  },
  {
   "cell_type": "code",
   "execution_count": 42,
   "id": "1a0ed12e-a937-431b-8336-1f0700a9c67f",
   "metadata": {},
   "outputs": [
    {
     "data": {
      "text/plain": [
       "FITS_rec([('ck', 'ck', 2.08628631e-07, 5425800144,  16. ,  0),\n",
       "          ('ck', 'ck', 2.06759899e-07, 5425800144,  20. ,  1),\n",
       "          ('ck', 'ck', 2.05908336e-07, 5425800144,  25.5,  2),\n",
       "          ('ck', 'ck', 1.96722358e-07, 5425800144,  32. ,  3),\n",
       "          ('ck', 'ck', 2.40971873e-07, 5425800144,  40. ,  4),\n",
       "          ('ck', 'ck', 2.35862718e-07, 5425800144,  50. ,  5),\n",
       "          ('ck', 'ck', 2.03424162e-07, 5425800144,  62.5,  6),\n",
       "          ('ck', 'ck', 2.05268642e-07, 5425800144,  78. ,  7),\n",
       "          ('ck', 'ck', 1.67222709e-07, 5425800144,  97.5,  8),\n",
       "          ('ck', 'ck', 1.42266397e-07, 5425800144, 122. ,  9),\n",
       "          ('ck', 'ck', 1.22087124e-07, 5425800144, 152.5, 10),\n",
       "          ('ck', 'ck', 9.93342229e-08, 5425800144, 190.5, 11),\n",
       "          ('ck', 'ck', 7.72285021e-08, 5425800144, 238. , 12),\n",
       "          ('ck', 'ck', 6.06240806e-08, 5425800144, 297.5, 13),\n",
       "          ('ck', 'ck', 4.65456694e-08, 5425800144, 371.5, 14),\n",
       "          ('ck', 'ck', 3.51545230e-08, 5425800144, 463.5, 15),\n",
       "          ('ck', 'ck', 2.56248418e-08, 5425800144, 578. , 16),\n",
       "          ('ck', 'ck', 1.83831188e-08, 5425800144, 721. , 17),\n",
       "          ('ck', 'ck', 1.33608071e-08, 5425800144, 900. , 18)],\n",
       "         dtype=(numpy.record, [('tracer_0', 'S2'), ('tracer_1', 'S2'), ('value', '>f8'), ('window', '>i8'), ('ell', '>f8'), ('window_ind', '>i8')]))"
      ]
     },
     "execution_count": 42,
     "metadata": {},
     "output_type": "execute_result"
    }
   ],
   "source": [
    "hdul[8].data"
   ]
  },
  {
   "cell_type": "code",
   "execution_count": 43,
   "id": "e5f7c8cb-79e4-4f7d-891a-7a0a074f8185",
   "metadata": {},
   "outputs": [
    {
     "data": {
      "text/plain": [
       "array([2.08628631e-07, 2.06759899e-07, 2.05908336e-07, 1.96722358e-07,\n",
       "       2.40971873e-07, 2.35862718e-07, 2.03424162e-07, 2.05268642e-07,\n",
       "       1.67222709e-07, 1.42266397e-07, 1.22087124e-07, 9.93342229e-08,\n",
       "       7.72285021e-08, 6.06240806e-08, 4.65456694e-08, 3.51545230e-08,\n",
       "       2.56248418e-08, 1.83831188e-08, 1.33608071e-08], dtype='>f8')"
      ]
     },
     "execution_count": 43,
     "metadata": {},
     "output_type": "execute_result"
    }
   ],
   "source": [
    "hdul[8].data[\"value\"]"
   ]
  },
  {
   "cell_type": "markdown",
   "id": "c41282bf-ce3c-4c8c-abef-0c2d41786558",
   "metadata": {},
   "source": [
    "Now, let's replace the ``value`` field with the binned smooth theory"
   ]
  },
  {
   "cell_type": "code",
   "execution_count": 44,
   "id": "348172dc-99ec-4396-bd7e-7345ea711254",
   "metadata": {},
   "outputs": [],
   "source": [
    "hdul[8].data[\"value\"][:] = my_lensing._get_theory(**cosmo_params)"
   ]
  },
  {
   "cell_type": "markdown",
   "id": "ce3b7a66-5db2-43ae-a0ae-7f069a600005",
   "metadata": {},
   "source": [
    "Let's check that the field has been overwritten with the new data"
   ]
  },
  {
   "cell_type": "code",
   "execution_count": 45,
   "id": "89dff6d2-b82c-4313-bb26-3bc83eab87f1",
   "metadata": {},
   "outputs": [
    {
     "data": {
      "text/plain": [
       "array([2.07815437e-07, 2.20137305e-07, 2.30467928e-07, 2.35956110e-07,\n",
       "       2.36333159e-07, 2.31141298e-07, 2.20116105e-07, 2.03743041e-07,\n",
       "       1.82771149e-07, 1.58824643e-07, 1.34120819e-07, 1.10471212e-07,\n",
       "       8.91894468e-08, 7.07145186e-08, 5.49051395e-08, 4.14479099e-08,\n",
       "       3.06533276e-08, 2.24168080e-08, 1.61930581e-08], dtype='>f8')"
      ]
     },
     "execution_count": 45,
     "metadata": {},
     "output_type": "execute_result"
    }
   ],
   "source": [
    "hdul[8].data[\"value\"]"
   ]
  },
  {
   "cell_type": "markdown",
   "id": "994016a5-24b8-43dc-b07f-895e75e9b02f",
   "metadata": {},
   "source": [
    "Ok! Let's now save the new fits object in a new fits file."
   ]
  },
  {
   "cell_type": "code",
   "execution_count": 46,
   "id": "e9d3898b-869c-47c6-b8b4-4b11c4e438d3",
   "metadata": {},
   "outputs": [],
   "source": [
    "ndir = packages_path+\"data/LensingLikelihood/soliket_lensing/smooth_data/clkk_reconstruction_sim_smooth.fits\"\n",
    "hdul.writeto(ndir, overwrite=True)"
   ]
  },
  {
   "cell_type": "markdown",
   "id": "9a966e20",
   "metadata": {},
   "source": [
    "# Test new data\n",
    "\n",
    "Let's read the newly created data and check that we get chi2=0 if compared against same fiducial"
   ]
  },
  {
   "cell_type": "code",
   "execution_count": 48,
   "id": "4c29769d",
   "metadata": {},
   "outputs": [],
   "source": [
    "info = {\n",
    "    \"likelihood\": {\n",
    "        \"soliket.LensingLikelihood\": {\n",
    "            #\"data_folder\": namedir,\n",
    "            \"data_filename\": \"soliket_lensing/smooth_data/clkk_reconstruction_sim_smooth.fits\",\n",
    "            \"theory_lmax\": 5000,\n",
    "            \"stop_at_error\": False,\n",
    "        }\n",
    "    },\n",
    "    \"theory\": {\"camb\": {\"extra_args\": {\"lens_potential_accuracy\": 1,\n",
    "                                       \"WantTransfer\": True,\n",
    "                                       \"Transfer.high_precision\": True,\n",
    "                                       \"Transfer.kmax\": 1.2,\n",
    "                                       #\"max_l\": 9151,\n",
    "                                       #\"max_eta_k\": 22877.5,\n",
    "                                       \"num_nu_massless\": 1.044, #we use the minimal normal ordering case: massless lightest state, m2 and m3 computed according to oscilation measurements\n",
    "                                       \"num_nu_massive\": 2, \n",
    "                                       \"nu_mass_eigenstates\": 2, \n",
    "                                       \"nu_mass_fractions\": [f2,f3],\n",
    "                                       \"nu_mass_numbers\": [1,1],\n",
    "                                       \"share_delta_neff\": False},\n",
    "                        \"stop_at_error\": True}},\n",
    "    \"params\": cosmo_params,\n",
    "    \"packages_path\": packages_path,\n",
    "    \"debug\": True,\n",
    "}"
   ]
  },
  {
   "cell_type": "code",
   "execution_count": 49,
   "id": "e9e5ccd7",
   "metadata": {},
   "outputs": [
    {
     "name": "stdout",
     "output_type": "stream",
     "text": [
      " 2025-05-07 14:50:02,048 [input] 'soliket.LensingLikelihood' could not be found as internal, trying external.\n",
      " 2025-05-07 14:50:02,058 [model] Input info updated with defaults (dumped to YAML):\n",
      "theory:\n",
      "  camb:\n",
      "    version: null\n",
      "    path: null\n",
      "    speed: 0.3\n",
      "    stop_at_error: true\n",
      "    extra_args:\n",
      "      lens_potential_accuracy: 1\n",
      "      WantTransfer: true\n",
      "      Transfer.high_precision: true\n",
      "      Transfer.kmax: 1.2\n",
      "      num_nu_massless: 1.044\n",
      "      num_nu_massive: 2\n",
      "      nu_mass_eigenstates: 2\n",
      "      nu_mass_fractions:\n",
      "      - 0.14763410387308012\n",
      "      - 0.8523658961269198\n",
      "      nu_mass_numbers:\n",
      "      - 1\n",
      "      - 1\n",
      "      share_delta_neff: false\n",
      "    ignore_obsolete: false\n",
      "    use_renames: false\n",
      "    external_primordial_pk: false\n",
      "    renames:\n",
      "      omegabh2: ombh2\n",
      "      omegach2: omch2\n",
      "      omegal: omega_de\n",
      "      omegak: omk\n",
      "      yhe: YHe\n",
      "      yheused: YHe\n",
      "      YpBBN: Y_p\n",
      "likelihood:\n",
      "  soliket.LensingLikelihood:\n",
      "    data_folder: LensingLikelihood/\n",
      "    data_filename: soliket_lensing/smooth_data/clkk_reconstruction_sim_smooth.fits\n",
      "    kind: pp\n",
      "    sim_number: 0\n",
      "    lmax: 3000\n",
      "    theory_lmax: 5000\n",
      "    pp_ccl: false\n",
      "    fiducial_params:\n",
      "      ombh2: 0.02219218\n",
      "      omch2: 0.1203058\n",
      "      H0: 67.02393\n",
      "      tau: 0.06574325\n",
      "      nnu: 3.046\n",
      "      As: 2.15086031154146e-09\n",
      "      ns: 0.9625356\n",
      "    binning_matrix_path: ''\n",
      "    name: TT\n",
      "    datapath: null\n",
      "    covpath: null\n",
      "    ncovsims: null\n",
      "    type: []\n",
      "    speed: -1\n",
      "    stop_at_error: false\n",
      "    version: null\n",
      "params:\n",
      "  cosmomc_theta:\n",
      "    value: 0.010409\n",
      "  logA:\n",
      "    value: 3.045\n",
      "    drop: true\n",
      "  As:\n",
      "    value: 'lambda logA: 1e-10*np.exp(logA)'\n",
      "    derived: true\n",
      "  ombh2:\n",
      "    value: 0.02236\n",
      "    renames:\n",
      "    - omegabh2\n",
      "  omch2:\n",
      "    value: 0.1202\n",
      "    renames:\n",
      "    - omegach2\n",
      "  ns:\n",
      "    value: 0.9649\n",
      "  Alens:\n",
      "    value: 1.0\n",
      "  tau:\n",
      "    value: 0.0544\n",
      "  mnu:\n",
      "    value: 0.05866025403784439\n",
      "  nnu:\n",
      "    value: 3.044\n",
      "packages_path: /Users/bradamante/Library/CloudStorage/GoogleDrive-grbmtn@unife.it/My\n",
      "  Drive/Work/Projects/Open/cobaya_packages/\n",
      "debug: true\n",
      "\n",
      " 2025-05-07 14:50:02,060 [camb] Attempting import of Cobaya-installed version, but defaulting to global import if not found.\n",
      " 2025-05-07 14:50:02,061 [camb] 'camb' to be imported from (sub)directory /Users/bradamante/Library/CloudStorage/GoogleDrive-grbmtn@unife.it/My Drive/Work/Projects/Open/cobaya_packages/code/CAMB\n",
      " 2025-05-07 14:50:02,062 [camb] Could not import 'camb' from /Users/bradamante/Library/CloudStorage/GoogleDrive-grbmtn@unife.it/My Drive/Work/Projects/Open/cobaya_packages/code/CAMB: Module camb successfully loaded, but not from requested path: /Users/bradamante/Library/CloudStorage/GoogleDrive-grbmtn@unife.it/My Drive/Work/Projects/Open/cobaya_packages/code/CAMB, but instead from /Users/bradamante/miniconda/envs/soliket-tests/lib/python3.11/site-packages/camb\n",
      " 2025-05-07 14:50:02,062 [camb] Defaulting to global import.\n",
      " 2025-05-07 14:50:02,063 [camb] `camb` module loaded successfully from /Users/bradamante/miniconda/envs/soliket-tests/lib/python3.11/site-packages/camb\n",
      " 2025-05-07 14:50:02,065 [likelihoodcollection] 'soliket.LensingLikelihood' could not be found as internal, trying external.\n",
      " 2025-05-07 14:50:02,066 [soliket.lensinglikelihood] Initialising.\n",
      " 2025-05-07 14:50:02,098 [camb] `camb` module loaded successfully from /Users/bradamante/miniconda/envs/soliket-tests/lib/python3.11/site-packages/camb\n"
     ]
    }
   ],
   "source": [
    "from cobaya.model import get_model\n",
    "\n",
    "model_test = get_model(info)"
   ]
  },
  {
   "cell_type": "code",
   "execution_count": 50,
   "id": "8c103f81",
   "metadata": {},
   "outputs": [
    {
     "data": {
      "text/plain": [
       "(array([343.33859468]), [2.101003120287951e-09])"
      ]
     },
     "execution_count": 50,
     "metadata": {},
     "output_type": "execute_result"
    }
   ],
   "source": [
    "my_lensing_test = model_test.likelihood[\"soliket.LensingLikelihood\"]\n",
    "model_test.loglikes()"
   ]
  },
  {
   "cell_type": "markdown",
   "id": "c8bacb73-4de5-4f92-83fa-45991c4c356f",
   "metadata": {},
   "source": [
    "Let's have a qualitative look at the comparison between smooth data and binned theory (obtained from the very same fiducial params). They should coincide!"
   ]
  },
  {
   "cell_type": "code",
   "execution_count": 51,
   "id": "6da6110d",
   "metadata": {},
   "outputs": [
    {
     "data": {
      "image/png": "[encoded data removed]",
      "text/plain": [
       "<Figure size 640x480 with 1 Axes>"
      ]
     },
     "metadata": {},
     "output_type": "display_data"
    }
   ],
   "source": [
    "plt.plot(my_lensing_test.bin_centers,my_lensing_test._get_theory(**cosmo_params),ls=None,marker='o')\n",
    "plt.errorbar(my_lensing_test._get_data()[0],my_lensing_test._get_data()[1],yerr=np.sqrt(np.diag(my_lensing_test.data.cov)),\n",
    "            marker='s', mfc='red',\n",
    "                 mec='green', ms=1, mew=1)\n",
    "plt.xscale('log')"
   ]
  },
  {
   "cell_type": "markdown",
   "id": "997febb6-cd3a-46f8-b0bb-fcb159ff457a",
   "metadata": {},
   "source": [
    "Ok! Let's now quantitatively check that data and theory are the same. We can do that by taking the difference between data and theory, and by computing the chi2 part of the loglike. Both should be zero!"
   ]
  },
  {
   "cell_type": "code",
   "execution_count": 52,
   "id": "ae5e3e9f",
   "metadata": {},
   "outputs": [
    {
     "data": {
      "text/plain": [
       "array([0., 0., 0., 0., 0., 0., 0., 0., 0., 0., 0., 0., 0., 0., 0., 0., 0.,\n",
       "       0., 0.])"
      ]
     },
     "execution_count": 52,
     "metadata": {},
     "output_type": "execute_result"
    }
   ],
   "source": [
    "my_lensing_test._get_theory(**cosmo_params)-my_lensing_test._get_data()[1]"
   ]
  },
  {
   "cell_type": "code",
   "execution_count": 53,
   "id": "9e3d3cc4-3a87-4a20-836c-dae20b58826e",
   "metadata": {},
   "outputs": [
    {
     "data": {
      "text/plain": [
       "-0.0"
      ]
     },
     "execution_count": 53,
     "metadata": {},
     "output_type": "execute_result"
    }
   ],
   "source": [
    "delta = my_lensing_test._get_theory(**cosmo_params)-my_lensing_test._get_data()[1]\n",
    "-0.5 * np.dot(delta, np.linalg.inv(my_lensing_test._get_cov()).dot(delta))"
   ]
  },
  {
   "cell_type": "markdown",
   "id": "b0cfd3e3",
   "metadata": {},
   "source": [
    "Awesome!!!"
   ]
  }
 ],
 "metadata": {
  "kernelspec": {
   "display_name": "Python 3 (ipykernel)",
   "language": "python",
   "name": "python3"
  },
  "language_info": {
   "codemirror_mode": {
    "name": "ipython",
    "version": 3
   },
   "file_extension": ".py",
   "mimetype": "text/x-python",
   "name": "python",
   "nbconvert_exporter": "python",
   "pygments_lexer": "ipython3",
   "version": "3.11.0"
  }
 },
 "nbformat": 4,
 "nbformat_minor": 5
}
