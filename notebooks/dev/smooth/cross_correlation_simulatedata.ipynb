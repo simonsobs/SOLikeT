{
 "cells": [
  {
   "cell_type": "code",
   "execution_count": 1,
   "id": "296ce09a",
   "metadata": {},
   "outputs": [],
   "source": [
    "import numpy as np\n",
    "from astropy import units\n",
    "import pyccl as ccl\n",
    "import sacc\n",
    "\n",
    "import sys\n",
    "sys.path.append('../../')\n",
    "\n",
    "from matplotlib import pyplot as plt"
   ]
  },
  {
   "cell_type": "markdown",
   "id": "88cc94b4",
   "metadata": {},
   "source": [
    "# Set up cosmology"
   ]
  },
  {
   "cell_type": "code",
   "execution_count": 2,
   "id": "5db24a17",
   "metadata": {},
   "outputs": [],
   "source": [
    "cosmo = ccl.Cosmology(Omega_c=0.25,\n",
    "                      Omega_b=0.05,\n",
    "                      h=0.7,\n",
    "                      n_s=0.965,\n",
    "                      A_s=2.11e-9,\n",
    "                      Omega_k=0.0,\n",
    "                      Neff=3.046,\n",
    "                      matter_power_spectrum='linear')\n",
    "b1_unwise = 1.0\n",
    "s1_unwise = 0.4"
   ]
  },
  {
   "cell_type": "code",
   "execution_count": 20,
   "id": "c5d1b487",
   "metadata": {},
   "outputs": [
    {
     "data": {
      "text/plain": [
       "pyccl.Cosmology(Omega_c=0.25, Omega_b=0.05, h=0.7, n_s=0.965, sigma8=None, A_s=2.11e-09, Omega_k=0.0, Omega_g=None, Neff=3.046, w0=-1.0, wa=0.0, T_CMB=None, bcm_log10Mc=14.079181246047625, bcm_etab=0.5, bcm_ks=55.0, mu_0=0.0, sigma_0=0.0, c1_mg=1.0, c2_mg=1.0, lambda_mg=0.0, m_nu=0.0, m_nu_type=None, z_mg=None, df_mg=None, transfer_function='boltzmann_camb', matter_power_spectrum='linear', baryons_power_spectrum='nobaryons', mass_function='tinker10', halo_concentration='duffy2008', emulator_neutrinos='strict')"
      ]
     },
     "execution_count": 20,
     "metadata": {},
     "output_type": "execute_result"
    }
   ],
   "source": [
    "cosmo"
   ]
  },
  {
   "cell_type": "markdown",
   "id": "418ed394",
   "metadata": {},
   "source": [
    "# Set up binning"
   ]
  },
  {
   "cell_type": "code",
   "execution_count": 3,
   "id": "39d96e49",
   "metadata": {},
   "outputs": [],
   "source": [
    "ell_max = 600\n",
    "n_ell = 20\n",
    "delta_ell = ell_max // n_ell\n",
    "\n",
    "ells = (np.arange(n_ell) + 0.5) * delta_ell\n",
    "\n",
    "ells_win = np.arange(ell_max + 1)\n",
    "wins = np.zeros([n_ell, len(ells_win)])\n",
    "\n",
    "for i in range(n_ell):\n",
    "    wins[i, i * delta_ell : (i + 1) * delta_ell] = 1.0\n",
    "    \n",
    "Well = sacc.BandpowerWindow(ells_win, wins.T)"
   ]
  },
  {
   "cell_type": "markdown",
   "id": "88c43116",
   "metadata": {},
   "source": [
    "# Set up unWISE tracer"
   ]
  },
  {
   "cell_type": "code",
   "execution_count": 4,
   "id": "c8e82dfc",
   "metadata": {},
   "outputs": [],
   "source": [
    "dndz_unwise = np.loadtxt('../../soliket/xcorr/data/dndz.txt')\n",
    "ngal_unwise = 1.\n",
    "fsky_unwise = 0.4\n",
    "\n",
    "tracer_unwise_g = ccl.NumberCountsTracer(cosmo,\n",
    "                                         has_rsd=False,\n",
    "                                         dndz=dndz_unwise.T,\n",
    "                                         bias=(dndz_unwise[:,0], b1_unwise * np.ones(len(dndz_unwise[:,0]))), \n",
    "                                         mag_bias=(dndz_unwise[:,0], s1_unwise * np.ones(len(dndz_unwise[:,0])))\n",
    "                                         )\n",
    "\n",
    "Nell_unwise_g = np.ones(n_ell) / (ngal_unwise * (60 * 180 / np.pi)**2)"
   ]
  },
  {
   "cell_type": "markdown",
   "id": "8595cbf0",
   "metadata": {},
   "source": [
    "# Set up SO CMB lensing tracer"
   ]
  },
  {
   "cell_type": "code",
   "execution_count": 5,
   "id": "b41fbc8d",
   "metadata": {},
   "outputs": [],
   "source": [
    "zstar = 1086\n",
    "fsky_solensing = 0.4\n",
    "\n",
    "tracer_so_k = ccl.CMBLensingTracer(cosmo, z_source=zstar)\n",
    "\n",
    "# Approximation to SO LAT beam\n",
    "fwhm_so_k = 1. * units.arcmin\n",
    "sigma_so_k = (fwhm_so_k.to(units.rad).value / 2.355)\n",
    "ell_beam = np.arange(3000)\n",
    "beam_so_k = np.exp(-ell_beam * (ell_beam + 1) * sigma_so_k**2)"
   ]
  },
  {
   "cell_type": "markdown",
   "id": "2da86e56",
   "metadata": {},
   "source": [
    "# Calculate power spectra"
   ]
  },
  {
   "cell_type": "code",
   "execution_count": 6,
   "id": "75519761",
   "metadata": {},
   "outputs": [],
   "source": [
    "n_maps = 2\n",
    "cls = np.zeros([n_maps, n_maps, n_ell])\n",
    "\n",
    "cls[0, 0, :] = ccl.angular_cl(cosmo, tracer_unwise_g, tracer_unwise_g, ells) + Nell_unwise_g\n",
    "\n",
    "cls[0, 1, :] = ccl.angular_cl(cosmo, tracer_unwise_g, tracer_so_k, ells)\n",
    "cls[1, 0, :] = cls[0, 1, :]\n",
    "\n",
    "cls[1, 1, :] = ccl.angular_cl(cosmo, tracer_so_k, tracer_so_k, ells)"
   ]
  },
  {
   "cell_type": "markdown",
   "id": "4113c57a",
   "metadata": {},
   "source": [
    "# Set up covariance"
   ]
  },
  {
   "cell_type": "code",
   "execution_count": 7,
   "id": "620c0df5",
   "metadata": {},
   "outputs": [],
   "source": [
    "n_cross = (n_maps * (n_maps + 1)) // 2\n",
    "covar = np.zeros([n_cross, n_ell, n_cross, n_ell])\n",
    "\n",
    "id_i = 0\n",
    "for i1 in range(n_maps):\n",
    "    for i2 in range(i1, n_maps):\n",
    "        id_j = 0\n",
    "        for j1 in range(n_maps):\n",
    "            for j2 in range(j1, n_maps):\n",
    "                cl_i1j1 = cls[i1, j1, :]\n",
    "                cl_i1j2 = cls[i1, j2, :]\n",
    "                cl_i2j1 = cls[i2, j1, :]\n",
    "                cl_i2j2 = cls[i2, j2, :]\n",
    "                # Knox formula\n",
    "                cov = (cl_i1j1 * cl_i2j2 + cl_i1j2 * cl_i2j1) / (delta_ell * fsky_solensing * (2 * ells + 1))\n",
    "                covar[id_i, :, id_j, :] = np.diag(cov)\n",
    "                id_j += 1\n",
    "        id_i += 1\n",
    "        \n",
    "covar = covar.reshape([n_cross * n_ell, n_cross * n_ell])"
   ]
  },
  {
   "cell_type": "markdown",
   "id": "9024625e",
   "metadata": {},
   "source": [
    "# Construct sacc file"
   ]
  },
  {
   "cell_type": "code",
   "execution_count": 8,
   "id": "a00dfdbc",
   "metadata": {},
   "outputs": [],
   "source": [
    "s = sacc.Sacc()"
   ]
  },
  {
   "cell_type": "code",
   "execution_count": 9,
   "id": "b91478f0",
   "metadata": {},
   "outputs": [],
   "source": [
    "s.add_tracer('NZ', 'gc_unwise',\n",
    "            quantity='galaxy_density',\n",
    "            spin=0,\n",
    "            z=dndz_unwise[:,0],\n",
    "            nz=dndz_unwise[:,1],\n",
    "            metadata={'ngal': ngal_unwise})\n",
    "\n",
    "s.add_tracer('Map', 'ck_so',\n",
    "            quantity='cmb_convergence',\n",
    "            spin=0,\n",
    "            ell=ell_beam,\n",
    "            beam=beam_so_k)"
   ]
  },
  {
   "cell_type": "code",
   "execution_count": 10,
   "id": "58a67a06",
   "metadata": {},
   "outputs": [],
   "source": [
    "s.add_ell_cl('cl_00',\n",
    "             'gc_unwise',\n",
    "             'gc_unwise',\n",
    "             ells, cls[0, 0, :],\n",
    "             window=Well)\n",
    "\n",
    "s.add_ell_cl('cl_00',\n",
    "             'gc_unwise',\n",
    "             'ck_so',\n",
    "             ells, cls[0, 1, :],\n",
    "             window=Well)\n",
    "\n",
    "s.add_ell_cl('cl_00',\n",
    "             'ck_so',\n",
    "             'ck_so',\n",
    "             ells, cls[1, 1, :],\n",
    "             window=Well)"
   ]
  },
  {
   "cell_type": "code",
   "execution_count": 11,
   "id": "f76675aa",
   "metadata": {},
   "outputs": [],
   "source": [
    "s.add_covariance(covar)"
   ]
  },
  {
   "cell_type": "code",
   "execution_count": 12,
   "id": "71c72b97",
   "metadata": {},
   "outputs": [
    {
     "name": "stderr",
     "output_type": "stream",
     "text": [
      "WARNING: VerifyWarning: Keyword name 'META_ngal' is greater than 8 characters or contains characters not allowed by the FITS standard; a HIERARCH card will be created. [astropy.io.fits.card]\n"
     ]
    }
   ],
   "source": [
    "s.save_fits('../../soliket/tests/data/unwise_g-so_kappa.sim.sacc.fits', overwrite=True)"
   ]
  },
  {
   "cell_type": "markdown",
   "id": "d98c9b8e",
   "metadata": {},
   "source": [
    "# Read sacc file and compare to 'theory'"
   ]
  },
  {
   "cell_type": "code",
   "execution_count": 13,
   "id": "6b6831ff",
   "metadata": {},
   "outputs": [],
   "source": [
    "s_load = sacc.Sacc.load_fits('../../soliket/tests/data/unwise_g-so_kappa.sim.sacc.fits')"
   ]
  },
  {
   "cell_type": "code",
   "execution_count": 14,
   "id": "f29b20ef",
   "metadata": {},
   "outputs": [
    {
     "name": "stdout",
     "output_type": "stream",
     "text": [
      "ck_so cmb_convergence <class 'sacc.tracers.MapTracer'>\n",
      "gc_unwise galaxy_density <class 'sacc.tracers.NZTracer'>\n"
     ]
    }
   ],
   "source": [
    "for n, t in s_load.tracers.items():\n",
    "    print(t.name, t.quantity, type(t))"
   ]
  },
  {
   "cell_type": "code",
   "execution_count": 15,
   "id": "d1150f7a",
   "metadata": {},
   "outputs": [
    {
     "name": "stdout",
     "output_type": "stream",
     "text": [
      "Data types:  ['cl_00']\n",
      "Tracer combinations:  [('ck_so', 'ck_so'), ('gc_unwise', 'ck_so'), ('gc_unwise', 'gc_unwise')]\n",
      "Nell:  60\n"
     ]
    }
   ],
   "source": [
    "\n",
    "# Type of power spectra\n",
    "data_types = np.unique([d.data_type for d in s_load.data])\n",
    "print(\"Data types: \", data_types)\n",
    "\n",
    "# Tracer combinations\n",
    "print(\"Tracer combinations: \", s_load.get_tracer_combinations())\n",
    "\n",
    "# Data size\n",
    "print(\"Nell: \", s_load.mean.size)"
   ]
  },
  {
   "cell_type": "code",
   "execution_count": 16,
   "id": "165c4abd",
   "metadata": {},
   "outputs": [],
   "source": [
    "ell_theory = np.linspace(1,ell_max,ell_max)\n",
    "\n",
    "z_unwise = s_load.tracers['gc_unwise'].z\n",
    "nz_unwise = s_load.tracers['gc_unwise'].nz\n",
    "\n",
    "tracer_gc_unwise = ccl.NumberCountsTracer(cosmo, has_rsd=False,\n",
    "                                          dndz=[z_unwise, nz_unwise],\n",
    "                                          bias=(z_unwise, b1_unwise * np.ones(len(z_unwise))), \n",
    "                                          mag_bias=(z_unwise, s1_unwise * np.ones(len(z_unwise)))\n",
    "                                         )\n",
    "\n",
    "tracer_ck_so = ccl.CMBLensingTracer(cosmo, z_source=zstar)\n",
    "\n",
    "cl_gg_theory = ccl.angular_cl(cosmo, tracer_gc_unwise, tracer_gc_unwise, ell_theory)\n",
    "cl_gk_theory = ccl.angular_cl(cosmo, tracer_gc_unwise, tracer_ck_so, ell_theory)\n",
    "cl_kk_theory = ccl.angular_cl(cosmo, tracer_ck_so, tracer_ck_so, ell_theory)\n",
    "\n",
    "Nell_unwise_g = np.ones_like(ell_theory) / (s_load.tracers['gc_unwise'].metadata['ngal'] * (60 * 180 / np.pi)**2)"
   ]
  },
  {
   "cell_type": "code",
   "execution_count": 17,
   "id": "7a14780c",
   "metadata": {},
   "outputs": [
    {
     "data": {
      "image/png": "[encoded data removed]",
      "text/plain": [
       "<Figure size 972x270 with 3 Axes>"
      ]
     },
     "metadata": {
      "needs_background": "light"
     },
     "output_type": "display_data"
    }
   ],
   "source": [
    "plt.figure(1, figsize=(3.*4.5, 3.75))\n",
    "\n",
    "plt.suptitle(r'SO $\\times$ unWISE')\n",
    "\n",
    "plt.subplot(131)\n",
    "plt.title(r'$gg$')\n",
    "ell, cl, cov = s_load.get_ell_cl('cl_00', 'gc_unwise', 'gc_unwise', return_cov=True)\n",
    "cl_err = np.sqrt(np.diag(cov))\n",
    "plt.plot(ell_theory, 1.e5*(cl_gg_theory + Nell_unwise_g), '--', c='C0')\n",
    "plt.plot(ell, 1.e5*cl, 'o', ms=3, c='C0')\n",
    "plt.errorbar(ell, 1.e5*cl, yerr=1.e5*cl_err, fmt='none', c='C0')\n",
    "plt.xlim([1,ell_max])\n",
    "plt.xlabel(r'$\\ell$')\n",
    "plt.ylabel(r'$C_\\ell \\times 10^5$')\n",
    "\n",
    "plt.subplot(132)\n",
    "plt.title(r'$g\\kappa$')\n",
    "ell, cl, cov = s_load.get_ell_cl('cl_00', 'gc_unwise', 'ck_so', return_cov=True)\n",
    "cl_err = np.sqrt(np.diag(cov))\n",
    "plt.plot(ell_theory, 1.e5*ell_theory*cl_gk_theory , '--', c='C1')\n",
    "plt.plot(ell, 1.e5*ell*cl, 'o', ms=3, c='C1')\n",
    "plt.errorbar(ell, 1.e5*ell*cl, yerr=1.e5*ell*cl_err, fmt='none', c='C1')\n",
    "plt.xlim([1,ell_max])\n",
    "plt.xlabel(r'$\\ell$')\n",
    "plt.ylabel(r'$\\ell C_\\ell \\times 10^5$')\n",
    "\n",
    "plt.subplot(133)\n",
    "plt.title(r'$\\kappa\\kappa$')\n",
    "ell, cl, cov = s_load.get_ell_cl('cl_00', 'ck_so', 'ck_so', return_cov=True)\n",
    "cl_err = np.sqrt(np.diag(cov))\n",
    "plt.plot(ell_theory, 1.e5*ell_theory*cl_kk_theory , '--', c='C2')\n",
    "plt.plot(ell, 1.e5*ell*cl, 'o', ms=3, c='C2')\n",
    "plt.errorbar(ell, 1.e5*ell*cl, yerr=1.e5*ell*cl_err, fmt='none', c='C2')\n",
    "plt.xlim([1,ell_max])\n",
    "plt.xlabel(r'$\\ell$')\n",
    "plt.ylabel(r'$\\ell C_\\ell \\times 10^5$')\n",
    "plt.subplots_adjust(wspace=0.25);"
   ]
  }
 ],
 "metadata": {
  "kernelspec": {
   "display_name": "Python 3 (ipykernel)",
   "language": "python",
   "name": "python3"
  },
  "language_info": {
   "codemirror_mode": {
    "name": "ipython",
    "version": 3
   },
   "file_extension": ".py",
   "mimetype": "text/x-python",
   "name": "python",
   "nbconvert_exporter": "python",
   "pygments_lexer": "ipython3",
   "version": "3.9.7"
  }
 },
 "nbformat": 4,
 "nbformat_minor": 5
}
