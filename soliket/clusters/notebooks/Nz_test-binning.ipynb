{
 "cells": [
  {
   "cell_type": "code",
   "execution_count": 1,
   "metadata": {},
   "outputs": [
    {
     "name": "stderr",
     "output_type": "stream",
     "text": [
      "INFO:CAMB:Importing *auto-installed* CAMB (but defaulting to *global*).\n"
     ]
    },
    {
     "name": "stdout",
     "output_type": "stream",
     "text": [
      "[CAMB] Importing *auto-installed* CAMB (but defaulting to *global*).\n"
     ]
    },
    {
     "name": "stderr",
     "output_type": "stream",
     "text": [
      "INFO:camb:Initialized!\n"
     ]
    },
    {
     "name": "stdout",
     "output_type": "stream",
     "text": [
      "[camb] Initialized!\n"
     ]
    },
    {
     "name": "stderr",
     "output_type": "stream",
     "text": [
      "INFO:soliket.binned_clusters.binned_clusters:Downsampling selection function inputs.\n"
     ]
    },
    {
     "name": "stdout",
     "output_type": "stream",
     "text": [
      "\r",
      " :::::: this is initialisation in binned_clusters.py\n",
      "\r",
      " :::::: reading catalogue\n",
      "\r",
      " Number of mass bins :  138\n",
      "[soliket.binned_clusters.binned_clusters] Downsampling selection function inputs.\n"
     ]
    },
    {
     "name": "stderr",
     "output_type": "stream",
     "text": [
      "INFO:soliket.binned_clusters.binned_clusters:Loading files describing selection function.\n"
     ]
    },
    {
     "name": "stdout",
     "output_type": "stream",
     "text": [
      " SO for a full map\n",
      " 2D likelihood as a function of redshift and signal-to-noise\n",
      "\r",
      " Total number of clusters in catalogue =  4195\n",
      "\r",
      " SNR cut =  5.0\n",
      "\r",
      " Number of clusters above the SNR cut =  2419\n",
      "\r",
      " The highest redshift = 1.91\n",
      "\r",
      " Number of redshift bins =  20\n",
      "\r",
      " Catalogue N in redshift bins\n",
      "0 30.0\n",
      "1 106.0\n",
      "2 246.0\n",
      "3 329.0\n",
      "4 380.0\n",
      "5 350.0\n",
      "6 300.0\n",
      "7 223.0\n",
      "8 174.0\n",
      "9 121.0\n",
      "10 65.0\n",
      "11 42.0\n",
      "12 30.0\n",
      "13 15.0\n",
      "14 6.0\n",
      "15 0.0\n",
      "16 0.0\n",
      "17 1.0\n",
      "18 0.0\n",
      "19 1.0\n",
      "20 0.0\n",
      "2419.0\n",
      "\r",
      " The lowest SNR = 5.00\n",
      "\r",
      " The highest SNR = 53.68\n",
      "\r",
      " Number of SNR bins =  6\n",
      "\r",
      " Centres of SNR bins =  [  5.30884444   9.44060876  16.78804018  29.85382619  53.08844442\n",
      "  94.40608763 167.88040181]\n",
      "\r",
      " Edges of SNR bins =  [  3.98107171   7.07945784  12.58925412  22.38721139  39.81071706\n",
      "  70.79457844 125.89254118]\n",
      "\r",
      " Catalogue N in SNR bins\n",
      " 0 1465.0\n",
      " 1 763.0\n",
      " 2 161.0\n",
      " 3 26.0\n",
      " 4 4.0\n",
      " 5 0.0\n",
      " 6 0.0\n",
      "[soliket.binned_clusters.binned_clusters] Loading files describing selection function.\n"
     ]
    },
    {
     "name": "stderr",
     "output_type": "stream",
     "text": [
      "INFO:soliket.binned_clusters.binned_clusters:Reading Q as a function of theta.\n"
     ]
    },
    {
     "name": "stdout",
     "output_type": "stream",
     "text": [
      "[soliket.binned_clusters.binned_clusters] Reading Q as a function of theta.\n"
     ]
    },
    {
     "name": "stderr",
     "output_type": "stream",
     "text": [
      "INFO:soliket.binned_clusters.binned_clusters:Reading full Q function.\n"
     ]
    },
    {
     "name": "stdout",
     "output_type": "stream",
     "text": [
      "[soliket.binned_clusters.binned_clusters] Reading full Q function.\n"
     ]
    },
    {
     "name": "stderr",
     "output_type": "stream",
     "text": [
      "INFO:soliket.binned_clusters.binned_clusters:Number of tiles = 280.\n"
     ]
    },
    {
     "name": "stdout",
     "output_type": "stream",
     "text": [
      "[soliket.binned_clusters.binned_clusters] Number of tiles = 280.\n"
     ]
    },
    {
     "name": "stderr",
     "output_type": "stream",
     "text": [
      "INFO:soliket.binned_clusters.binned_clusters:Reading RMS.\n"
     ]
    },
    {
     "name": "stdout",
     "output_type": "stream",
     "text": [
      "[soliket.binned_clusters.binned_clusters] Reading RMS.\n"
     ]
    },
    {
     "name": "stderr",
     "output_type": "stream",
     "text": [
      "INFO:soliket.binned_clusters.binned_clusters:Reading in full RMS table.\n"
     ]
    },
    {
     "name": "stdout",
     "output_type": "stream",
     "text": [
      "[soliket.binned_clusters.binned_clusters] Reading in full RMS table.\n"
     ]
    },
    {
     "name": "stderr",
     "output_type": "stream",
     "text": [
      "INFO:soliket.binned_clusters.binned_clusters:Number of tiles = 263. \n"
     ]
    },
    {
     "name": "stdout",
     "output_type": "stream",
     "text": [
      "[soliket.binned_clusters.binned_clusters] Number of tiles = 263. \n"
     ]
    },
    {
     "name": "stderr",
     "output_type": "stream",
     "text": [
      "INFO:soliket.binned_clusters.binned_clusters:Number of sky patches = 102519.\n"
     ]
    },
    {
     "name": "stdout",
     "output_type": "stream",
     "text": [
      "[soliket.binned_clusters.binned_clusters] Number of sky patches = 102519.\n"
     ]
    },
    {
     "name": "stderr",
     "output_type": "stream",
     "text": [
      "INFO:soliket.binned_clusters.binned_clusters:Downsampling RMS and Q function using 5 bins.\n"
     ]
    },
    {
     "name": "stdout",
     "output_type": "stream",
     "text": [
      "[soliket.binned_clusters.binned_clusters] Downsampling RMS and Q function using 5 bins.\n"
     ]
    },
    {
     "name": "stderr",
     "output_type": "stream",
     "text": [
      "INFO:soliket.binned_clusters.binned_clusters:Number of downsampled sky patches = 5.\n"
     ]
    },
    {
     "name": "stdout",
     "output_type": "stream",
     "text": [
      "[soliket.binned_clusters.binned_clusters] Number of downsampled sky patches = 5.\n"
     ]
    },
    {
     "name": "stderr",
     "output_type": "stream",
     "text": [
      "INFO:soliket.binned_clusters.binned_clusters:Number of Q functions = 5.\n"
     ]
    },
    {
     "name": "stdout",
     "output_type": "stream",
     "text": [
      "[soliket.binned_clusters.binned_clusters] Number of Q functions = 5.\n"
     ]
    },
    {
     "name": "stderr",
     "output_type": "stream",
     "text": [
      "INFO:soliket.binned_clusters.binned_clusters:Entire survey area = 13211.395702126332 deg2.\n"
     ]
    },
    {
     "name": "stdout",
     "output_type": "stream",
     "text": [
      "[soliket.binned_clusters.binned_clusters] Entire survey area = 13211.395702126332 deg2.\n",
      " Nz for higher resolution =  291\n"
     ]
    },
    {
     "name": "stderr",
     "output_type": "stream",
     "text": [
      "ERROR:soliket.binnedclusterlikelihood:Error at evaluation. See error information below.\n"
     ]
    },
    {
     "name": "stdout",
     "output_type": "stream",
     "text": [
      "[soliket.binnedclusterlikelihood] *ERROR* Error at evaluation. See error information below.\n"
     ]
    },
    {
     "ename": "IndexError",
     "evalue": "index 140 is out of bounds for axis 1 with size 138",
     "output_type": "error",
     "traceback": [
      "\u001b[0;31m---------------------------------------------------------------------------\u001b[0m",
      "\u001b[0;31mRemoteTraceback\u001b[0m                           Traceback (most recent call last)",
      "\u001b[0;31mRemoteTraceback\u001b[0m: \n\"\"\"\nTraceback (most recent call last):\n  File \"/usr/local/anaconda3/lib/python3.8/multiprocessing/pool.py\", line 125, in worker\n    result = (True, func(*args, **kwds))\n  File \"/usr/local/anaconda3/lib/python3.8/multiprocessing/pool.py\", line 48, in mapstar\n    return list(map(*args))\n  File \"/Users/boris/Work/CLASS-SZ/SO-SZ/SOLikeT/soliket/binned_clusters/binned_clusters.py\", line 1174, in get_comp_zarr2D\n    erfunc.append(get_erf_compl(y0[i,index_z,int(tile[j])-1], qmin, qmax, noise[j], qcut))\nIndexError: index 140 is out of bounds for axis 1 with size 138\n\"\"\"",
      "\nThe above exception was the direct cause of the following exception:\n",
      "\u001b[0;31mIndexError\u001b[0m                                Traceback (most recent call last)",
      "\u001b[0;32m/var/folders/_q/j04c9lw93j75_c_z2jdfbtwm0000gn/T/ipykernel_6081/2254738176.py\u001b[0m in \u001b[0;36m<module>\u001b[0;34m\u001b[0m\n\u001b[1;32m     81\u001b[0m \u001b[0mmodel\u001b[0m \u001b[0;34m=\u001b[0m \u001b[0mget_model\u001b[0m\u001b[0;34m(\u001b[0m\u001b[0minfo\u001b[0m\u001b[0;34m)\u001b[0m\u001b[0;34m\u001b[0m\u001b[0;34m\u001b[0m\u001b[0m\n\u001b[1;32m     82\u001b[0m \u001b[0mlike\u001b[0m \u001b[0;34m=\u001b[0m \u001b[0mmodel\u001b[0m\u001b[0;34m.\u001b[0m\u001b[0mlikelihood\u001b[0m\u001b[0;34m[\u001b[0m\u001b[0;34m'soliket.BinnedClusterLikelihood'\u001b[0m\u001b[0;34m]\u001b[0m\u001b[0;34m\u001b[0m\u001b[0;34m\u001b[0m\u001b[0m\n\u001b[0;32m---> 83\u001b[0;31m \u001b[0mmodel\u001b[0m\u001b[0;34m.\u001b[0m\u001b[0mloglikes\u001b[0m\u001b[0;34m(\u001b[0m\u001b[0;34m{\u001b[0m\u001b[0;34m}\u001b[0m\u001b[0;34m)\u001b[0m\u001b[0;34m[\u001b[0m\u001b[0;36m0\u001b[0m\u001b[0;34m]\u001b[0m\u001b[0;34m\u001b[0m\u001b[0;34m\u001b[0m\u001b[0m\n\u001b[0m",
      "\u001b[0;32m~/Work/CLASS-SZ/SO-SZ/cobaya_sz/cobaya/model.py\u001b[0m in \u001b[0;36mloglikes\u001b[0;34m(self, params_values, return_derived, make_finite, cached)\u001b[0m\n\u001b[1;32m    303\u001b[0m \u001b[0;34m\u001b[0m\u001b[0m\n\u001b[1;32m    304\u001b[0m         \u001b[0minput_params\u001b[0m \u001b[0;34m=\u001b[0m \u001b[0mself\u001b[0m\u001b[0;34m.\u001b[0m\u001b[0mparameterization\u001b[0m\u001b[0;34m.\u001b[0m\u001b[0mto_input\u001b[0m\u001b[0;34m(\u001b[0m\u001b[0mparams_values\u001b[0m\u001b[0;34m)\u001b[0m\u001b[0;34m\u001b[0m\u001b[0;34m\u001b[0m\u001b[0m\n\u001b[0;32m--> 305\u001b[0;31m         return self._loglikes_input_params(input_params, return_derived=return_derived,\n\u001b[0m\u001b[1;32m    306\u001b[0m                                            cached=cached, make_finite=make_finite)\n\u001b[1;32m    307\u001b[0m \u001b[0;34m\u001b[0m\u001b[0m\n",
      "\u001b[0;32m~/Work/CLASS-SZ/SO-SZ/cobaya_sz/cobaya/model.py\u001b[0m in \u001b[0;36m_loglikes_input_params\u001b[0;34m(self, input_params, return_derived, make_finite, cached)\u001b[0m\n\u001b[1;32m    308\u001b[0m     def _loglikes_input_params(self, input_params, return_derived=True, make_finite=False,\n\u001b[1;32m    309\u001b[0m                                cached=True):\n\u001b[0;32m--> 310\u001b[0;31m         result = self.logps(input_params, return_derived=return_derived, cached=cached,\n\u001b[0m\u001b[1;32m    311\u001b[0m                             make_finite=make_finite)\n\u001b[1;32m    312\u001b[0m         \u001b[0;32mif\u001b[0m \u001b[0mreturn_derived\u001b[0m\u001b[0;34m:\u001b[0m\u001b[0;34m\u001b[0m\u001b[0;34m\u001b[0m\u001b[0m\n",
      "\u001b[0;32m~/Work/CLASS-SZ/SO-SZ/cobaya_sz/cobaya/model.py\u001b[0m in \u001b[0;36mlogps\u001b[0;34m(self, input_params, return_derived, cached, make_finite)\u001b[0m\n\u001b[1;32m    243\u001b[0m             \u001b[0mdepend_list\u001b[0m \u001b[0;34m=\u001b[0m \u001b[0;34m[\u001b[0m\u001b[0minput_params\u001b[0m\u001b[0;34m[\u001b[0m\u001b[0mp\u001b[0m\u001b[0;34m]\u001b[0m \u001b[0;32mfor\u001b[0m \u001b[0mp\u001b[0m \u001b[0;32min\u001b[0m \u001b[0mparam_dep\u001b[0m\u001b[0;34m]\u001b[0m\u001b[0;34m\u001b[0m\u001b[0;34m\u001b[0m\u001b[0m\n\u001b[1;32m    244\u001b[0m             \u001b[0mparams\u001b[0m \u001b[0;34m=\u001b[0m \u001b[0;34m{\u001b[0m\u001b[0mp\u001b[0m\u001b[0;34m:\u001b[0m \u001b[0minput_params\u001b[0m\u001b[0;34m[\u001b[0m\u001b[0mp\u001b[0m\u001b[0;34m]\u001b[0m \u001b[0;32mfor\u001b[0m \u001b[0mp\u001b[0m \u001b[0;32min\u001b[0m \u001b[0mcomponent\u001b[0m\u001b[0;34m.\u001b[0m\u001b[0minput_params\u001b[0m\u001b[0;34m}\u001b[0m\u001b[0;34m\u001b[0m\u001b[0;34m\u001b[0m\u001b[0m\n\u001b[0;32m--> 245\u001b[0;31m             compute_success = component.check_cache_and_compute(\n\u001b[0m\u001b[1;32m    246\u001b[0m                 \u001b[0mparams\u001b[0m\u001b[0;34m,\u001b[0m \u001b[0mwant_derived\u001b[0m\u001b[0;34m=\u001b[0m\u001b[0mneed_derived\u001b[0m\u001b[0;34m,\u001b[0m\u001b[0;34m\u001b[0m\u001b[0;34m\u001b[0m\u001b[0m\n\u001b[1;32m    247\u001b[0m                 dependency_params=depend_list, cached=cached)\n",
      "\u001b[0;32m~/Work/CLASS-SZ/SO-SZ/cobaya_sz/cobaya/theory.py\u001b[0m in \u001b[0;36mcheck_cache_and_compute\u001b[0;34m(self, params_values_dict, dependency_params, want_derived, cached)\u001b[0m\n\u001b[1;32m    258\u001b[0m                 \u001b[0mself\u001b[0m\u001b[0;34m.\u001b[0m\u001b[0mtimer\u001b[0m\u001b[0;34m.\u001b[0m\u001b[0mstart\u001b[0m\u001b[0;34m(\u001b[0m\u001b[0;34m)\u001b[0m\u001b[0;34m\u001b[0m\u001b[0;34m\u001b[0m\u001b[0m\n\u001b[1;32m    259\u001b[0m             \u001b[0;32mtry\u001b[0m\u001b[0;34m:\u001b[0m\u001b[0;34m\u001b[0m\u001b[0;34m\u001b[0m\u001b[0m\n\u001b[0;32m--> 260\u001b[0;31m                 \u001b[0;32mif\u001b[0m \u001b[0mself\u001b[0m\u001b[0;34m.\u001b[0m\u001b[0mcalculate\u001b[0m\u001b[0;34m(\u001b[0m\u001b[0mstate\u001b[0m\u001b[0;34m,\u001b[0m \u001b[0mwant_derived\u001b[0m\u001b[0;34m,\u001b[0m \u001b[0;34m**\u001b[0m\u001b[0mparams_values_dict\u001b[0m\u001b[0;34m)\u001b[0m \u001b[0;32mis\u001b[0m \u001b[0;32mFalse\u001b[0m\u001b[0;34m:\u001b[0m\u001b[0;34m\u001b[0m\u001b[0;34m\u001b[0m\u001b[0m\n\u001b[0m\u001b[1;32m    261\u001b[0m                     \u001b[0;32mreturn\u001b[0m \u001b[0;32mFalse\u001b[0m\u001b[0;34m\u001b[0m\u001b[0;34m\u001b[0m\u001b[0m\n\u001b[1;32m    262\u001b[0m             \u001b[0;32mexcept\u001b[0m \u001b[0malways_stop_exceptions\u001b[0m\u001b[0;34m:\u001b[0m\u001b[0;34m\u001b[0m\u001b[0;34m\u001b[0m\u001b[0m\n",
      "\u001b[0;32m~/Work/CLASS-SZ/SO-SZ/cobaya_sz/cobaya/likelihood.py\u001b[0m in \u001b[0;36mcalculate\u001b[0;34m(self, state, want_derived, **params_values_dict)\u001b[0m\n\u001b[1;32m    127\u001b[0m         \u001b[0mderived\u001b[0m\u001b[0;34m:\u001b[0m \u001b[0mOptional\u001b[0m\u001b[0;34m[\u001b[0m\u001b[0mParamValuesDict\u001b[0m\u001b[0;34m]\u001b[0m \u001b[0;34m=\u001b[0m \u001b[0;34m{\u001b[0m\u001b[0;34m}\u001b[0m \u001b[0;32mif\u001b[0m \u001b[0mwant_derived\u001b[0m \u001b[0;32melse\u001b[0m \u001b[0;32mNone\u001b[0m\u001b[0;34m\u001b[0m\u001b[0;34m\u001b[0m\u001b[0m\n\u001b[1;32m    128\u001b[0m         \u001b[0mstate\u001b[0m\u001b[0;34m[\u001b[0m\u001b[0;34m\"logp\"\u001b[0m\u001b[0;34m]\u001b[0m \u001b[0;34m=\u001b[0m \u001b[0;34m-\u001b[0m\u001b[0mnp\u001b[0m\u001b[0;34m.\u001b[0m\u001b[0minf\u001b[0m  \u001b[0;31m# in case of exception\u001b[0m\u001b[0;34m\u001b[0m\u001b[0;34m\u001b[0m\u001b[0m\n\u001b[0;32m--> 129\u001b[0;31m         \u001b[0mstate\u001b[0m\u001b[0;34m[\u001b[0m\u001b[0;34m\"logp\"\u001b[0m\u001b[0;34m]\u001b[0m \u001b[0;34m=\u001b[0m \u001b[0mself\u001b[0m\u001b[0;34m.\u001b[0m\u001b[0mlogp\u001b[0m\u001b[0;34m(\u001b[0m\u001b[0m_derived\u001b[0m\u001b[0;34m=\u001b[0m\u001b[0mderived\u001b[0m\u001b[0;34m,\u001b[0m \u001b[0;34m**\u001b[0m\u001b[0mparams_values_dict\u001b[0m\u001b[0;34m)\u001b[0m\u001b[0;34m\u001b[0m\u001b[0;34m\u001b[0m\u001b[0m\n\u001b[0m\u001b[1;32m    130\u001b[0m         \u001b[0mself\u001b[0m\u001b[0;34m.\u001b[0m\u001b[0mlog\u001b[0m\u001b[0;34m.\u001b[0m\u001b[0mdebug\u001b[0m\u001b[0;34m(\u001b[0m\u001b[0;34m\"Computed log-likelihood = %g\"\u001b[0m\u001b[0;34m,\u001b[0m \u001b[0mstate\u001b[0m\u001b[0;34m[\u001b[0m\u001b[0;34m\"logp\"\u001b[0m\u001b[0;34m]\u001b[0m\u001b[0;34m)\u001b[0m\u001b[0;34m\u001b[0m\u001b[0;34m\u001b[0m\u001b[0m\n\u001b[1;32m    131\u001b[0m         \u001b[0;32mif\u001b[0m \u001b[0mderived\u001b[0m \u001b[0;32mis\u001b[0m \u001b[0;32mnot\u001b[0m \u001b[0;32mNone\u001b[0m\u001b[0;34m:\u001b[0m\u001b[0;34m\u001b[0m\u001b[0;34m\u001b[0m\u001b[0m\n",
      "\u001b[0;32m~/Work/CLASS-SZ/SO-SZ/SOLikeT/soliket/binned_clusters/binned_poisson.py\u001b[0m in \u001b[0;36mlogp\u001b[0;34m(self, **params_values)\u001b[0m\n\u001b[1;32m     35\u001b[0m     \u001b[0;32mdef\u001b[0m \u001b[0mlogp\u001b[0m\u001b[0;34m(\u001b[0m\u001b[0mself\u001b[0m\u001b[0;34m,\u001b[0m \u001b[0;34m**\u001b[0m\u001b[0mparams_values\u001b[0m\u001b[0;34m)\u001b[0m\u001b[0;34m:\u001b[0m\u001b[0;34m\u001b[0m\u001b[0;34m\u001b[0m\u001b[0m\n\u001b[1;32m     36\u001b[0m         \u001b[0mpk_intp\u001b[0m \u001b[0;34m=\u001b[0m \u001b[0mself\u001b[0m\u001b[0;34m.\u001b[0m\u001b[0mtheory\u001b[0m\u001b[0;34m.\u001b[0m\u001b[0mget_Pk_interpolator\u001b[0m\u001b[0;34m(\u001b[0m\u001b[0;34m(\u001b[0m\u001b[0;34m\"delta_nonu\"\u001b[0m\u001b[0;34m,\u001b[0m \u001b[0;34m\"delta_nonu\"\u001b[0m\u001b[0;34m)\u001b[0m\u001b[0;34m,\u001b[0m \u001b[0mnonlinear\u001b[0m\u001b[0;34m=\u001b[0m\u001b[0;32mFalse\u001b[0m\u001b[0;34m)\u001b[0m\u001b[0;34m\u001b[0m\u001b[0;34m\u001b[0m\u001b[0m\n\u001b[0;32m---> 37\u001b[0;31m         \u001b[0mtheory\u001b[0m \u001b[0;34m=\u001b[0m \u001b[0mself\u001b[0m\u001b[0;34m.\u001b[0m\u001b[0m_get_theory\u001b[0m\u001b[0;34m(\u001b[0m\u001b[0mpk_intp\u001b[0m\u001b[0;34m,\u001b[0m \u001b[0;34m**\u001b[0m\u001b[0mparams_values\u001b[0m\u001b[0;34m)\u001b[0m\u001b[0;34m\u001b[0m\u001b[0;34m\u001b[0m\u001b[0m\n\u001b[0m\u001b[1;32m     38\u001b[0m         \u001b[0;32mreturn\u001b[0m \u001b[0mself\u001b[0m\u001b[0;34m.\u001b[0m\u001b[0mdata\u001b[0m\u001b[0;34m.\u001b[0m\u001b[0mloglike\u001b[0m\u001b[0;34m(\u001b[0m\u001b[0mtheory\u001b[0m\u001b[0;34m)\u001b[0m\u001b[0;34m\u001b[0m\u001b[0;34m\u001b[0m\u001b[0m\n",
      "\u001b[0;32m~/Work/CLASS-SZ/SO-SZ/SOLikeT/soliket/binned_clusters/binned_clusters.py\u001b[0m in \u001b[0;36m_get_theory\u001b[0;34m(self, pk_intp, **params_values_dict)\u001b[0m\n\u001b[1;32m    778\u001b[0m             \u001b[0mdelN\u001b[0m \u001b[0;34m=\u001b[0m \u001b[0mself\u001b[0m\u001b[0;34m.\u001b[0m\u001b[0m_get_integrated\u001b[0m\u001b[0;34m(\u001b[0m\u001b[0mpk_intp\u001b[0m\u001b[0;34m,\u001b[0m \u001b[0;34m**\u001b[0m\u001b[0mparams_values_dict\u001b[0m\u001b[0;34m)\u001b[0m\u001b[0;34m\u001b[0m\u001b[0;34m\u001b[0m\u001b[0m\n\u001b[1;32m    779\u001b[0m         \u001b[0;32melse\u001b[0m\u001b[0;34m:\u001b[0m\u001b[0;34m\u001b[0m\u001b[0;34m\u001b[0m\u001b[0m\n\u001b[0;32m--> 780\u001b[0;31m             \u001b[0mdelN\u001b[0m \u001b[0;34m=\u001b[0m \u001b[0mself\u001b[0m\u001b[0;34m.\u001b[0m\u001b[0m_get_integrated2D\u001b[0m\u001b[0;34m(\u001b[0m\u001b[0mpk_intp\u001b[0m\u001b[0;34m,\u001b[0m \u001b[0;34m**\u001b[0m\u001b[0mparams_values_dict\u001b[0m\u001b[0;34m)\u001b[0m\u001b[0;34m\u001b[0m\u001b[0;34m\u001b[0m\u001b[0m\n\u001b[0m\u001b[1;32m    781\u001b[0m \u001b[0;34m\u001b[0m\u001b[0m\n\u001b[1;32m    782\u001b[0m         \u001b[0melapsed\u001b[0m \u001b[0;34m=\u001b[0m \u001b[0mt\u001b[0m\u001b[0;34m.\u001b[0m\u001b[0mtime\u001b[0m\u001b[0;34m(\u001b[0m\u001b[0;34m)\u001b[0m \u001b[0;34m-\u001b[0m \u001b[0mstart\u001b[0m\u001b[0;34m\u001b[0m\u001b[0;34m\u001b[0m\u001b[0m\n",
      "\u001b[0;32m~/Work/CLASS-SZ/SO-SZ/SOLikeT/soliket/binned_clusters/binned_clusters.py\u001b[0m in \u001b[0;36m_get_integrated2D\u001b[0;34m(self, pk_intp, **params_values_dict)\u001b[0m\n\u001b[1;32m    730\u001b[0m         \u001b[0mkk\u001b[0m \u001b[0;34m=\u001b[0m \u001b[0;36m0\u001b[0m\u001b[0;34m\u001b[0m\u001b[0;34m\u001b[0m\u001b[0m\n\u001b[1;32m    731\u001b[0m         \u001b[0;32mfor\u001b[0m \u001b[0mkk\u001b[0m \u001b[0;32min\u001b[0m \u001b[0mrange\u001b[0m\u001b[0;34m(\u001b[0m\u001b[0mNq\u001b[0m\u001b[0;34m)\u001b[0m\u001b[0;34m:\u001b[0m\u001b[0;34m\u001b[0m\u001b[0;34m\u001b[0m\u001b[0m\n\u001b[0;32m--> 732\u001b[0;31m             \u001b[0mcc\u001b[0m\u001b[0;34m.\u001b[0m\u001b[0mappend\u001b[0m\u001b[0;34m(\u001b[0m\u001b[0mself\u001b[0m\u001b[0;34m.\u001b[0m\u001b[0m_get_completeness2D\u001b[0m\u001b[0;34m(\u001b[0m\u001b[0mmarr\u001b[0m\u001b[0;34m,\u001b[0m \u001b[0mzz\u001b[0m\u001b[0;34m,\u001b[0m \u001b[0my0\u001b[0m\u001b[0;34m,\u001b[0m \u001b[0mkk\u001b[0m\u001b[0;34m,\u001b[0m \u001b[0;34m**\u001b[0m\u001b[0mparams_values_dict\u001b[0m\u001b[0;34m)\u001b[0m\u001b[0;34m)\u001b[0m\u001b[0;34m\u001b[0m\u001b[0;34m\u001b[0m\u001b[0m\n\u001b[0m\u001b[1;32m    733\u001b[0m         \u001b[0mcc\u001b[0m \u001b[0;34m=\u001b[0m \u001b[0mnp\u001b[0m\u001b[0;34m.\u001b[0m\u001b[0masarray\u001b[0m\u001b[0;34m(\u001b[0m\u001b[0mcc\u001b[0m\u001b[0;34m)\u001b[0m\u001b[0;34m\u001b[0m\u001b[0;34m\u001b[0m\u001b[0m\n\u001b[1;32m    734\u001b[0m \u001b[0;34m\u001b[0m\u001b[0m\n",
      "\u001b[0;32m~/Work/CLASS-SZ/SO-SZ/SOLikeT/soliket/binned_clusters/binned_clusters.py\u001b[0m in \u001b[0;36m_get_completeness2D\u001b[0;34m(self, marr, zarr, y0, qbin, **params_values_dict)\u001b[0m\n\u001b[1;32m    971\u001b[0m         \u001b[0;32mif\u001b[0m \u001b[0mscatter\u001b[0m \u001b[0;34m==\u001b[0m \u001b[0;36m0.\u001b[0m\u001b[0;34m:\u001b[0m\u001b[0;34m\u001b[0m\u001b[0;34m\u001b[0m\u001b[0m\n\u001b[1;32m    972\u001b[0m             \u001b[0ma_pool\u001b[0m \u001b[0;34m=\u001b[0m \u001b[0mmultiprocessing\u001b[0m\u001b[0;34m.\u001b[0m\u001b[0mPool\u001b[0m\u001b[0;34m(\u001b[0m\u001b[0;34m)\u001b[0m\u001b[0;34m\u001b[0m\u001b[0;34m\u001b[0m\u001b[0m\n\u001b[0;32m--> 973\u001b[0;31m             completeness = a_pool.map(partial(get_comp_zarr2D,\n\u001b[0m\u001b[1;32m    974\u001b[0m                                             \u001b[0mNm\u001b[0m\u001b[0;34m=\u001b[0m\u001b[0mlen\u001b[0m\u001b[0;34m(\u001b[0m\u001b[0mmarr\u001b[0m\u001b[0;34m)\u001b[0m\u001b[0;34m,\u001b[0m\u001b[0;34m\u001b[0m\u001b[0;34m\u001b[0m\u001b[0m\n\u001b[1;32m    975\u001b[0m                                             \u001b[0mqcut\u001b[0m\u001b[0;34m=\u001b[0m\u001b[0mqcut\u001b[0m\u001b[0;34m,\u001b[0m\u001b[0;34m\u001b[0m\u001b[0;34m\u001b[0m\u001b[0m\n",
      "\u001b[0;32m/usr/local/anaconda3/lib/python3.8/multiprocessing/pool.py\u001b[0m in \u001b[0;36mmap\u001b[0;34m(self, func, iterable, chunksize)\u001b[0m\n\u001b[1;32m    362\u001b[0m         \u001b[0;32min\u001b[0m \u001b[0ma\u001b[0m \u001b[0mlist\u001b[0m \u001b[0mthat\u001b[0m \u001b[0;32mis\u001b[0m \u001b[0mreturned\u001b[0m\u001b[0;34m.\u001b[0m\u001b[0;34m\u001b[0m\u001b[0;34m\u001b[0m\u001b[0m\n\u001b[1;32m    363\u001b[0m         '''\n\u001b[0;32m--> 364\u001b[0;31m         \u001b[0;32mreturn\u001b[0m \u001b[0mself\u001b[0m\u001b[0;34m.\u001b[0m\u001b[0m_map_async\u001b[0m\u001b[0;34m(\u001b[0m\u001b[0mfunc\u001b[0m\u001b[0;34m,\u001b[0m \u001b[0miterable\u001b[0m\u001b[0;34m,\u001b[0m \u001b[0mmapstar\u001b[0m\u001b[0;34m,\u001b[0m \u001b[0mchunksize\u001b[0m\u001b[0;34m)\u001b[0m\u001b[0;34m.\u001b[0m\u001b[0mget\u001b[0m\u001b[0;34m(\u001b[0m\u001b[0;34m)\u001b[0m\u001b[0;34m\u001b[0m\u001b[0;34m\u001b[0m\u001b[0m\n\u001b[0m\u001b[1;32m    365\u001b[0m \u001b[0;34m\u001b[0m\u001b[0m\n\u001b[1;32m    366\u001b[0m     \u001b[0;32mdef\u001b[0m \u001b[0mstarmap\u001b[0m\u001b[0;34m(\u001b[0m\u001b[0mself\u001b[0m\u001b[0;34m,\u001b[0m \u001b[0mfunc\u001b[0m\u001b[0;34m,\u001b[0m \u001b[0miterable\u001b[0m\u001b[0;34m,\u001b[0m \u001b[0mchunksize\u001b[0m\u001b[0;34m=\u001b[0m\u001b[0;32mNone\u001b[0m\u001b[0;34m)\u001b[0m\u001b[0;34m:\u001b[0m\u001b[0;34m\u001b[0m\u001b[0;34m\u001b[0m\u001b[0m\n",
      "\u001b[0;32m/usr/local/anaconda3/lib/python3.8/multiprocessing/pool.py\u001b[0m in \u001b[0;36mget\u001b[0;34m(self, timeout)\u001b[0m\n\u001b[1;32m    769\u001b[0m             \u001b[0;32mreturn\u001b[0m \u001b[0mself\u001b[0m\u001b[0;34m.\u001b[0m\u001b[0m_value\u001b[0m\u001b[0;34m\u001b[0m\u001b[0;34m\u001b[0m\u001b[0m\n\u001b[1;32m    770\u001b[0m         \u001b[0;32melse\u001b[0m\u001b[0;34m:\u001b[0m\u001b[0;34m\u001b[0m\u001b[0;34m\u001b[0m\u001b[0m\n\u001b[0;32m--> 771\u001b[0;31m             \u001b[0;32mraise\u001b[0m \u001b[0mself\u001b[0m\u001b[0;34m.\u001b[0m\u001b[0m_value\u001b[0m\u001b[0;34m\u001b[0m\u001b[0;34m\u001b[0m\u001b[0m\n\u001b[0m\u001b[1;32m    772\u001b[0m \u001b[0;34m\u001b[0m\u001b[0m\n\u001b[1;32m    773\u001b[0m     \u001b[0;32mdef\u001b[0m \u001b[0m_set\u001b[0m\u001b[0;34m(\u001b[0m\u001b[0mself\u001b[0m\u001b[0;34m,\u001b[0m \u001b[0mi\u001b[0m\u001b[0;34m,\u001b[0m \u001b[0mobj\u001b[0m\u001b[0;34m)\u001b[0m\u001b[0;34m:\u001b[0m\u001b[0;34m\u001b[0m\u001b[0;34m\u001b[0m\u001b[0m\n",
      "\u001b[0;31mIndexError\u001b[0m: index 140 is out of bounds for axis 1 with size 138"
     ]
    }
   ],
   "source": [
    "import numpy as np\n",
    "import matplotlib\n",
    "import matplotlib.pyplot as plt\n",
    "%matplotlib inline\n",
    "from soliket import BinnedClusterLikelihood\n",
    "from cobaya.model import get_model\n",
    "import camb\n",
    "\n",
    "params = {\n",
    "    'cosmomc_theta': 0.0104135,\n",
    "    'ns': 0.965,\n",
    "    'ombh2': 0.0226576,      \n",
    "    'omch2': 0.1206864, \n",
    "    'As': 2.022662e-9,\n",
    "    'tenToA0': 4.35e-5,\n",
    "    'B0': 0.08,\n",
    "    'scatter_sz': 0.,\n",
    "    'bias_sz': 1.,\n",
    "    'tau': 0.055,\n",
    "    'mnu': 0.0,\n",
    "    'nnu': 3.046,\n",
    "    'omnuh2': 0.,\n",
    "    'w': -1,\n",
    "    \n",
    "    'C0': 2.\n",
    "\n",
    "}\n",
    "\n",
    "path2data = \"../data/advact/\"\n",
    "\n",
    "info = {\n",
    "    'params': params,\n",
    "    'likelihood': {'soliket.BinnedClusterLikelihood': {\n",
    "        'choose_theory': \"camb\",\n",
    "        \n",
    "        'single_tile_test': \"no\",\n",
    "        'choose_dim': \"2D\",\n",
    "        'Q_optimise': \"yes\",\n",
    "        'stop_at_error': True,\n",
    "        'data_path': path2data,\n",
    "        'cat_file': \"DR5_cluster-catalog_v1.1.fits\",\n",
    "        'Q_file': \"DR5ClusterSearch/selFn/QFit.fits\",\n",
    "#         'Q_file': \"DR5ClusterSearch/selFn_dwnsmpld/Q_dwnsmpld.npz\",\n",
    "        'tile_file': \"DR5ClusterSearch/selFn/tileAreas.txt\",\n",
    "        'mode': 'downsample',\n",
    "        'compl_mode': 'erf_diff',\n",
    "        'dwnsmpl_bins': 5,\n",
    "        'average_Q': False,\n",
    "        'rms_file': \"DR5ClusterSearch/selFn/RMSTab.fits\",\n",
    "        \n",
    "        # redshift setting\n",
    "        'zmin': 0.,\n",
    "        'zmax': 2.8,\n",
    "        'dz': 0.1,\n",
    "\n",
    "        \n",
    "        \n",
    "        # SNR setting\n",
    "        'SNRcut': 5.,\n",
    "        'log10qmin': 0.6,\n",
    "        'log10qmax': 2.0,\n",
    "        'dlog10q': 0.25,\n",
    "        \n",
    "        # mass setting\n",
    "        'Mmin': 1e13,\n",
    "        'Mmax': 1e16,\n",
    "        'dlogM': 0.05,\n",
    "        \n",
    "        # mass definition\n",
    "        'delta': 200.\n",
    "    }},\n",
    "#         'rms_file': \"DR5ClusterSearch/selFn_dwnsmpld/RMS_dwnsmpld.txt\"}},\n",
    "    'theory': {'camb': \n",
    "               {'extra_args': {'num_massive_neutrinos': 0},\n",
    "                #'ignore_obsolete': True #for new cobaya version\n",
    "               }}\n",
    "}\n",
    "\n",
    "\n",
    "# initialisation \n",
    "model = get_model(info)\n",
    "like = model.likelihood['soliket.BinnedClusterLikelihood']\n",
    "model.loglikes({})[0]"
   ]
  },
  {
   "cell_type": "code",
   "execution_count": null,
   "metadata": {},
   "outputs": [],
   "source": [
    "pk_intp = like.theory.get_Pk_interpolator((\"delta_nonu\", \"delta_nonu\"), nonlinear=False)\n",
    "SZparams = {\n",
    "    'tenToA0': 4.35e-5,\n",
    "    'B0': 0.08,\n",
    "    'scatter_sz': 0.,\n",
    "    'bias_sz': 1.  \n",
    "}"
   ]
  },
  {
   "cell_type": "code",
   "execution_count": 3,
   "metadata": {},
   "outputs": [
    {
     "name": "stderr",
     "output_type": "stream",
     "text": [
      "INFO:soliket.binned_clusters.binned_clusters:Number of clusters in redshift bin 0: 106.07846017661463.\n"
     ]
    },
    {
     "name": "stdout",
     "output_type": "stream",
     "text": [
      "0 4921.297921860493\n",
      "1 2694.5670611237156\n",
      "2 540.255487553468\n",
      "3 75.1119467935664\n",
      "4 6.010101649443801\n",
      "5 0.21751511288565423\n",
      "[soliket.binned_clusters.binned_clusters] Number of clusters in redshift bin 0: 106.07846017661463.\n"
     ]
    },
    {
     "name": "stderr",
     "output_type": "stream",
     "text": [
      "INFO:soliket.binned_clusters.binned_clusters:Number of clusters in redshift bin 1: 481.8490132857626.\n"
     ]
    },
    {
     "name": "stdout",
     "output_type": "stream",
     "text": [
      "[soliket.binned_clusters.binned_clusters] Number of clusters in redshift bin 1: 481.8490132857626.\n"
     ]
    },
    {
     "name": "stderr",
     "output_type": "stream",
     "text": [
      "INFO:soliket.binned_clusters.binned_clusters:Number of clusters in redshift bin 2: 920.6043318795657.\n"
     ]
    },
    {
     "name": "stdout",
     "output_type": "stream",
     "text": [
      "[soliket.binned_clusters.binned_clusters] Number of clusters in redshift bin 2: 920.6043318795657.\n"
     ]
    },
    {
     "name": "stderr",
     "output_type": "stream",
     "text": [
      "INFO:soliket.binned_clusters.binned_clusters:Number of clusters in redshift bin 3: 1139.9256523587376.\n"
     ]
    },
    {
     "name": "stdout",
     "output_type": "stream",
     "text": [
      "[soliket.binned_clusters.binned_clusters] Number of clusters in redshift bin 3: 1139.9256523587376.\n"
     ]
    },
    {
     "name": "stderr",
     "output_type": "stream",
     "text": [
      "INFO:soliket.binned_clusters.binned_clusters:Number of clusters in redshift bin 4: 1158.891110783115.\n"
     ]
    },
    {
     "name": "stdout",
     "output_type": "stream",
     "text": [
      "[soliket.binned_clusters.binned_clusters] Number of clusters in redshift bin 4: 1158.891110783115.\n"
     ]
    },
    {
     "name": "stderr",
     "output_type": "stream",
     "text": [
      "INFO:soliket.binned_clusters.binned_clusters:Number of clusters in redshift bin 5: 1052.701747744105.\n"
     ]
    },
    {
     "name": "stdout",
     "output_type": "stream",
     "text": [
      "[soliket.binned_clusters.binned_clusters] Number of clusters in redshift bin 5: 1052.701747744105.\n"
     ]
    },
    {
     "name": "stderr",
     "output_type": "stream",
     "text": [
      "INFO:soliket.binned_clusters.binned_clusters:Number of clusters in redshift bin 6: 886.9371109833565.\n"
     ]
    },
    {
     "name": "stdout",
     "output_type": "stream",
     "text": [
      "[soliket.binned_clusters.binned_clusters] Number of clusters in redshift bin 6: 886.9371109833565.\n"
     ]
    },
    {
     "name": "stderr",
     "output_type": "stream",
     "text": [
      "INFO:soliket.binned_clusters.binned_clusters:Number of clusters in redshift bin 7: 706.8838404211742.\n"
     ]
    },
    {
     "name": "stdout",
     "output_type": "stream",
     "text": [
      "[soliket.binned_clusters.binned_clusters] Number of clusters in redshift bin 7: 706.8838404211742.\n"
     ]
    },
    {
     "name": "stderr",
     "output_type": "stream",
     "text": [
      "INFO:soliket.binned_clusters.binned_clusters:Number of clusters in redshift bin 8: 539.2161619079624.\n"
     ]
    },
    {
     "name": "stdout",
     "output_type": "stream",
     "text": [
      "[soliket.binned_clusters.binned_clusters] Number of clusters in redshift bin 8: 539.2161619079624.\n"
     ]
    },
    {
     "name": "stderr",
     "output_type": "stream",
     "text": [
      "INFO:soliket.binned_clusters.binned_clusters:Number of clusters in redshift bin 9: 396.69556422489484.\n"
     ]
    },
    {
     "name": "stdout",
     "output_type": "stream",
     "text": [
      "[soliket.binned_clusters.binned_clusters] Number of clusters in redshift bin 9: 396.69556422489484.\n"
     ]
    },
    {
     "name": "stderr",
     "output_type": "stream",
     "text": [
      "INFO:soliket.binned_clusters.binned_clusters:Number of clusters in redshift bin 10: 283.0032040766712.\n"
     ]
    },
    {
     "name": "stdout",
     "output_type": "stream",
     "text": [
      "[soliket.binned_clusters.binned_clusters] Number of clusters in redshift bin 10: 283.0032040766712.\n"
     ]
    },
    {
     "name": "stderr",
     "output_type": "stream",
     "text": [
      "INFO:soliket.binned_clusters.binned_clusters:Number of clusters in redshift bin 11: 196.5489273075399.\n"
     ]
    },
    {
     "name": "stdout",
     "output_type": "stream",
     "text": [
      "[soliket.binned_clusters.binned_clusters] Number of clusters in redshift bin 11: 196.5489273075399.\n"
     ]
    },
    {
     "name": "stderr",
     "output_type": "stream",
     "text": [
      "INFO:soliket.binned_clusters.binned_clusters:Number of clusters in redshift bin 12: 133.30870098594394.\n"
     ]
    },
    {
     "name": "stdout",
     "output_type": "stream",
     "text": [
      "[soliket.binned_clusters.binned_clusters] Number of clusters in redshift bin 12: 133.30870098594394.\n"
     ]
    },
    {
     "name": "stderr",
     "output_type": "stream",
     "text": [
      "INFO:soliket.binned_clusters.binned_clusters:Number of clusters in redshift bin 13: 88.50635230031612.\n"
     ]
    },
    {
     "name": "stdout",
     "output_type": "stream",
     "text": [
      "[soliket.binned_clusters.binned_clusters] Number of clusters in redshift bin 13: 88.50635230031612.\n"
     ]
    },
    {
     "name": "stderr",
     "output_type": "stream",
     "text": [
      "INFO:soliket.binned_clusters.binned_clusters:Number of clusters in redshift bin 14: 57.63947426644873.\n"
     ]
    },
    {
     "name": "stdout",
     "output_type": "stream",
     "text": [
      "[soliket.binned_clusters.binned_clusters] Number of clusters in redshift bin 14: 57.63947426644873.\n"
     ]
    },
    {
     "name": "stderr",
     "output_type": "stream",
     "text": [
      "INFO:soliket.binned_clusters.binned_clusters:Number of clusters in redshift bin 15: 36.87867496180542.\n"
     ]
    },
    {
     "name": "stdout",
     "output_type": "stream",
     "text": [
      "[soliket.binned_clusters.binned_clusters] Number of clusters in redshift bin 15: 36.87867496180542.\n"
     ]
    },
    {
     "name": "stderr",
     "output_type": "stream",
     "text": [
      "INFO:soliket.binned_clusters.binned_clusters:Number of clusters in redshift bin 16: 23.217541496072247.\n"
     ]
    },
    {
     "name": "stdout",
     "output_type": "stream",
     "text": [
      "[soliket.binned_clusters.binned_clusters] Number of clusters in redshift bin 16: 23.217541496072247.\n"
     ]
    },
    {
     "name": "stderr",
     "output_type": "stream",
     "text": [
      "INFO:soliket.binned_clusters.binned_clusters:Number of clusters in redshift bin 17: 14.399965339848517.\n"
     ]
    },
    {
     "name": "stdout",
     "output_type": "stream",
     "text": [
      "[soliket.binned_clusters.binned_clusters] Number of clusters in redshift bin 17: 14.399965339848517.\n"
     ]
    },
    {
     "name": "stderr",
     "output_type": "stream",
     "text": [
      "INFO:soliket.binned_clusters.binned_clusters:Number of clusters in redshift bin 18: 8.810203496279764.\n"
     ]
    },
    {
     "name": "stdout",
     "output_type": "stream",
     "text": [
      "[soliket.binned_clusters.binned_clusters] Number of clusters in redshift bin 18: 8.810203496279764.\n"
     ]
    },
    {
     "name": "stderr",
     "output_type": "stream",
     "text": [
      "INFO:soliket.binned_clusters.binned_clusters:Number of clusters in redshift bin 19: 5.3639960973587915.\n"
     ]
    },
    {
     "name": "stdout",
     "output_type": "stream",
     "text": [
      "[soliket.binned_clusters.binned_clusters] Number of clusters in redshift bin 19: 5.3639960973587915.\n"
     ]
    },
    {
     "name": "stderr",
     "output_type": "stream",
     "text": [
      "INFO:soliket.binned_clusters.binned_clusters:Number of clusters in redshift bin 20: 0.0.\n"
     ]
    },
    {
     "name": "stdout",
     "output_type": "stream",
     "text": [
      "[soliket.binned_clusters.binned_clusters] Number of clusters in redshift bin 20: 0.0.\n"
     ]
    },
    {
     "name": "stderr",
     "output_type": "stream",
     "text": [
      "INFO:soliket.binned_clusters.binned_clusters:Total predicted 2D N = 8237.460034093574.\n"
     ]
    },
    {
     "name": "stdout",
     "output_type": "stream",
     "text": [
      "[soliket.binned_clusters.binned_clusters] Total predicted 2D N = 8237.460034093574.\n"
     ]
    },
    {
     "name": "stderr",
     "output_type": "stream",
     "text": [
      "INFO:soliket.binned_clusters.binned_clusters:Theory N calculation took 0.7011499404907227 seconds.\n"
     ]
    },
    {
     "name": "stdout",
     "output_type": "stream",
     "text": [
      "[soliket.binned_clusters.binned_clusters] Theory N calculation took 0.7011499404907227 seconds.\n"
     ]
    }
   ],
   "source": [
    "Nzq = like._get_theory(pk_intp, **SZparams)\n",
    "z, q, catNzq = like.delN2Dcat\n",
    "\n",
    "Nq = np.zeros(len(q))\n",
    "catNq = np.zeros(len(q))\n",
    "for i in range(len(q)):\n",
    "    Nq[i] = Nzq[:,i].sum()    \n",
    "    catNq[i] = catNzq[:,i].sum()"
   ]
  },
  {
   "cell_type": "code",
   "execution_count": null,
   "metadata": {},
   "outputs": [],
   "source": [
    "color_list = plt.cm.magma(np.linspace(0.1,0.8,13))"
   ]
  },
  {
   "cell_type": "code",
   "execution_count": 3,
   "metadata": {},
   "outputs": [
    {
     "ename": "NameError",
     "evalue": "name 'q' is not defined",
     "output_type": "error",
     "traceback": [
      "\u001b[0;31m---------------------------------------------------------------------------\u001b[0m",
      "\u001b[0;31mNameError\u001b[0m                                 Traceback (most recent call last)",
      "\u001b[0;32m/var/folders/_q/j04c9lw93j75_c_z2jdfbtwm0000gn/T/ipykernel_5638/44843278.py\u001b[0m in \u001b[0;36m<module>\u001b[0;34m\u001b[0m\n\u001b[1;32m      1\u001b[0m \u001b[0mplt\u001b[0m\u001b[0;34m.\u001b[0m\u001b[0mfigure\u001b[0m\u001b[0;34m(\u001b[0m\u001b[0mfigsize\u001b[0m\u001b[0;34m=\u001b[0m\u001b[0;34m(\u001b[0m\u001b[0;36m8\u001b[0m\u001b[0;34m,\u001b[0m\u001b[0;36m6\u001b[0m\u001b[0;34m)\u001b[0m\u001b[0;34m)\u001b[0m\u001b[0;34m\u001b[0m\u001b[0;34m\u001b[0m\u001b[0m\n\u001b[0;32m----> 2\u001b[0;31m \u001b[0mplt\u001b[0m\u001b[0;34m.\u001b[0m\u001b[0mplot\u001b[0m\u001b[0;34m(\u001b[0m\u001b[0;36m10\u001b[0m\u001b[0;34m**\u001b[0m\u001b[0mq\u001b[0m\u001b[0;34m,\u001b[0m \u001b[0mNq\u001b[0m\u001b[0;34m,\u001b[0m \u001b[0mcolor\u001b[0m\u001b[0;34m=\u001b[0m\u001b[0mcolor_list\u001b[0m\u001b[0;34m[\u001b[0m\u001b[0;36m2\u001b[0m\u001b[0;34m]\u001b[0m\u001b[0;34m,\u001b[0m \u001b[0mlabel\u001b[0m\u001b[0;34m=\u001b[0m\u001b[0;34m'prediction, nbins=5'\u001b[0m\u001b[0;34m)\u001b[0m\u001b[0;34m\u001b[0m\u001b[0;34m\u001b[0m\u001b[0m\n\u001b[0m\u001b[1;32m      3\u001b[0m \u001b[0mplt\u001b[0m\u001b[0;34m.\u001b[0m\u001b[0merrorbar\u001b[0m\u001b[0;34m(\u001b[0m\u001b[0;36m10\u001b[0m\u001b[0;34m**\u001b[0m\u001b[0mq\u001b[0m\u001b[0;34m,\u001b[0m \u001b[0mcatNq\u001b[0m\u001b[0;34m,\u001b[0m \u001b[0myerr\u001b[0m\u001b[0;34m=\u001b[0m\u001b[0mnp\u001b[0m\u001b[0;34m.\u001b[0m\u001b[0msqrt\u001b[0m\u001b[0;34m(\u001b[0m\u001b[0mcatNq\u001b[0m\u001b[0;34m)\u001b[0m\u001b[0;34m,\u001b[0m \u001b[0mcolor\u001b[0m\u001b[0;34m=\u001b[0m\u001b[0;34m'black'\u001b[0m\u001b[0;34m,\u001b[0m \u001b[0mfmt\u001b[0m\u001b[0;34m=\u001b[0m\u001b[0;34m'o'\u001b[0m\u001b[0;34m,\u001b[0m \u001b[0mms\u001b[0m\u001b[0;34m=\u001b[0m\u001b[0;36m3\u001b[0m\u001b[0;34m,\u001b[0m \u001b[0mcapsize\u001b[0m\u001b[0;34m=\u001b[0m\u001b[0;36m5\u001b[0m\u001b[0;34m,\u001b[0m \u001b[0mcapthick\u001b[0m\u001b[0;34m=\u001b[0m\u001b[0;36m2\u001b[0m\u001b[0;34m,\u001b[0m \u001b[0mls\u001b[0m\u001b[0;34m=\u001b[0m\u001b[0;34m'none'\u001b[0m\u001b[0;34m,\u001b[0m \u001b[0mlabel\u001b[0m\u001b[0;34m=\u001b[0m\u001b[0;34m'mock catalogue'\u001b[0m\u001b[0;34m)\u001b[0m\u001b[0;34m\u001b[0m\u001b[0;34m\u001b[0m\u001b[0m\n\u001b[1;32m      4\u001b[0m \u001b[0mplt\u001b[0m\u001b[0;34m.\u001b[0m\u001b[0mxlabel\u001b[0m\u001b[0;34m(\u001b[0m\u001b[0;34m'signal-to-noise $q$'\u001b[0m\u001b[0;34m,\u001b[0m \u001b[0mfontsize\u001b[0m\u001b[0;34m=\u001b[0m\u001b[0;36m14\u001b[0m\u001b[0;34m)\u001b[0m\u001b[0;34m\u001b[0m\u001b[0;34m\u001b[0m\u001b[0m\n\u001b[1;32m      5\u001b[0m \u001b[0mplt\u001b[0m\u001b[0;34m.\u001b[0m\u001b[0mylabel\u001b[0m\u001b[0;34m(\u001b[0m\u001b[0;34m'$N$'\u001b[0m\u001b[0;34m,\u001b[0m \u001b[0mfontsize\u001b[0m\u001b[0;34m=\u001b[0m\u001b[0;36m14\u001b[0m\u001b[0;34m)\u001b[0m\u001b[0;34m\u001b[0m\u001b[0;34m\u001b[0m\u001b[0m\n",
      "\u001b[0;31mNameError\u001b[0m: name 'q' is not defined"
     ]
    }
   ],
   "source": [
    "plt.figure(figsize=(8,6))\n",
    "plt.plot(10**q, Nq, color=color_list[2], label='prediction, nbins=5')\n",
    "plt.errorbar(10**q, catNq, yerr=np.sqrt(catNq), color='black', fmt='o', ms=3, capsize=5, capthick=2, ls='none', label='mock catalogue')\n",
    "plt.xlabel('signal-to-noise $q$', fontsize=14)\n",
    "plt.ylabel('$N$', fontsize=14)\n",
    "plt.xscale('log')\n",
    "plt.yscale('log')\n",
    "# plt.title('WebSkyHalos A10tSZ cat comparison', fontsize=14)\n",
    "plt.xticks(fontsize=14)\n",
    "plt.yticks(fontsize=14)\n",
    "plt.legend(fontsize=14)\n",
    "plt.grid()\n",
    "plt.show()"
   ]
  },
  {
   "cell_type": "code",
   "execution_count": null,
   "metadata": {},
   "outputs": [],
   "source": []
  }
 ],
 "metadata": {
  "kernelspec": {
   "display_name": "Python 3 (ipykernel)",
   "language": "python",
   "name": "python3"
  },
  "language_info": {
   "codemirror_mode": {
    "name": "ipython",
    "version": 3
   },
   "file_extension": ".py",
   "mimetype": "text/x-python",
   "name": "python",
   "nbconvert_exporter": "python",
   "pygments_lexer": "ipython3",
   "version": "3.8.5"
  }
 },
 "nbformat": 4,
 "nbformat_minor": 4
}
