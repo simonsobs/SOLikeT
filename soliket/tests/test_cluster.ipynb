{
 "cells": [
  {
   "cell_type": "code",
   "execution_count": null,
   "metadata": {},
   "outputs": [],
   "source": [
    "# REFERENCE FOR CCL, from https://github.com/cmbant/SZCl_like/blob/methods/szcl_like/szcl_like.py\n",
    "\n",
    "import numpy as np\n",
    "import pyccl as ccl\n",
    "from cobaya.likelihood import Likelihood\n",
    "from scipy.interpolate import interp1d\n",
    "\n",
    "from .theory import HaloProfileArnaud, SZTracer\n",
    "\n",
    "\n",
    "class SZModel:\n",
    "    pass\n",
    "\n",
    "\n",
    "class SZClLike(Likelihood):\n",
    "    cl_file: str = \"data/cl_yy.fits\"\n",
    "    map_name: str = \"SO_y\"\n",
    "    l_min: int = 100\n",
    "    l_max: int = 3000\n",
    "\n",
    "    params = {\"b_hydro\": 0.2}\n",
    "\n",
    "    def initialize(self):\n",
    "        self.nl_per_decade = 5\n",
    "        self.mdef = ccl.halos.MassDef(500, \"critical\")\n",
    "        self.prof = HaloProfileArnaud(0.2)\n",
    "        self._read_data()\n",
    "        self.ks = np.geomspace(1e-4, 100, 256)\n",
    "        self.lks = np.log(self.ks)\n",
    "        self.a_s = np.linspace(0.1, 1, 10)\n",
    "        self.add_2h = False\n",
    "\n",
    "    def get_requirements(self):\n",
    "        return {\"CCL\": {\"methods\": {\"sz_model\": self._get_sz_model}, \"kmax\": 10}}\n",
    "\n",
    "    def _read_data(self):\n",
    "        import sacc\n",
    "\n",
    "        # Read data vector and covariance\n",
    "        s = sacc.Sacc.load_fits(self.cl_file)\n",
    "        if self.map_name not in list(s.tracers.keys()):\n",
    "            raise KeyError(\"Map not found\")\n",
    "\n",
    "        inds = s.indices(\n",
    "            \"cl_00\",\n",
    "            (self.map_name, self.map_name),\n",
    "            ell__gt=self.l_min,\n",
    "            ell__lt=self.l_max,\n",
    "        )\n",
    "        s.keep_indices(inds)\n",
    "        ls, cl, win = s.get_ell_cl(\n",
    "            \"cl_00\", self.map_name, self.map_name, return_windows=True\n",
    "        )\n",
    "        self.leff = ls\n",
    "        self.data = cl\n",
    "        self.cov = s.covariance.covmat\n",
    "        self.invcov = np.linalg.inv(self.cov)\n",
    "\n",
    "        # Read bandpower window functions\n",
    "        self.ls_all = win.values\n",
    "        self.l_ls_all = np.log(self.ls_all)\n",
    "        self.windows = win.weight.T\n",
    "\n",
    "        # Read beam and resample\n",
    "        t = s.get_tracer(self.map_name)\n",
    "        beam_f = interp1d(t.ell, t.beam_ell, bounds_error=False, fill_value=0)\n",
    "        self.beam2 = beam_f(self.ls_all) ** 2\n",
    "\n",
    "        # Compute ell nodes\n",
    "        l10_lmax = np.log10(self.ls_all[-1])\n",
    "        n_sample = int(l10_lmax * self.nl_per_decade) + 1\n",
    "        self.ls_sample = np.unique(np.logspace(0, l10_lmax, n_sample).astype(int)).astype(\n",
    "            float\n",
    "        )\n",
    "        self.l_ls_sample = np.log(self.ls_sample)\n",
    "\n",
    "    def _get_sz_model(self, cosmo):\n",
    "        model = SZModel()\n",
    "        model.hmf = ccl.halos.MassFuncTinker08(cosmo, mass_def=self.mdef)\n",
    "        model.hmb = ccl.halos.HaloBiasTinker10(\n",
    "            cosmo, mass_def=self.mdef, mass_def_strict=False\n",
    "        )\n",
    "        model.hmc = ccl.halos.HMCalculator(cosmo, model.hmf, model.hmb, self.mdef)\n",
    "        model.szk = SZTracer(cosmo)\n",
    "        return model\n",
    "\n",
    "    def _get_theory(self, **pars):\n",
    "        results = self.provider.get_CCL()\n",
    "        cosmo = results[\"cosmo\"]\n",
    "        sz_model = results[\"sz_model\"]\n",
    "\n",
    "        self.prof._update_bhydro(pars[\"b_hydro\"])\n",
    "        pk2d = ccl.halos.halomod_Pk2D(\n",
    "            cosmo,\n",
    "            sz_model.hmc,\n",
    "            self.prof,\n",
    "            lk_arr=self.lks,\n",
    "            a_arr=self.a_s,\n",
    "            get_2h=self.add_2h,\n",
    "        )\n",
    "        cls = ccl.angular_cl(\n",
    "            cosmo, sz_model.szk, sz_model.szk, self.ls_sample, p_of_k_a=pk2d\n",
    "        )\n",
    "        clf = interp1d(self.l_ls_sample, np.log(cls), bounds_error=False, fill_value=-200)\n",
    "        cls = np.exp(clf(self.l_ls_all)) * self.beam2\n",
    "        cls = np.dot(self.windows, cls)\n",
    "        return cls\n",
    "\n",
    "    def logp(self, **pars):\n",
    "        t = self._get_theory(**pars)\n",
    "        r = t - self.data\n",
    "        chi2 = np.dot(r, self.invcov.dot(r))\n",
    "        return -0.5 * chi2"
   ]
  },
  {
   "cell_type": "code",
   "execution_count": 23,
   "metadata": {},
   "outputs": [],
   "source": [
    "cosmo = ccl.Cosmology(\n",
    "    Omega_c=0.25, Omega_b=0.05, h=0.7, n_s=0.95, sigma8=0.8, transfer_function=\"bbks\"\n",
    ")\n",
    "mdef = ccl.halos.MassDef(500, \"critical\")\n",
    "hmf = ccl.halos.MassFuncTinker08(cosmo, mass_def=mdef)\n",
    "# hmb = ccl.halos.HaloBiasTinker10(cosmo, mass_def=mdef, mass_def_strict=False)\n",
    "# hmc = ccl.halos.HMCalculator(cosmo,hmf,hmb, mdef)"
   ]
  },
  {
   "cell_type": "code",
   "execution_count": 25,
   "metadata": {},
   "outputs": [
    {
     "data": {
      "text/plain": [
       "\u001b[0;31mSignature:\u001b[0m \u001b[0mhmf\u001b[0m\u001b[0;34m.\u001b[0m\u001b[0mget_mass_function\u001b[0m\u001b[0;34m(\u001b[0m\u001b[0mcosmo\u001b[0m\u001b[0;34m,\u001b[0m \u001b[0mM\u001b[0m\u001b[0;34m,\u001b[0m \u001b[0ma\u001b[0m\u001b[0;34m,\u001b[0m \u001b[0mmdef_other\u001b[0m\u001b[0;34m=\u001b[0m\u001b[0;32mNone\u001b[0m\u001b[0;34m)\u001b[0m\u001b[0;34m\u001b[0m\u001b[0;34m\u001b[0m\u001b[0m\n",
       "\u001b[0;31mDocstring:\u001b[0m\n",
       "Returns the mass function for input parameters.\n",
       "\n",
       "Args:\n",
       "    cosmo (:class:`~pyccl.core.Cosmology`): A Cosmology object.\n",
       "    M (float or array_like): halo mass in units of M_sun.\n",
       "    a (float): scale factor.\n",
       "    mdef_other (:class:`~pyccl.halos.massdef.MassDef`):\n",
       "        the mass definition object that defines M.\n",
       "\n",
       "Returns:\n",
       "    float or array_like: mass function                 :math:`dn/d\\log_{10}M` in units of Mpc^-3.\n",
       "\u001b[0;31mFile:\u001b[0m      ~/miniconda3/envs/soliket/lib/python3.8/site-packages/pyccl/halos/hmfunc.py\n",
       "\u001b[0;31mType:\u001b[0m      method\n"
      ]
     },
     "metadata": {},
     "output_type": "display_data"
    }
   ],
   "source": [
    "hmf.get_mass_function(\n",
    "    cosmo,\n",
    ")"
   ]
  },
  {
   "cell_type": "code",
   "execution_count": null,
   "metadata": {},
   "outputs": [],
   "source": []
  },
  {
   "cell_type": "code",
   "execution_count": null,
   "metadata": {},
   "outputs": [],
   "source": []
  },
  {
   "cell_type": "code",
   "execution_count": 1,
   "metadata": {},
   "outputs": [],
   "source": [
    "from soliket.tests.test_clusters import test_clusters"
   ]
  },
  {
   "cell_type": "code",
   "execution_count": 2,
   "metadata": {},
   "outputs": [
    {
     "name": "stdout",
     "output_type": "stream",
     "text": [
      "[prior] *WARNING* No sampled parameters requested! This will fail for non-mock samplers.\n",
      "[camb] Importing *auto-installed* CAMB (but defaulting to *global*).\n",
      "[camb] Initialized!\n",
      "mock catalog\n",
      "Ntot 368.36238138205863\n",
      "Ntot 368.36238138205863\n"
     ]
    }
   ],
   "source": [
    "like = test_clusters()"
   ]
  },
  {
   "cell_type": "code",
   "execution_count": 3,
   "metadata": {},
   "outputs": [],
   "source": [
    "hmf_soliket = like._get_HMF()"
   ]
  },
  {
   "cell_type": "code",
   "execution_count": 5,
   "metadata": {},
   "outputs": [],
   "source": [
    "dndm_soliket = hmf_soliket.dn_dM(hmf_soliket.M, 500)"
   ]
  },
  {
   "cell_type": "code",
   "execution_count": 28,
   "metadata": {},
   "outputs": [],
   "source": [
    "import pyccl as ccl\n",
    "\n",
    "pars = {\n",
    "    \"ombh2\": 0.02225,\n",
    "    \"omch2\": 0.1198,\n",
    "    \"H0\": 67.3,\n",
    "    \"tau\": 0.06,\n",
    "    \"As\": 2.2e-9,\n",
    "    \"ns\": 0.96,\n",
    "    \"mnu\": 0.06,\n",
    "    \"nnu\": 3.046,\n",
    "}\n",
    "\n",
    "h = pars[\"H0\"] / 100\n",
    "\n",
    "cosmo = ccl.Cosmology(\n",
    "    Omega_c=pars[\"omch2\"] / h**2,\n",
    "    Omega_b=pars[\"ombh2\"] / h**2,\n",
    "    h=h,\n",
    "    n_s=pars[\"ns\"],\n",
    "    A_s=pars[\"As\"],\n",
    ")\n",
    "mdef = ccl.halos.MassDef(500, \"critical\")\n",
    "hmf = ccl.halos.MassFuncTinker08(cosmo, mass_def=mdef)\n",
    "# hmb = ccl.halos.HaloBiasTinker10(cosmo, mass_def=mdef, mass_def_strict=False)\n",
    "# hmc = ccl.halos.HMCalculator(cosmo,hmf,hmb, mdef)"
   ]
  },
  {
   "cell_type": "code",
   "execution_count": 29,
   "metadata": {},
   "outputs": [
    {
     "data": {
      "text/plain": [
       "2.598983920243067e-05"
      ]
     },
     "execution_count": 29,
     "metadata": {},
     "output_type": "execute_result"
    }
   ],
   "source": [
    "hmf.get_mass_function(cosmo, 1e14, 1)"
   ]
  },
  {
   "cell_type": "code",
   "execution_count": 30,
   "metadata": {},
   "outputs": [],
   "source": [
    "def z_to_a(z):\n",
    "    return 1 / (1 + z)\n",
    "\n",
    "\n",
    "dndm_ccl = hmf.get_mass_function(cosmo, hmf_soliket.M, z_to_a(0))"
   ]
  },
  {
   "cell_type": "code",
   "execution_count": 31,
   "metadata": {},
   "outputs": [
    {
     "data": {
      "text/plain": [
       "[<matplotlib.lines.Line2D at 0x7f92a8cf3100>]"
      ]
     },
     "execution_count": 31,
     "metadata": {},
     "output_type": "execute_result"
    },
    {
     "data": {
      "image/png": "[encoded data removed]",
      "text/plain": [
       "<Figure size 432x288 with 1 Axes>"
      ]
     },
     "metadata": {
      "needs_background": "light"
     },
     "output_type": "display_data"
    }
   ],
   "source": [
    "import matplotlib.pyplot as plt\n",
    "\n",
    "plt.loglog(hmf_soliket.M, dndm_soliket[:, 0])\n",
    "plt.loglog(hmf_soliket.M, dndm_ccl)"
   ]
  },
  {
   "cell_type": "code",
   "execution_count": null,
   "metadata": {},
   "outputs": [],
   "source": []
  },
  {
   "cell_type": "code",
   "execution_count": 21,
   "metadata": {},
   "outputs": [
    {
     "data": {
      "text/plain": [
       "array([0.  , 0.05, 0.1 , 0.15, 0.2 , 0.25, 0.3 , 0.35, 0.4 , 0.45, 0.5 ,\n",
       "       0.55, 0.6 , 0.65, 0.7 , 0.75, 0.8 , 0.85, 0.9 , 0.95, 1.  , 1.05,\n",
       "       1.1 , 1.15, 1.2 , 1.25, 1.3 , 1.35, 1.4 , 1.45, 1.5 , 1.55, 1.6 ,\n",
       "       1.65, 1.7 , 1.75, 1.8 , 1.85, 1.9 , 1.95])"
      ]
     },
     "execution_count": 21,
     "metadata": {},
     "output_type": "execute_result"
    }
   ],
   "source": [
    "hmf_soliket.zarr"
   ]
  },
  {
   "cell_type": "code",
   "execution_count": 16,
   "metadata": {},
   "outputs": [
    {
     "data": {
      "text/plain": [
       "(111, 40)"
      ]
     },
     "execution_count": 16,
     "metadata": {},
     "output_type": "execute_result"
    }
   ],
   "source": [
    "dndm_soliket.shape"
   ]
  },
  {
   "cell_type": "code",
   "execution_count": null,
   "metadata": {},
   "outputs": [],
   "source": [
    "hmf"
   ]
  },
  {
   "cell_type": "code",
   "execution_count": 8,
   "metadata": {},
   "outputs": [
    {
     "name": "stdout",
     "output_type": "stream",
     "text": [
      "[model] *WARNING* Ignored blocks/options: ['modules']\n",
      "[prior] *WARNING* No sampled parameters requested! This will fail for non-mock samplers.\n",
      "[camb] Importing *auto-installed* CAMB (but defaulting to *global*).\n",
      "[camb] Initialized!\n",
      "mock catalog\n",
      "[model] *ERROR* Could not find anything to use input parameter(s) {'num_massive_neutrinos'}.\n"
     ]
    },
    {
     "ename": "LoggedError",
     "evalue": "Could not find anything to use input parameter(s) {'num_massive_neutrinos'}.",
     "output_type": "error",
     "traceback": [
      "\u001b[0;31m---------------------------------------------------------------------------\u001b[0m",
      "\u001b[0;31mLoggedError\u001b[0m                               Traceback (most recent call last)",
      "\u001b[0;32m<ipython-input-8-228cccd52c87>\u001b[0m in \u001b[0;36m<module>\u001b[0;34m\u001b[0m\n\u001b[1;32m     43\u001b[0m \u001b[0;32mfrom\u001b[0m \u001b[0mcobaya\u001b[0m\u001b[0;34m.\u001b[0m\u001b[0mmodel\u001b[0m \u001b[0;32mimport\u001b[0m \u001b[0mget_model\u001b[0m\u001b[0;34m\u001b[0m\u001b[0;34m\u001b[0m\u001b[0m\n\u001b[1;32m     44\u001b[0m \u001b[0;34m\u001b[0m\u001b[0m\n\u001b[0;32m---> 45\u001b[0;31m \u001b[0mmodel_fiducial\u001b[0m \u001b[0;34m=\u001b[0m \u001b[0mget_model\u001b[0m\u001b[0;34m(\u001b[0m\u001b[0minfo_fiducial\u001b[0m\u001b[0;34m)\u001b[0m\u001b[0;34m\u001b[0m\u001b[0;34m\u001b[0m\u001b[0m\n\u001b[0m\u001b[1;32m     46\u001b[0m \u001b[0;34m\u001b[0m\u001b[0m\n\u001b[1;32m     47\u001b[0m \u001b[0mlnl\u001b[0m \u001b[0;34m=\u001b[0m \u001b[0mmodel_fiducial\u001b[0m\u001b[0;34m.\u001b[0m\u001b[0mloglikes\u001b[0m\u001b[0;34m(\u001b[0m\u001b[0;34m{\u001b[0m\u001b[0;34m}\u001b[0m\u001b[0;34m)\u001b[0m\u001b[0;34m[\u001b[0m\u001b[0;36m0\u001b[0m\u001b[0;34m]\u001b[0m\u001b[0;34m\u001b[0m\u001b[0;34m\u001b[0m\u001b[0m\n",
      "\u001b[0;32m~/miniconda3/envs/soliket/lib/python3.8/site-packages/cobaya/model.py\u001b[0m in \u001b[0;36mget_model\u001b[0;34m(info)\u001b[0m\n\u001b[1;32m    103\u001b[0m             yaml_dump(sort_cosmetic(updated_info)))\n\u001b[1;32m    104\u001b[0m     \u001b[0;31m# Initialize the parameters and posterior\u001b[0m\u001b[0;34m\u001b[0m\u001b[0;34m\u001b[0m\u001b[0;34m\u001b[0m\u001b[0m\n\u001b[0;32m--> 105\u001b[0;31m     return Model(updated_info[_params], updated_info[kinds.likelihood],\n\u001b[0m\u001b[1;32m    106\u001b[0m                  \u001b[0mupdated_info\u001b[0m\u001b[0;34m.\u001b[0m\u001b[0mget\u001b[0m\u001b[0;34m(\u001b[0m\u001b[0m_prior\u001b[0m\u001b[0;34m)\u001b[0m\u001b[0;34m,\u001b[0m \u001b[0mupdated_info\u001b[0m\u001b[0;34m.\u001b[0m\u001b[0mget\u001b[0m\u001b[0;34m(\u001b[0m\u001b[0mkinds\u001b[0m\u001b[0;34m.\u001b[0m\u001b[0mtheory\u001b[0m\u001b[0;34m)\u001b[0m\u001b[0;34m,\u001b[0m\u001b[0;34m\u001b[0m\u001b[0;34m\u001b[0m\u001b[0m\n\u001b[1;32m    107\u001b[0m                  \u001b[0mpackages_path\u001b[0m\u001b[0;34m=\u001b[0m\u001b[0minfo\u001b[0m\u001b[0;34m.\u001b[0m\u001b[0mget\u001b[0m\u001b[0;34m(\u001b[0m\u001b[0m_packages_path\u001b[0m\u001b[0;34m)\u001b[0m\u001b[0;34m,\u001b[0m \u001b[0mtiming\u001b[0m\u001b[0;34m=\u001b[0m\u001b[0mupdated_info\u001b[0m\u001b[0;34m.\u001b[0m\u001b[0mget\u001b[0m\u001b[0;34m(\u001b[0m\u001b[0m_timing\u001b[0m\u001b[0;34m)\u001b[0m\u001b[0;34m,\u001b[0m\u001b[0;34m\u001b[0m\u001b[0;34m\u001b[0m\u001b[0m\n",
      "\u001b[0;32m~/miniconda3/envs/soliket/lib/python3.8/site-packages/cobaya/model.py\u001b[0m in \u001b[0;36m__init__\u001b[0;34m(self, info_params, info_likelihood, info_prior, info_theory, packages_path, timing, allow_renames, stop_at_error, post, prior_parameterization)\u001b[0m\n\u001b[1;32m    149\u001b[0m         \u001b[0;31m# Assign input/output parameters\u001b[0m\u001b[0;34m\u001b[0m\u001b[0;34m\u001b[0m\u001b[0;34m\u001b[0m\u001b[0m\n\u001b[1;32m    150\u001b[0m         \u001b[0mself\u001b[0m\u001b[0;34m.\u001b[0m\u001b[0m_assign_params\u001b[0m\u001b[0;34m(\u001b[0m\u001b[0minfo_likelihood\u001b[0m\u001b[0;34m,\u001b[0m \u001b[0minfo_theory\u001b[0m\u001b[0;34m)\u001b[0m\u001b[0;34m\u001b[0m\u001b[0;34m\u001b[0m\u001b[0m\n\u001b[0;32m--> 151\u001b[0;31m         \u001b[0mself\u001b[0m\u001b[0;34m.\u001b[0m\u001b[0m_set_dependencies_and_providers\u001b[0m\u001b[0;34m(\u001b[0m\u001b[0;34m)\u001b[0m\u001b[0;34m\u001b[0m\u001b[0;34m\u001b[0m\u001b[0m\n\u001b[0m\u001b[1;32m    152\u001b[0m         \u001b[0;31m# Add to the updated info some values that are only available after initialisation\u001b[0m\u001b[0;34m\u001b[0m\u001b[0;34m\u001b[0m\u001b[0;34m\u001b[0m\u001b[0m\n\u001b[1;32m    153\u001b[0m         self._updated_info = recursive_update(\n",
      "\u001b[0;32m~/miniconda3/envs/soliket/lib/python3.8/site-packages/cobaya/model.py\u001b[0m in \u001b[0;36m_set_dependencies_and_providers\u001b[0;34m(self, manual_requirements)\u001b[0m\n\u001b[1;32m    642\u001b[0m             \u001b[0mself\u001b[0m\u001b[0;34m.\u001b[0m\u001b[0m_unassigned_input\u001b[0m\u001b[0;34m.\u001b[0m\u001b[0mdifference_update\u001b[0m\u001b[0;34m(\u001b[0m\u001b[0;34m*\u001b[0m\u001b[0mdirect_param_dependence\u001b[0m\u001b[0;34m.\u001b[0m\u001b[0mvalues\u001b[0m\u001b[0;34m(\u001b[0m\u001b[0;34m)\u001b[0m\u001b[0;34m)\u001b[0m\u001b[0;34m\u001b[0m\u001b[0;34m\u001b[0m\u001b[0m\n\u001b[1;32m    643\u001b[0m             \u001b[0;32mif\u001b[0m \u001b[0mself\u001b[0m\u001b[0;34m.\u001b[0m\u001b[0m_unassigned_input\u001b[0m\u001b[0;34m:\u001b[0m\u001b[0;34m\u001b[0m\u001b[0;34m\u001b[0m\u001b[0m\n\u001b[0;32m--> 644\u001b[0;31m                 raise LoggedError(\n\u001b[0m\u001b[1;32m    645\u001b[0m                     \u001b[0mself\u001b[0m\u001b[0;34m.\u001b[0m\u001b[0mlog\u001b[0m\u001b[0;34m,\u001b[0m \u001b[0;34m\"Could not find anything to use input parameter(s) %r.\"\u001b[0m\u001b[0;34m,\u001b[0m\u001b[0;34m\u001b[0m\u001b[0;34m\u001b[0m\u001b[0m\n\u001b[1;32m    646\u001b[0m                     self._unassigned_input)\n",
      "\u001b[0;31mLoggedError\u001b[0m: Could not find anything to use input parameter(s) {'num_massive_neutrinos'}."
     ]
    }
   ],
   "source": [
    "# fiducial_params = {\n",
    "#    \"ombh2\": 0.02225,\n",
    "#    \"omch2\": 0.1198,\n",
    "#    \"H0\": 67.3,\n",
    "#    \"tau\": 0.06,\n",
    "#    \"As\": 2.2e-9,\n",
    "#    \"ns\": 0.96,\n",
    "#    \"mnu\": 0.06,\n",
    "#    \"nnu\": 3.046,\n",
    "#    \"num_massive_neutrinos\": 3,\n",
    "#    }\n",
    "\n",
    "fiducial_params = {\n",
    "    \"omch2\": 0.125,  # FOR Testing against NEMO\n",
    "    \"ombh2\": 0.02225,\n",
    "    \"H0\": 70.0,\n",
    "    \"ns\": 0.95,\n",
    "    \"As\": 1.88e-9,\n",
    "    \"mnu\": 0.0,\n",
    "    \"tau\": 0.06,\n",
    "    \"nnu\": 3.046,\n",
    "    \"num_massive_neutrinos\": 0,\n",
    "}\n",
    "\n",
    "info_fiducial = {\n",
    "    \"params\": fiducial_params,\n",
    "    \"likelihood\": {\n",
    "        \"soliket.ClusterLikelihood\": {\n",
    "            \"stop_at_error\": True,\n",
    "        }\n",
    "    },\n",
    "    \"theory\": {\n",
    "        \"camb\": {\n",
    "            \"extra_args\": {\n",
    "                \"accurate_massive_neutrino_transfers\": True,\n",
    "                \"redshifts\": np.linspace(0, 2, 41),\n",
    "                \"nonlinear\": False,\n",
    "                \"kmax\": 10.0,\n",
    "                \"dark_energy_model\": \"ppf\",\n",
    "            }\n",
    "        }\n",
    "    },\n",
    "    \"modules\": \"/Users/nab/Repos/cobaya_modules/\",\n",
    "}\n",
    "\n",
    "from cobaya.model import get_model\n",
    "\n",
    "model_fiducial = get_model(info_fiducial)\n",
    "\n",
    "lnl = model_fiducial.loglikes({})[0]\n",
    "\n",
    "# assert np.isfinite(lnl)\n",
    "\n",
    "print(lnl)"
   ]
  },
  {
   "cell_type": "code",
   "execution_count": 3,
   "metadata": {},
   "outputs": [
    {
     "data": {
      "text/plain": [
       "3201.11782"
      ]
     },
     "execution_count": 3,
     "metadata": {},
     "output_type": "execute_result"
    }
   ],
   "source": [
    "3.20111782e03"
   ]
  },
  {
   "cell_type": "code",
   "execution_count": 4,
   "metadata": {},
   "outputs": [],
   "source": [
    "import numpy as np\n",
    "\n",
    "\n",
    "def to_array(s):\n",
    "    return np.array(s[1:-1].split(), dtype=float)"
   ]
  },
  {
   "cell_type": "code",
   "execution_count": 5,
   "metadata": {},
   "outputs": [],
   "source": [
    "cob = to_array(\"\"\"[1.91779243e+03 2.02043522e+03 2.12855762e+03 2.24244963e+03\n",
    " 2.36241634e+03 2.48877875e+03 2.62187453e+03 2.76205814e+03\n",
    " 2.90970115e+03 3.06519399e+03 3.22894690e+03 3.40139093e+03\n",
    " 3.58297892e+03 3.77418527e+03 3.97550527e+03 4.18745804e+03\n",
    " 4.41058787e+03 4.64546533e+03 4.89268844e+03 5.15288194e+03\n",
    " 5.42669391e+03 5.71480064e+03 6.01790860e+03 6.33675557e+03\n",
    " 6.67211169e+03 7.02477837e+03 7.39558064e+03 7.78537346e+03\n",
    " 8.19504490e+03 8.62551693e+03 9.07774596e+03 9.55272067e+03\n",
    " 1.00514449e+04 1.05749451e+04 1.11242775e+04 1.17005267e+04\n",
    " 1.23048059e+04 1.29382521e+04 1.36019888e+04 1.42971316e+04\n",
    " 1.50248051e+04 1.57861398e+04 1.65822683e+04 1.74143183e+04\n",
    " 1.82833544e+04 1.91903699e+04 2.01363175e+04 2.11221033e+04\n",
    " 2.21485784e+04 2.32165276e+04 2.43266008e+04 2.54792770e+04\n",
    " 2.66749101e+04 2.79137192e+04 2.91957749e+04 3.05209844e+04\n",
    " 3.18890065e+04 3.32991725e+04 3.47505614e+04 3.62419926e+04\n",
    " 3.77720101e+04 3.93388662e+04 4.09403760e+04 4.25738469e+04\n",
    " 4.42362560e+04 4.59240163e+04 4.76331064e+04 4.93588929e+04\n",
    " 5.10982056e+04 5.28417581e+04 5.45838221e+04 5.63176167e+04\n",
    " 5.80352782e+04 5.97262636e+04 6.13841174e+04 6.29975068e+04\n",
    " 6.45553581e+04 6.60468956e+04 6.74577059e+04 6.87752551e+04\n",
    " 6.99847667e+04 7.10720822e+04 7.20214786e+04 7.28172055e+04\n",
    " 7.34432459e+04 7.38835866e+04 7.41227154e+04 7.41457834e+04\n",
    " 7.39392103e+04 7.34913294e+04 7.27928765e+04 7.18378044e+04\n",
    " 7.06240224e+04 6.91542061e+04 6.74366392e+04 6.54858826e+04\n",
    " 6.33234412e+04 6.09780869e+04 5.84858334e+04 5.58895332e+04\n",
    " 5.32378205e+04 5.05840145e+04 4.79630796e+04 4.54224823e+04\n",
    " 4.30385157e+04 4.08557009e+04 3.88968418e+04 3.71592962e+04\n",
    " 3.56181247e+04 3.42350631e+04 3.29663004e+04 3.18098809e+04\n",
    " 3.05843590e+04 2.92501650e+04 2.77064598e+04 2.59132781e+04\n",
    " 2.39074933e+04 2.17954123e+04 1.97133494e+04 1.77946499e+04\n",
    " 1.61557214e+04 1.48721871e+04 1.39382623e+04 1.32485331e+04\n",
    " 1.26198168e+04 1.18527091e+04 1.08509723e+04 9.69437476e+03\n",
    " 8.55992287e+03 7.63650650e+03 7.01472218e+03 6.58542901e+03\n",
    " 6.15596301e+03 5.58909113e+03 4.93536714e+03 4.36863082e+03\n",
    " 3.98167143e+03 3.68399492e+03 3.34031328e+03 2.95568751e+03\n",
    " 2.63780905e+03 2.40219255e+03 2.16883372e+03 1.92501648e+03\n",
    " 1.72420458e+03 1.55354656e+03 1.38366898e+03 1.23456422e+03\n",
    " 1.10486489e+03 9.82938251e+02 8.76280481e+02 7.79834652e+02\n",
    " 6.93233007e+02 6.16067978e+02 5.46779357e+02 4.85137772e+02\n",
    " 4.30017945e+02 3.80822296e+02 3.36995234e+02 2.98014280e+02\n",
    " 2.63374515e+02 2.32611045e+02 2.05306795e+02 1.81088539e+02\n",
    " 1.59624748e+02 1.40617952e+02 1.23800464e+02 1.08931516e+02\n",
    " 9.57944513e+01 8.41952818e+01 7.39606670e+01 6.49358828e+01\n",
    " 5.69829716e+01 4.99789879e+01 4.38144578e+01 3.83919637e+01\n",
    " 3.36248822e+01 2.94363101e+01 2.57580338e+01 2.25295874e+01\n",
    " 1.96974140e+01 1.72141215e+01 1.50378042e+01 1.31314262e+01\n",
    " 1.14622810e+01 1.00015115e+01 8.72367363e+00 7.60634294e+00\n",
    " 6.62977051e+00 5.77657697e+00 5.03147658e+00 4.38103006e+00\n",
    " 3.81343009e+00 3.31831045e+00 2.88657462e+00 2.51024377e+00\n",
    " 2.18232329e+00 1.89668454e+00 1.64795992e+00 1.43144986e+00]\"\"\")\n",
    "\n",
    "szr = to_array(\"\"\"[3.99959066e+02 4.21378684e+02 4.43944152e+02 4.67716481e+02\n",
    " 4.92759892e+02 5.19142053e+02 5.46934224e+02 5.76211346e+02\n",
    " 6.07052230e+02 6.39539788e+02 6.73761212e+02 7.09808222e+02\n",
    " 7.47777240e+02 7.87769667e+02 8.29892034e+02 8.74256282e+02\n",
    " 9.20979975e+02 9.70186506e+02 1.02200542e+03 1.07657251e+03\n",
    " 1.13403026e+03 1.19452802e+03 1.25822238e+03 1.32527715e+03\n",
    " 1.39586363e+03 1.47016101e+03 1.54835636e+03 1.63064521e+03\n",
    " 1.71723131e+03 1.80832725e+03 1.90415433e+03 2.00494291e+03\n",
    " 2.11093202e+03 2.22236882e+03 2.33950982e+03 2.46262043e+03\n",
    " 2.59197553e+03 2.72785797e+03 2.87055917e+03 3.02037819e+03\n",
    " 3.17762108e+03 3.34260128e+03 3.51563765e+03 3.69705536e+03\n",
    " 3.88718255e+03 4.08635126e+03 4.29489467e+03 4.51314609e+03\n",
    " 4.74143838e+03 4.98010073e+03 5.22945874e+03 5.48982857e+03\n",
    " 5.76151810e+03 6.04482211e+03 6.34002097e+03 6.64737481e+03\n",
    " 6.96711777e+03 7.29945766e+03 7.64456484e+03 8.00257470e+03\n",
    " 8.37357443e+03 8.75760361e+03 9.15464354e+03 9.56461105e+03\n",
    " 9.98735657e+03 1.04226508e+04 1.08701852e+04 1.13295465e+04\n",
    " 1.18002235e+04 1.22815761e+04 1.27728351e+04 1.32731059e+04\n",
    " 1.37813561e+04 1.42964163e+04 1.48169507e+04 1.53414691e+04\n",
    " 1.58682528e+04 1.63953844e+04 1.69207645e+04 1.74421085e+04\n",
    " 1.79569088e+04 1.84623275e+04 1.89553252e+04 1.94326115e+04\n",
    " 1.98907127e+04 2.03258626e+04 2.07340482e+04 2.11110486e+04\n",
    " 2.14523661e+04 2.17534120e+04 2.20093514e+04 2.22153670e+04\n",
    " 2.23665450e+04 2.24580787e+04 2.24853736e+04 2.24441070e+04\n",
    " 2.23305342e+04 2.21415541e+04 2.18749713e+04 2.15298022e+04\n",
    " 2.11063629e+04 2.06067485e+04 2.00348197e+04 1.93965339e+04\n",
    " 1.87000904e+04 1.79557425e+04 1.71757830e+04 1.63744588e+04\n",
    " 1.55671968e+04 1.47699834e+04 1.39986753e+04 1.32679402e+04\n",
    " 1.25901552e+04 1.19742686e+04 1.14246773e+04 1.09401262e+04\n",
    " 1.05129124e+04 1.01284973e+04 9.76586715e+03 9.39921540e+03\n",
    " 9.00121925e+03 8.54819731e+03 8.02624443e+03 7.43761673e+03\n",
    " 6.80300629e+03 6.15983533e+03 5.55452066e+03 5.02967760e+03\n",
    " 4.61256052e+03 4.30514229e+03 4.08076831e+03 3.88899397e+03\n",
    " 3.67147400e+03 3.38891165e+03 3.04581748e+03 2.69135197e+03\n",
    " 2.38890399e+03 2.17480928e+03 2.03390299e+03 1.91027950e+03\n",
    " 1.75082800e+03 1.55436243e+03 1.36977916e+03 1.23744874e+03\n",
    " 1.14442938e+03 1.04645567e+03 9.29988839e+02 8.25070490e+02\n",
    " 7.48608344e+02 6.79602744e+02 6.04786010e+02 5.39255810e+02\n",
    " 4.86364586e+02 4.34525924e+02 3.86822224e+02 3.46462947e+02\n",
    " 3.08584183e+02 2.74839080e+02 2.44870862e+02 2.17619114e+02\n",
    " 1.93491423e+02 1.71746051e+02 1.52405141e+02 1.35114082e+02\n",
    " 1.19686669e+02 1.05941447e+02 9.37100091e+01 8.28346085e+01\n",
    " 7.31720589e+01 6.45935622e+01 5.69836560e+01 5.02384125e+01\n",
    " 4.42642726e+01 3.89770959e+01 3.43013447e+01 3.01692810e+01\n",
    " 2.65202037e+01 2.32998216e+01 2.04596366e+01 1.79563649e+01\n",
    " 1.57514191e+01 1.38104293e+01 1.21028025e+01 1.06013436e+01\n",
    " 9.28190080e+00 8.12303818e+00 7.10575194e+00 6.21320868e+00\n",
    " 5.43050691e+00 4.74446732e+00 4.14344229e+00 3.61714382e+00\n",
    " 3.15649242e+00 2.75348061e+00 2.40105002e+00 2.09298374e+00\n",
    " 1.82380905e+00 1.58870882e+00 1.38344832e+00 1.20430917e+00]\"\"\")"
   ]
  },
  {
   "cell_type": "code",
   "execution_count": 6,
   "metadata": {},
   "outputs": [],
   "source": [
    "import matplotlib.pyplot as plt\n",
    "\n",
    "%matplotlib inline"
   ]
  },
  {
   "cell_type": "code",
   "execution_count": 7,
   "metadata": {},
   "outputs": [
    {
     "data": {
      "text/plain": [
       "[<matplotlib.lines.Line2D at 0x7fedc86982b0>]"
      ]
     },
     "execution_count": 7,
     "metadata": {},
     "output_type": "execute_result"
    },
    {
     "data": {
      "image/png": "[encoded data removed]",
      "text/plain": [
       "<Figure size 432x288 with 1 Axes>"
      ]
     },
     "metadata": {
      "needs_background": "light"
     },
     "output_type": "display_data"
    },
    {
     "data": {
      "image/png": "[encoded data removed]",
      "text/plain": [
       "<Figure size 432x288 with 1 Axes>"
      ]
     },
     "metadata": {
      "needs_background": "light"
     },
     "output_type": "display_data"
    }
   ],
   "source": [
    "k = np.logspace(-4, np.log10(5), 200)\n",
    "plt.loglog(k / 0.673, cob * 0.673**3, label=\"cobaya\")\n",
    "plt.plot(k, szr, label=\"szar\")\n",
    "plt.legend()\n",
    "\n",
    "plt.figure()\n",
    "plt.semilogx(k, cob * 0.673**3 / szr)"
   ]
  },
  {
   "cell_type": "code",
   "execution_count": null,
   "metadata": {},
   "outputs": [],
   "source": []
  }
 ],
 "metadata": {
  "kernelspec": {
   "display_name": "Python 3",
   "language": "python",
   "name": "python3"
  },
  "language_info": {
   "codemirror_mode": {
    "name": "ipython",
    "version": 3
   },
   "file_extension": ".py",
   "mimetype": "text/x-python",
   "name": "python",
   "nbconvert_exporter": "python",
   "pygments_lexer": "ipython3",
   "version": "3.8.5"
  }
 },
 "nbformat": 4,
 "nbformat_minor": 4
}
