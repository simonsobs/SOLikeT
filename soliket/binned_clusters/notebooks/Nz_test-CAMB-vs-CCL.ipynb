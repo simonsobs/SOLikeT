{
 "cells": [
  {
   "cell_type": "code",
   "execution_count": 1,
   "metadata": {},
   "outputs": [],
   "source": [
    "import numpy as np\n",
    "import matplotlib\n",
    "import matplotlib.pyplot as plt\n",
    "%matplotlib inline\n",
    "from soliket import BinnedClusterLikelihood\n",
    "from cobaya.model import get_model\n",
    "import camb"
   ]
  },
  {
   "cell_type": "code",
   "execution_count": 2,
   "metadata": {},
   "outputs": [
    {
     "name": "stdout",
     "output_type": "stream",
     "text": [
      "[0.81050087]\n"
     ]
    }
   ],
   "source": [
    "params = {\n",
    "    'cosmomc_theta': 0.0104135,\n",
    "    'ns': 0.965,\n",
    "    'ombh2': 0.0226576,      \n",
    "    'omch2': 0.1206864, \n",
    "    'As': 2.022662e-9,\n",
    "    'tenToA0': 4.35e-5,\n",
    "    'B0': 0.08,\n",
    "    'scatter_sz': 0.,\n",
    "    'bias_sz': 1.,\n",
    "    'tau': 0.055,\n",
    "    'mnu': 0.0,\n",
    "    'nnu': 3.046,\n",
    "    'omnuh2': 0.,\n",
    "    'w': -1,\n",
    "    \n",
    "    'C0': 2.\n",
    "\n",
    "}\n",
    "\n",
    "#Set up a new set of parameters for CAMB\n",
    "pars = camb.CAMBparams()\n",
    "#This function sets up CosmoMC-like settings, with one massive neutrino and helium set using BBN consistency\n",
    "pars.set_cosmology(cosmomc_theta=params['cosmomc_theta'], ombh2=params['ombh2'], omch2=params['omch2'], mnu=0.0, omk=0, \\\n",
    "                   tau=params['tau'])\n",
    "pars.InitPower.set_params(As=params['As'], ns=params['ns'], r=0)\n",
    "pars.set_for_lmax(2500, lens_potential_accuracy=0);\n",
    "\n",
    "#calculate results for these parameters\n",
    "results = camb.get_results(pars)\n",
    "\n",
    "#Note non-linear corrections couples to smaller scales than you want\n",
    "pars.set_matter_power(redshifts=[0.], kmax=2.0)\n",
    "\n",
    "#Linear spectra\n",
    "results = camb.get_results(pars)\n",
    "kh, z, pk = results.get_matter_power_spectrum(minkh=1e-4, maxkh=1, npoints = 200)\n",
    "s8 = np.array(results.get_sigma8())\n",
    "print(s8)"
   ]
  },
  {
   "cell_type": "code",
   "execution_count": 4,
   "metadata": {},
   "outputs": [
    {
     "name": "stderr",
     "output_type": "stream",
     "text": [
      "Initializing binned_clusters.py\n",
      "Initializing binned_clusters.py\n",
      "Downsampling selection function inputs.\n",
      "Downsampling selection function inputs.\n",
      "Considering full map.\n",
      "Considering full map.\n",
      "2D likelihood as a function of redshift and signal-to-noise.\n",
      "2D likelihood as a function of redshift and signal-to-noise.\n",
      "Reading data catalog.\n",
      "Reading data catalog.\n",
      "Total number of clusters in catalogue = 4195.\n",
      "Total number of clusters in catalogue = 4195.\n",
      "SNR cut = 5.0.\n",
      "SNR cut = 5.0.\n",
      "Number of clusters above the SNR cut = 2419.\n",
      "Number of clusters above the SNR cut = 2419.\n",
      "The highest redshift = 1.91\n",
      "The highest redshift = 1.91\n",
      "Number of redshift bins = 28.\n",
      "Number of redshift bins = 28.\n",
      "Number of mass bins for theory calculation 138.\n",
      "Number of mass bins for theory calculation 138.\n",
      "The lowest SNR = 5.0015351968853565.\n",
      "The lowest SNR = 5.0015351968853565.\n",
      "The highest SNR = 53.68491271239472.\n",
      "The highest SNR = 53.68491271239472.\n",
      "Number of SNR bins = 6.\n",
      "Number of SNR bins = 6.\n",
      "Edges of SNR bins = [  3.98107171   7.07945784  12.58925412  22.38721139  39.81071706\n",
      "  70.79457844 125.89254118].\n",
      "Edges of SNR bins = [  3.98107171   7.07945784  12.58925412  22.38721139  39.81071706\n",
      "  70.79457844 125.89254118].\n",
      "Loading files describing selection function.\n",
      "Loading files describing selection function.\n",
      "Reading Q as a function of theta.\n",
      "Reading Q as a function of theta.\n",
      "Reading in binned Q function from file.\n",
      "Reading in binned Q function from file.\n",
      "Reading RMS.\n",
      "Reading RMS.\n",
      "Reading in binned RMS table from file.\n",
      "Reading in binned RMS table from file.\n",
      "Number of rms bins = 5.\n",
      "Number of rms bins = 5.\n",
      "Number of Q functions = 5.\n",
      "Number of Q functions = 5.\n",
      "Entire survey area = 13211.395702126332 deg2.\n",
      "Entire survey area = 13211.395702126332 deg2.\n"
     ]
    },
    {
     "name": "stdout",
     "output_type": "stream",
     "text": [
      "../../../../../data/DR5ClusterSearch/selFn/QFitdwsmpld_nbins=5.npz\n",
      "False\n",
      "False\n",
      " Nz for higher resolution =  249\n",
      "0 1517.2563411483504\n",
      "1 696.2387993079161\n",
      "2 104.11361156050228\n",
      "3 9.71837256406774\n"
     ]
    },
    {
     "name": "stderr",
     "output_type": "stream",
     "text": [
      "Number of clusters in redshift bin 0: 19.03005096447916.\n",
      "Number of clusters in redshift bin 0: 19.03005096447916.\n",
      "Number of clusters in redshift bin 1: 182.1444676952088.\n",
      "Number of clusters in redshift bin 1: 182.1444676952088.\n",
      "Number of clusters in redshift bin 2: 333.4504144137944.\n",
      "Number of clusters in redshift bin 2: 333.4504144137944.\n",
      "Number of clusters in redshift bin 3: 381.6691387352821.\n",
      "Number of clusters in redshift bin 3: 381.6691387352821.\n",
      "Number of clusters in redshift bin 4: 358.03974057663055.\n",
      "Number of clusters in redshift bin 4: 358.03974057663055.\n",
      "Number of clusters in redshift bin 5: 300.2054482705682.\n",
      "Number of clusters in redshift bin 5: 300.2054482705682.\n",
      "Number of clusters in redshift bin 6: 233.5140683713308.\n",
      "Number of clusters in redshift bin 6: 233.5140683713308.\n",
      "Number of clusters in redshift bin 7: 171.79036506921184.\n",
      "Number of clusters in redshift bin 7: 171.79036506921184.\n",
      "Number of clusters in redshift bin 8: 120.9148005078851.\n",
      "Number of clusters in redshift bin 8: 120.9148005078851.\n",
      "Number of clusters in redshift bin 9: 82.05206693444826.\n",
      "Number of clusters in redshift bin 9: 82.05206693444826.\n",
      "Number of clusters in redshift bin 10: 54.68523995292617.\n",
      "Number of clusters in redshift bin 10: 54.68523995292617.\n",
      "Number of clusters in redshift bin 11: 35.089063261567205.\n",
      "Number of clusters in redshift bin 11: 35.089063261567205.\n",
      "Number of clusters in redshift bin 12: 21.988133122360708.\n",
      "Number of clusters in redshift bin 12: 21.988133122360708.\n",
      "Number of clusters in redshift bin 13: 13.491586911763994.\n",
      "Number of clusters in redshift bin 13: 13.491586911763994.\n",
      "Number of clusters in redshift bin 14: 8.127363806103304.\n",
      "Number of clusters in redshift bin 14: 8.127363806103304.\n",
      "Number of clusters in redshift bin 15: 4.820777283159958.\n",
      "Number of clusters in redshift bin 15: 4.820777283159958.\n",
      "Number of clusters in redshift bin 16: 2.8242796461563424.\n",
      "Number of clusters in redshift bin 16: 2.8242796461563424.\n",
      "Number of clusters in redshift bin 17: 1.6398496265753406.\n",
      "Number of clusters in redshift bin 17: 1.6398496265753406.\n",
      "Number of clusters in redshift bin 18: 0.9477524549753394.\n",
      "Number of clusters in redshift bin 18: 0.9477524549753394.\n",
      "Number of clusters in redshift bin 19: 0.5482631537877283.\n",
      "Number of clusters in redshift bin 19: 0.5482631537877283.\n",
      "Number of clusters in redshift bin 20: 0.3196094346404393.\n",
      "Number of clusters in redshift bin 20: 0.3196094346404393.\n",
      "Number of clusters in redshift bin 21: 0.18916661718961245.\n",
      "Number of clusters in redshift bin 21: 0.18916661718961245.\n",
      "Number of clusters in redshift bin 22: 0.11449404095931863.\n",
      "Number of clusters in redshift bin 22: 0.11449404095931863.\n",
      "Number of clusters in redshift bin 23: 0.07128007597702109.\n",
      "Number of clusters in redshift bin 23: 0.07128007597702109.\n",
      "Number of clusters in redshift bin 24: 0.04581055523951839.\n",
      "Number of clusters in redshift bin 24: 0.04581055523951839.\n",
      "Number of clusters in redshift bin 25: 0.030403967544014563.\n",
      "Number of clusters in redshift bin 25: 0.030403967544014563.\n",
      "Number of clusters in redshift bin 26: 0.020776212961889706.\n",
      "Number of clusters in redshift bin 26: 0.020776212961889706.\n",
      "Number of clusters in redshift bin 27: 0.014539163357194384.\n",
      "Number of clusters in redshift bin 27: 0.014539163357194384.\n",
      "Total predicted 2D N = 2327.778950826085.\n",
      "Total predicted 2D N = 2327.778950826085.\n",
      "Theory N calculation took 29.33384084701538 seconds.\n",
      "Theory N calculation took 29.33384084701538 seconds.\n"
     ]
    },
    {
     "name": "stdout",
     "output_type": "stream",
     "text": [
      "4 0.44476631361709307\n",
      "5 0.007059931630231669\n",
      "\r",
      " Total predicted 2D N =  2327.778950826085\n",
      "\r",
      " ::: 2D ln likelihood =  291.3318164364894\n"
     ]
    },
    {
     "data": {
      "text/plain": [
       "array([-291.33181644])"
      ]
     },
     "execution_count": 4,
     "metadata": {},
     "output_type": "execute_result"
    }
   ],
   "source": [
    "params = {\n",
    "    'h': 0.68,\n",
    "    'n_s': 0.965,\n",
    "    'Omega_b': 0.049,      \n",
    "    'Omega_c': 0.26, \n",
    "    'sigma8': 0.81,\n",
    "    'tenToA0': 4.35e-5,\n",
    "    'B0': 0.08,\n",
    "    'scatter_sz': 0.,\n",
    "    'bias_sz': 1.,\n",
    "    'm_nu': 0.0,\n",
    "    'C0': 2.\n",
    "\n",
    "}\n",
    "\n",
    "path2data = '../../../../../data/'\n",
    "\n",
    "info = {\n",
    "    'params': params,\n",
    "    'likelihood': {'soliket.BinnedClusterLikelihood': {\n",
    "    'verbose': True,\n",
    "    'data': {\n",
    "        'data_path': path2data,\n",
    "        'cat_file': \"DR5_cluster-catalog_v1.1.fits\",\n",
    "        'Q_file': \"DR5ClusterSearch/selFn/QFit.fits\",\n",
    "        'tile_file': \"DR5ClusterSearch/selFn/tileAreas.txt\",\n",
    "        'rms_file': \"DR5ClusterSearch/selFn/RMSTab.fits\"\n",
    "    },\n",
    "    'theorypred': {\n",
    "        'choose_theory': \"CCL\",\n",
    "        'massfunc_mode': 'ccl',\n",
    "        'choose_dim': \"2D\",\n",
    "        'compl_mode': 'erf_diff',\n",
    "        'md_hmf': '200m',\n",
    "        'md_ym': '500c'\n",
    "        \n",
    "    },\n",
    "    'YM': {\n",
    "        'Mpivot': 3e14\n",
    "    },\n",
    "    'selfunc': {\n",
    "        'SNRcut': 5.,\n",
    "        'single_tile_test': \"no\",\n",
    "        'mode': 'downsample',\n",
    "        'dwnsmpl_bins': 5,\n",
    "        'save_dwsmpld': True,\n",
    "        'average_Q': False\n",
    "    },\n",
    "    'binning': {\n",
    "        'z': {\n",
    "            # redshift setting\n",
    "            'zmin': 0.,\n",
    "            'zmax': 2.8,\n",
    "            'dz': 0.1\n",
    "        },\n",
    "        'q': {\n",
    "            # SNR setting\n",
    "            'log10qmin': 0.6,\n",
    "            'log10qmax': 2.0,\n",
    "            'dlog10q': 0.25\n",
    "        },\n",
    "        'M': {\n",
    "            # mass setting\n",
    "            'Mmin': 1e13,\n",
    "            'Mmax': 1e16,\n",
    "            'dlogM': 0.05\n",
    "        }\n",
    "    }\n",
    "    }},\n",
    "    'theory': {'soliket.binned_clusters.CCL': \n",
    "               {'transfer_function': 'boltzmann_camb',\n",
    "                'matter_pk': 'halofit',\n",
    "                'baryons_pk': 'nobaryons',\n",
    "                'md_hmf': '200m'}}\n",
    "}\n",
    "\n",
    "\n",
    "# initialisation \n",
    "model = get_model(info)\n",
    "like = model.likelihood['soliket.BinnedClusterLikelihood']\n",
    "\n",
    "model.loglikes({})[0]"
   ]
  },
  {
   "cell_type": "code",
   "execution_count": 4,
   "metadata": {},
   "outputs": [],
   "source": [
    "pk_intp = like.theory.get_Pk_interpolator((\"delta_nonu\", \"delta_nonu\"), nonlinear=False)\n",
    "SZparams = {\n",
    "    'tenToA0': 4.35e-5,\n",
    "    'B0': 0.08,\n",
    "    'C0': 2.,\n",
    "    'scatter_sz': 0.,\n",
    "    'bias_sz': 1.  \n",
    "}"
   ]
  },
  {
   "cell_type": "code",
   "execution_count": 5,
   "metadata": {},
   "outputs": [
    {
     "name": "stdout",
     "output_type": "stream",
     "text": [
      "0 1517.2563411483507\n",
      "1 696.2387993079161\n",
      "2 104.11361156050228\n",
      "3 9.71837256406774\n",
      "4 0.44476631361709307\n",
      "5 0.007059931630231669\n",
      " Total predicted 2D N =  2327.778950826085\n"
     ]
    }
   ],
   "source": [
    "Nzq = like._get_theory(pk_intp, **SZparams)\n",
    "z, q, catNzq = like.delN2Dcat\n",
    "\n",
    "Nq_ccl = np.zeros(len(q))\n",
    "catNq_ccl = np.zeros(len(q))\n",
    "for i in range(len(q)):\n",
    "    Nq_ccl[i] = Nzq[:,i].sum()    \n",
    "    catNq_ccl[i] = catNzq[:,i].sum()"
   ]
  },
  {
   "cell_type": "code",
   "execution_count": 6,
   "metadata": {},
   "outputs": [
    {
     "name": "stdout",
     "output_type": "stream",
     "text": [
      "[camb] `camb` module loaded successfully from /Users/andrina/opt/miniconda3/envs/actxdes_venv/lib/python3.7/site-packages/camb\n",
      " Nz for higher resolution =  249\n",
      "0 1514.66493026296\n",
      "1 694.8402010528979\n",
      "2 103.94954263066289\n",
      "3 9.724771671699106\n",
      "4 0.4476669171400141\n",
      "5 0.007202742800105421\n",
      " Total predicted 2D N =  2323.6343152781606\n",
      " ::: 2D ln likelihood =  291.6657098152746\n"
     ]
    },
    {
     "data": {
      "text/plain": [
       "array([-291.66570982])"
      ]
     },
     "execution_count": 6,
     "metadata": {},
     "output_type": "execute_result"
    }
   ],
   "source": [
    "params = {\n",
    "    'cosmomc_theta': 0.0104135,\n",
    "    'ns': 0.965,\n",
    "    'ombh2': 0.0226576,      \n",
    "    'omch2': 0.1206864, \n",
    "    'As': 2.022662e-9,\n",
    "    'tenToA0': 4.35e-5,\n",
    "    'B0': 0.08,\n",
    "    'scatter_sz': 0.,\n",
    "    'bias_sz': 1.,\n",
    "    'tau': 0.055,\n",
    "    'mnu': 0.0,\n",
    "    'nnu': 3.046,\n",
    "    'omnuh2': 0.,\n",
    "    'w': -1,\n",
    "    \n",
    "    'C0': 2.\n",
    "\n",
    "}\n",
    "\n",
    "path2data = path2data\n",
    "\n",
    "info = {\n",
    "    'params': params,\n",
    "    'likelihood': {'soliket.BinnedClusterLikelihood': {\n",
    "    'verbose': False,\n",
    "    'data': {\n",
    "        'data_path': path2data,\n",
    "        'cat_file': \"DR5_cluster-catalog_v1.1.fits\",\n",
    "        'Q_file': \"DR5ClusterSearch/selFn/QFit.fits\",\n",
    "        'tile_file': \"DR5ClusterSearch/selFn/tileAreas.txt\",\n",
    "        'rms_file': \"DR5ClusterSearch/selFn/RMSTab.fits\"\n",
    "    },\n",
    "    'theorypred': {\n",
    "        'choose_theory': \"camb\",\n",
    "        'massfunc_mode': 'internal',\n",
    "        'choose_dim': \"2D\",\n",
    "        'compl_mode': 'erf_diff',\n",
    "        'md_hmf': '200m',\n",
    "        'md_ym': '500c'\n",
    "        \n",
    "    },\n",
    "    'YM': {\n",
    "        'Mpivot': 3e14\n",
    "    },\n",
    "    'selfunc': {\n",
    "        'SNRcut': 5.,\n",
    "        'single_tile_test': \"no\",\n",
    "        'mode': 'downsample',\n",
    "        'dwnsmpl_bins': 5,\n",
    "        'average_Q': False\n",
    "    },\n",
    "    'binning': {\n",
    "        'z': {\n",
    "            # redshift setting\n",
    "            'zmin': 0.,\n",
    "            'zmax': 2.8,\n",
    "            'dz': 0.1\n",
    "        },\n",
    "        'q': {\n",
    "            # SNR setting\n",
    "            'log10qmin': 0.6,\n",
    "            'log10qmax': 2.0,\n",
    "            'dlog10q': 0.25\n",
    "        },\n",
    "        'M': {\n",
    "            # mass setting\n",
    "            'Mmin': 1e13,\n",
    "            'Mmax': 1e16,\n",
    "            'dlogM': 0.05\n",
    "        }\n",
    "    }\n",
    "    }},\n",
    "    'theory': {'camb': {'extra_args': {'num_massive_neutrinos': 0}}}\n",
    "}\n",
    "\n",
    "\n",
    "# initialisation \n",
    "model = get_model(info)\n",
    "like = model.likelihood['soliket.BinnedClusterLikelihood']\n",
    "\n",
    "model.loglikes({})[0]"
   ]
  },
  {
   "cell_type": "code",
   "execution_count": 7,
   "metadata": {},
   "outputs": [],
   "source": [
    "pk_intp = like.theory.get_Pk_interpolator((\"delta_nonu\", \"delta_nonu\"), nonlinear=False)\n",
    "SZparams = {\n",
    "    'tenToA0': 4.35e-5,\n",
    "    'B0': 0.08,\n",
    "    'C0': 2.,\n",
    "    'scatter_sz': 0.,\n",
    "    'bias_sz': 1.  \n",
    "}"
   ]
  },
  {
   "cell_type": "code",
   "execution_count": 8,
   "metadata": {},
   "outputs": [
    {
     "name": "stdout",
     "output_type": "stream",
     "text": [
      "0 1514.66493026296\n",
      "1 694.8402010528979\n",
      "2 103.94954263066289\n",
      "3 9.724771671699106\n",
      "4 0.4476669171400141\n",
      "5 0.007202742800105421\n",
      " Total predicted 2D N =  2323.6343152781606\n"
     ]
    }
   ],
   "source": [
    "Nzq = like._get_theory(pk_intp, **SZparams)\n",
    "z, q, catNzq = like.delN2Dcat\n",
    "\n",
    "Nq = np.zeros(len(q))\n",
    "catNq = np.zeros(len(q))\n",
    "for i in range(len(q)):\n",
    "    Nq[i] = Nzq[:,i].sum()    \n",
    "    catNq[i] = catNzq[:,i].sum()"
   ]
  },
  {
   "cell_type": "code",
   "execution_count": 9,
   "metadata": {},
   "outputs": [],
   "source": [
    "color_list = plt.cm.magma(np.linspace(0.1,0.8,13))"
   ]
  },
  {
   "cell_type": "code",
   "execution_count": 10,
   "metadata": {},
   "outputs": [
    {
     "data": {
      "image/png": "[encoded data removed]",
      "text/plain": [
       "<Figure size 576x432 with 1 Axes>"
      ]
     },
     "metadata": {
      "needs_background": "light"
     },
     "output_type": "display_data"
    }
   ],
   "source": [
    "plt.figure(figsize=(8,6))\n",
    "plt.plot(q, Nq, color=color_list[2], label='CAMB prediction, nbins=5')\n",
    "plt.plot(q, Nq_ccl, color=color_list[6], label='CCL prediction, nbins=5')\n",
    "plt.errorbar(q, catNq, yerr=np.sqrt(catNq), color='black', fmt='o', ms=3, capsize=5, capthick=2, ls='none', label='mock catalogue')\n",
    "plt.xlabel('signal-to-noise $q$', fontsize=14)\n",
    "plt.ylabel('$N$', fontsize=14)\n",
    "plt.xscale('log')\n",
    "plt.yscale('log')\n",
    "plt.xticks(fontsize=14)\n",
    "plt.yticks(fontsize=14)\n",
    "plt.legend(fontsize=14)\n",
    "plt.grid()\n",
    "plt.show()"
   ]
  },
  {
   "cell_type": "code",
   "execution_count": 11,
   "metadata": {},
   "outputs": [
    {
     "data": {
      "image/png": "[encoded data removed]",
      "text/plain": [
       "<Figure size 432x288 with 1 Axes>"
      ]
     },
     "metadata": {
      "needs_background": "light"
     },
     "output_type": "display_data"
    }
   ],
   "source": [
    "plt.semilogx(q, Nq_ccl/Nq, color=color_list[6])\n",
    "plt.xlabel('signal-to-noise $q$', fontsize=14)\n",
    "plt.ylabel('$N_{CCL}/N_{CAMB}$', fontsize=14)\n",
    "plt.show()"
   ]
  },
  {
   "cell_type": "code",
   "execution_count": null,
   "metadata": {},
   "outputs": [],
   "source": []
  }
 ],
 "metadata": {
  "kernelspec": {
   "display_name": "clusters_env",
   "language": "python",
   "name": "clusters_env"
  },
  "language_info": {
   "codemirror_mode": {
    "name": "ipython",
    "version": 3
   },
   "file_extension": ".py",
   "mimetype": "text/x-python",
   "name": "python",
   "nbconvert_exporter": "python",
   "pygments_lexer": "ipython3",
   "version": "3.10.5"
  }
 },
 "nbformat": 4,
 "nbformat_minor": 4
}
